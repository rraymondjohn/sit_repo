{
 "cells": [
  {
   "cell_type": "markdown",
   "metadata": {},
   "source": [
    "# ICT1508C Applied Statistics\n",
    "\n",
    "*Inferential Statistics Using Python*\n",
    "\n",
    ">Filename:     &emsp;&emsp;`ICT1508C_Topic06-5_Py-Inferential-Stats_Lesson_v2025-1.3.ipynb`<br>\n",
    ">Version:      &emsp;&emsp;&ensp; `2025-1.3`<br>\n",
    ">Description:  &ensp;&ensp;Jupyter notebook for ICT1508C lesson on Inferential Statistics Using Python.<br>\n",
    ">Module:       &emsp;&emsp;&ensp;ICT1508C<br>\n",
    ">Type:         &emsp;&emsp;&emsp;&ensp; Lesson<br>\n",
    ">Prepared by:  &ensp;Nicholas H L Wong<br>\n",
    ">Organisation: &nbsp;Singapore Institute of Technology<br>\n",
    ">Division:     &emsp;&emsp;&ensp;Infocomm Technology<br>\n",
    ">Attribution:  &emsp;Copyright &copy; 2025 Nicholas H L Wong – All Rights Reserved<br>"
   ]
  },
  {
   "cell_type": "markdown",
   "metadata": {},
   "source": [
    "## Setup"
   ]
  },
  {
   "cell_type": "code",
   "execution_count": 2,
   "metadata": {},
   "outputs": [],
   "source": [
    "# Import necessary packages\n",
    "import pandas as pd\n",
    "import numpy as np\n",
    "from scipy import stats\n",
    "import matplotlib.pyplot as plt"
   ]
  },
  {
   "cell_type": "markdown",
   "metadata": {},
   "source": [
    "## Sampling and Sampling Distributions"
   ]
  },
  {
   "cell_type": "markdown",
   "metadata": {},
   "source": [
    "A feature in a population is normally distributed and has a mean of 85 and a standard deviation of 9. You select a random sample of size 13."
   ]
  },
  {
   "cell_type": "code",
   "execution_count": 3,
   "metadata": {},
   "outputs": [],
   "source": [
    "mu = 85\n",
    "sigma = 9\n",
    "n = 13"
   ]
  },
  {
   "cell_type": "markdown",
   "metadata": {},
   "source": [
    "#### Q: Plot the sampling distribution."
   ]
  },
  {
   "cell_type": "markdown",
   "metadata": {},
   "source": [
    "Recall that according to the central limit theorem, the sample mean and sample standard deviation are respectively related to the population mean and population standard deviation by\n",
    "$$\n",
    "    \\overline{x} = \\mu,\\quad s = \\frac{\\sigma}{\\sqrt{n}}.\n",
    "$$\n",
    "\n",
    "Even though $n$ is small, we know that the sampling distribution with be normal because the population is normally distributed."
   ]
  },
  {
   "cell_type": "code",
   "execution_count": 4,
   "metadata": {},
   "outputs": [],
   "source": [
    "xbar = mu                           # Sample mean\n",
    "s = sigma / np.sqrt(n)              # Sample standard deviation\n",
    "\n",
    "# Create the distribution.\n",
    "# Remember that `scale` is standard deviation, not variance.\n",
    "sampling_dist = stats.norm(loc=xbar, scale=s)\n",
    "\n",
    "x_arr = np.linspace(xbar-6*s, xbar+6*s, 1000)       # Array of values of the random variable (for plotting)"
   ]
  },
  {
   "cell_type": "code",
   "execution_count": 5,
   "metadata": {},
   "outputs": [
    {
     "data": {
      "image/png": "[encoded data removed]",
      "text/plain": [
       "<Figure size 500x300 with 1 Axes>"
      ]
     },
     "metadata": {},
     "output_type": "display_data"
    }
   ],
   "source": [
    "# Create a figure and grab the axis handle\n",
    "fig, ax = plt.subplots(1, 1, figsize=(5, 3))\n",
    "\n",
    "# Plot the probability distribution\n",
    "ax.plot(x_arr, sampling_dist.pdf(x_arr), 'b-', lw=2)\n",
    "ax.set_xlabel('Random variable of feature')\n",
    "ax.set_ylabel('Probability')\n",
    "ax.set_title('Sampling distribution')\n",
    "ax.grid()\n",
    "plt.show()"
   ]
  },
  {
   "cell_type": "markdown",
   "metadata": {},
   "source": [
    "#### Q: Calculate the probability that the sample mean is less than 80."
   ]
  },
  {
   "cell_type": "code",
   "execution_count": 6,
   "metadata": {},
   "outputs": [
    {
     "data": {
      "text/plain": [
       "np.float64(0.022584134277520432)"
      ]
     },
     "execution_count": 6,
     "metadata": {},
     "output_type": "execute_result"
    }
   ],
   "source": [
    "x = 80\n",
    "pr = sampling_dist.cdf(x)\n",
    "pr"
   ]
  },
  {
   "cell_type": "markdown",
   "metadata": {},
   "source": [
    "#### Q: Calculate the probability that the sample mean is at least 89."
   ]
  },
  {
   "cell_type": "code",
   "execution_count": 7,
   "metadata": {},
   "outputs": [
    {
     "data": {
      "text/plain": [
       "np.float64(0.054526163824265006)"
      ]
     },
     "execution_count": 7,
     "metadata": {},
     "output_type": "execute_result"
    }
   ],
   "source": [
    "x = 89\n",
    "pr = 1 - sampling_dist.cdf(x)\n",
    "pr"
   ]
  },
  {
   "cell_type": "markdown",
   "metadata": {},
   "source": [
    "#### Q: Calculate the probability that the sample mean is between 80 and 89."
   ]
  },
  {
   "cell_type": "code",
   "execution_count": 8,
   "metadata": {},
   "outputs": [
    {
     "data": {
      "text/plain": [
       "0.9228897018982145"
      ]
     },
     "execution_count": 8,
     "metadata": {},
     "output_type": "execute_result"
    }
   ],
   "source": [
    "x1, x2 = 80, 89\n",
    "pr = np.diff(sampling_dist.cdf([x1, x2])).item()\n",
    "pr"
   ]
  },
  {
   "cell_type": "markdown",
   "metadata": {},
   "source": [
    "#### Q: What is the maximum value of the feature, below which are 15% of observations?"
   ]
  },
  {
   "cell_type": "code",
   "execution_count": 9,
   "metadata": {},
   "outputs": [
    {
     "data": {
      "text/plain": [
       "np.float64(82.41290587963037)"
      ]
     },
     "execution_count": 9,
     "metadata": {},
     "output_type": "execute_result"
    }
   ],
   "source": [
    "pr = 0.15\n",
    "sampling_dist.ppf(pr)"
   ]
  },
  {
   "cell_type": "markdown",
   "metadata": {},
   "source": [
    "## Confidence Intervals"
   ]
  },
  {
   "cell_type": "markdown",
   "metadata": {},
   "source": [
    "Mrs Kenobi is concerned about absenteeism among her bakery workers at various locations. She takes a sample 10 workers and finds the following numbers of days absent: 4, 1, 2, 2, 1, 2, 2, 1, 0, 3. She wants to determine the 95% confidence interval for the mean number of absent days of all workers."
   ]
  },
  {
   "cell_type": "code",
   "execution_count": 10,
   "metadata": {},
   "outputs": [],
   "source": [
    "x_arr = np.array([4, 1, 2, 2, 1, 2, 2, 1, 0, 3])\n",
    "n = len(x_arr)\n",
    "CL = 0.95\n",
    "alpha = 1 - CL"
   ]
  },
  {
   "cell_type": "code",
   "execution_count": 11,
   "metadata": {},
   "outputs": [],
   "source": [
    "xbar = x_arr.mean()\n",
    "s = x_arr.std(ddof=1)"
   ]
  },
  {
   "cell_type": "markdown",
   "metadata": {},
   "source": [
    "#### Q: Determine the 95% confidence interval, *assuming that the population is normally distributed*."
   ]
  },
  {
   "cell_type": "markdown",
   "metadata": {},
   "source": [
    "Since the population is normally distributed, we can assume that the sample is also normally distributed, regardless of the sample size."
   ]
  },
  {
   "cell_type": "code",
   "execution_count": 12,
   "metadata": {},
   "outputs": [
    {
     "data": {
      "text/plain": [
       "(np.float64(1.0963513951469193), np.float64(2.5036486048530806))"
      ]
     },
     "execution_count": 12,
     "metadata": {},
     "output_type": "execute_result"
    }
   ],
   "source": [
    "z_dist = stats.norm(loc=xbar, scale=s/np.sqrt(n))       # Normal distribution\n",
    "z_dist.interval(CL)                                     # Confidence interval"
   ]
  },
  {
   "cell_type": "markdown",
   "metadata": {},
   "source": [
    "We can also manually calculate the confidence interval:\n",
    "$$\n",
    "    \\overline{x} \\pm z_{\\alpha/2}\\frac{s}{\\sqrt{n}}.\n",
    "$$"
   ]
  },
  {
   "cell_type": "code",
   "execution_count": 13,
   "metadata": {},
   "outputs": [
    {
     "data": {
      "text/plain": [
       "(np.float64(1.0963513951469193), np.float64(2.5036486048530806))"
      ]
     },
     "execution_count": 13,
     "metadata": {},
     "output_type": "execute_result"
    }
   ],
   "source": [
    "z = stats.norm.ppf(1-alpha/2)\n",
    "E = z*s/np.sqrt(n)                  # Margin of error\n",
    "(xbar-E, xbar+E)"
   ]
  },
  {
   "cell_type": "markdown",
   "metadata": {},
   "source": [
    "#### Q: Determine the 95% confidence interval, *without assuming anything about the population distribution*."
   ]
  },
  {
   "cell_type": "markdown",
   "metadata": {},
   "source": [
    "Since we do not know what the population distribution is, we will base our sampling distribution according to the sample size. Given the small sample size, we model the sample with a t distribution."
   ]
  },
  {
   "cell_type": "code",
   "execution_count": 14,
   "metadata": {},
   "outputs": [
    {
     "data": {
      "text/plain": [
       "(np.float64(0.9878607238927247), np.float64(2.6121392761072753))"
      ]
     },
     "execution_count": 14,
     "metadata": {},
     "output_type": "execute_result"
    }
   ],
   "source": [
    "t_dist = stats.t(df=n-1, loc=xbar, scale=s/np.sqrt(n))  # t distribution\n",
    "t_dist.interval(CL)"
   ]
  },
  {
   "cell_type": "markdown",
   "metadata": {},
   "source": [
    "We can also manually calculate the confidence interval:\n",
    "$$\n",
    "    \\overline{x} \\pm t_{\\alpha/2,\\,\\mathrm{df}}\\frac{s}{\\sqrt{n}}.\n",
    "$$"
   ]
  },
  {
   "cell_type": "code",
   "execution_count": 15,
   "metadata": {},
   "outputs": [
    {
     "data": {
      "text/plain": [
       "(np.float64(0.9878607238927246), np.float64(2.6121392761072757))"
      ]
     },
     "execution_count": 15,
     "metadata": {},
     "output_type": "execute_result"
    }
   ],
   "source": [
    "t = stats.t.ppf(1-alpha/2, df=n-1)\n",
    "E = t*s/np.sqrt(n)\n",
    "(xbar-E, xbar+E)"
   ]
  },
  {
   "cell_type": "markdown",
   "metadata": {},
   "source": [
    "## Hypothesis Testing"
   ]
  },
  {
   "cell_type": "markdown",
   "metadata": {},
   "source": [
    "### One Sample | Small Sample Size"
   ]
  },
  {
   "cell_type": "markdown",
   "metadata": {},
   "source": [
    "A toy designer wants to determine the average time taken for an adult to assemble a toy. 24 people were randomly chosen to assemble the toy and the times taken (in minutes) were as follows:\n",
    "\n",
    "17, 13, 18, 19, 17, 21, 29, 22, 16, 28, 21, 15, 26, 23, 24, 20, 8, 17, 17, 21, 32, 18, 25, 22"
   ]
  },
  {
   "cell_type": "code",
   "execution_count": 16,
   "metadata": {},
   "outputs": [],
   "source": [
    "x_arr = np.array([17, 13, 18, 19, 17, 21, 29, 22, 16, 28, 21, 15, 26, 23, 24, 20, 8, 17, 17, 21, 32, 18, 25, 22])\n",
    "n = len(x_arr)                          # Sample size"
   ]
  },
  {
   "cell_type": "markdown",
   "metadata": {},
   "source": [
    "#### Q: Use hypothesis testing to infer whether the average time for an adult to assemble the toy is more than 18 minutes, with a 5% significance level."
   ]
  },
  {
   "cell_type": "code",
   "execution_count": 17,
   "metadata": {},
   "outputs": [],
   "source": [
    "mu_0 = 18\n",
    "alpha = 0.05                            # Significance level"
   ]
  },
  {
   "cell_type": "markdown",
   "metadata": {},
   "source": [
    "We formulate the null and alternative hypotheses:\n",
    "$$\n",
    "  \\begin{align*}\n",
    "    H_0\\, &:\\, \\mu \\leq 18 \\\\\n",
    "    H_a\\, &:\\, \\mu > 18\n",
    "  \\end{align*}\n",
    "$$"
   ]
  },
  {
   "cell_type": "markdown",
   "metadata": {},
   "source": [
    "Perform the test:"
   ]
  },
  {
   "cell_type": "code",
   "execution_count": 18,
   "metadata": {},
   "outputs": [
    {
     "data": {
      "text/plain": [
       "TtestResult(statistic=np.float64(2.169337877760375), pvalue=np.float64(0.020319811526100403), df=np.int64(23))"
      ]
     },
     "execution_count": 18,
     "metadata": {},
     "output_type": "execute_result"
    }
   ],
   "source": [
    "test = stats.ttest_1samp(x_arr, popmean=mu_0, alternative='greater')\n",
    "test"
   ]
  },
  {
   "cell_type": "code",
   "execution_count": 19,
   "metadata": {},
   "outputs": [
    {
     "data": {
      "text/plain": [
       "np.True_"
      ]
     },
     "execution_count": 19,
     "metadata": {},
     "output_type": "execute_result"
    }
   ],
   "source": [
    "test.pvalue < alpha"
   ]
  },
  {
   "cell_type": "markdown",
   "metadata": {},
   "source": [
    "Since $p\\approx0.0203 < \\alpha=0.05$, we reject $H_0$ in favour of $H_a$.\n",
    "\n",
    "At the 5% significance level, the average time for an adult to assemble the toy is more than 18 minutes."
   ]
  },
  {
   "cell_type": "markdown",
   "metadata": {},
   "source": [
    "We can also manually work this out. First, we calculate the $t$-statistic:\n",
    "$$\n",
    "  t = \\frac{\\overline{x}-\\mu_0}{\\frac{s}{\\sqrt{n}}}\n",
    "$$"
   ]
  },
  {
   "cell_type": "code",
   "execution_count": 20,
   "metadata": {},
   "outputs": [
    {
     "data": {
      "text/plain": [
       "np.float64(2.1693378777603747)"
      ]
     },
     "execution_count": 20,
     "metadata": {},
     "output_type": "execute_result"
    }
   ],
   "source": [
    "t = (x_arr.mean()-mu_0) / (x_arr.std(ddof=1)/np.sqrt(n))\n",
    "t"
   ]
  },
  {
   "cell_type": "markdown",
   "metadata": {},
   "source": [
    "Next, we find the critical $t$-value accoring to the significance level and degrees of freedom. *This would be analogous to looking up the t table.*"
   ]
  },
  {
   "cell_type": "code",
   "execution_count": 21,
   "metadata": {},
   "outputs": [
    {
     "data": {
      "text/plain": [
       "np.float64(1.7138715277470473)"
      ]
     },
     "execution_count": 21,
     "metadata": {},
     "output_type": "execute_result"
    }
   ],
   "source": [
    "t_c = stats.t.ppf(1-alpha, df=n-1)      # Right-tailed\n",
    "t_c"
   ]
  },
  {
   "cell_type": "code",
   "execution_count": 22,
   "metadata": {},
   "outputs": [
    {
     "data": {
      "text/plain": [
       "np.True_"
      ]
     },
     "execution_count": 22,
     "metadata": {},
     "output_type": "execute_result"
    }
   ],
   "source": [
    "t > t_c"
   ]
  },
  {
   "cell_type": "markdown",
   "metadata": {},
   "source": [
    "Since $t > t_c$, we are in the (right-tailed) rejection region. So, we reject $H_0$ in favour of $H_a$ (arriving at the same conclusion)."
   ]
  },
  {
   "cell_type": "markdown",
   "metadata": {},
   "source": [
    "#### Q: Use hypothesis testing to infer whether the average time for an adult to assemble the toy is less than 20 minutes, with a 1% significance level."
   ]
  },
  {
   "cell_type": "code",
   "execution_count": 23,
   "metadata": {},
   "outputs": [],
   "source": [
    "mu_0 = 20\n",
    "alpha = 0.01                            # Significance level"
   ]
  },
  {
   "cell_type": "markdown",
   "metadata": {},
   "source": [
    "We formulate the null and alternative hypotheses:\n",
    "$$\n",
    "  \\begin{align*}\n",
    "    H_0\\, &:\\, \\mu \\geq 20 \\\\\n",
    "    H_a\\, &:\\, \\mu < 20\n",
    "  \\end{align*}\n",
    "$$"
   ]
  },
  {
   "cell_type": "markdown",
   "metadata": {},
   "source": [
    "Perform the test:"
   ]
  },
  {
   "cell_type": "code",
   "execution_count": 24,
   "metadata": {},
   "outputs": [
    {
     "data": {
      "text/plain": [
       "TtestResult(statistic=np.float64(0.34252703333058554), pvalue=np.float64(0.6324675762961243), df=np.int64(23))"
      ]
     },
     "execution_count": 24,
     "metadata": {},
     "output_type": "execute_result"
    }
   ],
   "source": [
    "test = stats.ttest_1samp(x_arr, popmean=mu_0, alternative='less')\n",
    "test"
   ]
  },
  {
   "cell_type": "code",
   "execution_count": 25,
   "metadata": {},
   "outputs": [
    {
     "data": {
      "text/plain": [
       "np.False_"
      ]
     },
     "execution_count": 25,
     "metadata": {},
     "output_type": "execute_result"
    }
   ],
   "source": [
    "test.pvalue < alpha"
   ]
  },
  {
   "cell_type": "markdown",
   "metadata": {},
   "source": [
    "Since $p\\approx0.6325 > \\alpha=0.01$, we fail to reject $H_0$.\n",
    "\n",
    "At the 1% significance level, there is insufficient evidence that the average time for an adult to assemble the toy is less than 20 minutes."
   ]
  },
  {
   "cell_type": "markdown",
   "metadata": {},
   "source": [
    "We can also manually work this out. First, we calculate the $t$-statistic:\n",
    "$$\n",
    "  t = \\frac{\\overline{x}-\\mu_0}{\\frac{s}{\\sqrt{n}}}\n",
    "$$"
   ]
  },
  {
   "cell_type": "code",
   "execution_count": 26,
   "metadata": {},
   "outputs": [
    {
     "data": {
      "text/plain": [
       "np.float64(0.34252703333058543)"
      ]
     },
     "execution_count": 26,
     "metadata": {},
     "output_type": "execute_result"
    }
   ],
   "source": [
    "t = (x_arr.mean()-mu_0) / (x_arr.std(ddof=1)/np.sqrt(n))\n",
    "t"
   ]
  },
  {
   "cell_type": "markdown",
   "metadata": {},
   "source": [
    "Next, we find the critical $t$-value accoring to the significance level and degrees of freedom."
   ]
  },
  {
   "cell_type": "code",
   "execution_count": 27,
   "metadata": {},
   "outputs": [
    {
     "data": {
      "text/plain": [
       "np.float64(-2.4998667394943985)"
      ]
     },
     "execution_count": 27,
     "metadata": {},
     "output_type": "execute_result"
    }
   ],
   "source": [
    "t_c = stats.t.ppf(alpha, df=n-1)        # Left-tailed\n",
    "t_c"
   ]
  },
  {
   "cell_type": "code",
   "execution_count": 28,
   "metadata": {},
   "outputs": [
    {
     "data": {
      "text/plain": [
       "np.False_"
      ]
     },
     "execution_count": 28,
     "metadata": {},
     "output_type": "execute_result"
    }
   ],
   "source": [
    "t < t_c"
   ]
  },
  {
   "cell_type": "markdown",
   "metadata": {},
   "source": [
    "Since $t \\nless t_c$, we are **not** in the (left-tailed) rejection region. So, we fail to reject $H_0$ (arriving at the same conclusion)."
   ]
  },
  {
   "cell_type": "markdown",
   "metadata": {},
   "source": [
    "### Two Samples From the Same Population | Small Sample Size"
   ]
  },
  {
   "cell_type": "markdown",
   "metadata": {},
   "source": [
    "The following data were obtained in an experiment to verify whether there is a systematic difference in rock weights obtained with two scales:\n",
    "\n",
    "| Rock specimen | Scale 1 (g) | Scale 2 (g) |\n",
    "| -: | -: | -: |\n",
    "| 1 | 12.13 | 12.17 |\n",
    "| 2 | 17.56 | 17.61 |\n",
    "| 3 | 9.33 | 9.35 |\n",
    "| 4 | 11.4 | 11.42 |\n",
    "| 5 | 28.62 | 28.61 |\n",
    "| 6 | 10.25 | 10.27 |\n",
    "| 7 | 23.37 | 23.42 |\n",
    "| 8 | 16.27 | 16.26 |"
   ]
  },
  {
   "cell_type": "markdown",
   "metadata": {},
   "source": [
    "#### Q: Use a 1% level of significance to test whether the difference between the means of the weights obtained with the two scales is significant."
   ]
  },
  {
   "cell_type": "code",
   "execution_count": 29,
   "metadata": {},
   "outputs": [],
   "source": [
    "x1_arr = np.array([12.13, 17.56, 9.33, 11.4, 28.62, 10.25, 23.37, 16.27])\n",
    "x2_arr = np.array([12.17, 17.61, 9.35, 11.42, 28.61, 10.27, 23.42, 16.26])\n",
    "alpha = 0.01                            # Significance level"
   ]
  },
  {
   "cell_type": "markdown",
   "metadata": {},
   "source": [
    "We formulate the null and alternative hypotheses:\n",
    "$$\n",
    "  \\begin{align*}\n",
    "    H_0\\, &:\\, \\mu_d = 0 \\\\\n",
    "    H_a\\, &:\\, \\mu_d \\neq 0\n",
    "  \\end{align*}\n",
    "$$"
   ]
  },
  {
   "cell_type": "markdown",
   "metadata": {},
   "source": [
    "Perform the test. Here we do a **paired difference** test:"
   ]
  },
  {
   "cell_type": "code",
   "execution_count": 30,
   "metadata": {},
   "outputs": [
    {
     "data": {
      "text/plain": [
       "TtestResult(statistic=np.float64(-2.679032510044129), pvalue=np.float64(0.031583504186855314), df=np.int64(7))"
      ]
     },
     "execution_count": 30,
     "metadata": {},
     "output_type": "execute_result"
    }
   ],
   "source": [
    "test = stats.ttest_rel(x1_arr, x2_arr, alternative='two-sided')\n",
    "test"
   ]
  },
  {
   "cell_type": "code",
   "execution_count": 31,
   "metadata": {},
   "outputs": [
    {
     "data": {
      "text/plain": [
       "np.False_"
      ]
     },
     "execution_count": 31,
     "metadata": {},
     "output_type": "execute_result"
    }
   ],
   "source": [
    "test.pvalue < alpha"
   ]
  },
  {
   "cell_type": "markdown",
   "metadata": {},
   "source": [
    "Since $p\\approx0.0316 > \\alpha=0.01$, we fail to reject $H_0$.\n",
    "\n",
    "At the 1% significance level, there is insufficient evidence that the difference between the means of the weights obtained with the two scales is statistically significant."
   ]
  },
  {
   "cell_type": "markdown",
   "metadata": {},
   "source": [
    "We can also equivalently do a **one-sample** test on the difference between the sample means. First, we get the differences:"
   ]
  },
  {
   "cell_type": "code",
   "execution_count": 32,
   "metadata": {},
   "outputs": [
    {
     "data": {
      "text/plain": [
       "array([-0.04, -0.05, -0.02, -0.02,  0.01, -0.02, -0.05,  0.01])"
      ]
     },
     "execution_count": 32,
     "metadata": {},
     "output_type": "execute_result"
    }
   ],
   "source": [
    "d_arr = x1_arr - x2_arr\n",
    "n = len(d_arr)                          # Sample size\n",
    "d_arr"
   ]
  },
  {
   "cell_type": "markdown",
   "metadata": {},
   "source": [
    "Then, we perform the test:"
   ]
  },
  {
   "cell_type": "code",
   "execution_count": 33,
   "metadata": {},
   "outputs": [
    {
     "data": {
      "text/plain": [
       "TtestResult(statistic=np.float64(-2.679032510044129), pvalue=np.float64(0.031583504186855314), df=np.int64(7))"
      ]
     },
     "execution_count": 33,
     "metadata": {},
     "output_type": "execute_result"
    }
   ],
   "source": [
    "stats.ttest_1samp(d_arr, popmean=0, alternative='two-sided')"
   ]
  },
  {
   "cell_type": "markdown",
   "metadata": {},
   "source": [
    "The result is the same."
   ]
  },
  {
   "cell_type": "markdown",
   "metadata": {},
   "source": [
    "We can also manually work this out. We find the mean of the difference in sample means, either by using NumPy's `mean()` method:\n"
   ]
  },
  {
   "cell_type": "code",
   "execution_count": 34,
   "metadata": {},
   "outputs": [
    {
     "data": {
      "text/plain": [
       "np.float64(-0.022499999999999964)"
      ]
     },
     "execution_count": 34,
     "metadata": {},
     "output_type": "execute_result"
    }
   ],
   "source": [
    "dbar = d_arr.mean()\n",
    "dbar"
   ]
  },
  {
   "cell_type": "markdown",
   "metadata": {},
   "source": [
    "Or by using the formula:\n",
    "$$\n",
    "  \\overline{d} = \\frac{1}{n}\\sum_{i=1}^{n}{d_i}.\n",
    "$$"
   ]
  },
  {
   "cell_type": "code",
   "execution_count": 35,
   "metadata": {},
   "outputs": [
    {
     "data": {
      "text/plain": [
       "np.float64(-0.022499999999999964)"
      ]
     },
     "execution_count": 35,
     "metadata": {},
     "output_type": "execute_result"
    }
   ],
   "source": [
    "n = len(d_arr)\n",
    "dbar = np.sum(d_arr)/n\n",
    "dbar"
   ]
  },
  {
   "cell_type": "markdown",
   "metadata": {},
   "source": [
    "We find the standard deviation of the difference in sample means, either by using NumPy's `std()` method:"
   ]
  },
  {
   "cell_type": "code",
   "execution_count": 36,
   "metadata": {},
   "outputs": [
    {
     "data": {
      "text/plain": [
       "np.float64(0.023754698783308492)"
      ]
     },
     "execution_count": 36,
     "metadata": {},
     "output_type": "execute_result"
    }
   ],
   "source": [
    "s_d = d_arr.std(ddof=1)                 # Pay attention to specify that `ddof` = 1 for sample standard deviation\n",
    "s_d"
   ]
  },
  {
   "cell_type": "markdown",
   "metadata": {},
   "source": [
    "Or by using the formula (this is the alternative formula for sample standard deviation):\n",
    "$$\n",
    "  s_d = \\sqrt{\\frac{1}{n-1}\\left[\\sum_{i=1}^{n}{d_i^2-\\frac{\\left(\\sum_{i=1}^{n}{d_i}\\right)^2}{n}}\\right]}.\n",
    "$$"
   ]
  },
  {
   "cell_type": "code",
   "execution_count": 37,
   "metadata": {},
   "outputs": [
    {
     "data": {
      "text/plain": [
       "np.float64(0.023754698783308492)"
      ]
     },
     "execution_count": 37,
     "metadata": {},
     "output_type": "execute_result"
    }
   ],
   "source": [
    "s_d = np.sqrt((1/(n-1))*(np.sum(d_arr**2) - np.sum(d_arr)**2/n))\n",
    "s_d"
   ]
  },
  {
   "cell_type": "markdown",
   "metadata": {},
   "source": [
    "We calculate the $t$-statistic:\n",
    "$$\n",
    "  t = \\frac{\\overline{d}-0}{\\frac{s_d}{\\sqrt{n}}}\n",
    "$$"
   ]
  },
  {
   "cell_type": "code",
   "execution_count": 38,
   "metadata": {},
   "outputs": [
    {
     "data": {
      "text/plain": [
       "np.float64(-2.6790325100441295)"
      ]
     },
     "execution_count": 38,
     "metadata": {},
     "output_type": "execute_result"
    }
   ],
   "source": [
    "t = (dbar-0) / (s_d/np.sqrt(n))\n",
    "t"
   ]
  },
  {
   "cell_type": "markdown",
   "metadata": {},
   "source": [
    "Next, we find the critical $t$-value according to the significance level and degrees of freedom."
   ]
  },
  {
   "cell_type": "code",
   "execution_count": 39,
   "metadata": {},
   "outputs": [
    {
     "data": {
      "text/plain": [
       "np.float64(-3.499483297350504)"
      ]
     },
     "execution_count": 39,
     "metadata": {},
     "output_type": "execute_result"
    }
   ],
   "source": [
    "t_c = stats.t.ppf(alpha/2, df=n-1)      # Two-tailed\n",
    "t_c"
   ]
  },
  {
   "cell_type": "code",
   "execution_count": 40,
   "metadata": {},
   "outputs": [
    {
     "data": {
      "text/plain": [
       "np.False_"
      ]
     },
     "execution_count": 40,
     "metadata": {},
     "output_type": "execute_result"
    }
   ],
   "source": [
    "np.abs(t) > np.abs(t_c)"
   ]
  },
  {
   "cell_type": "markdown",
   "metadata": {},
   "source": [
    "Since $\\left|t\\right| \\ngtr \\left|t_c\\right|$, we are **not** in the (two-tailed) rejection region. So, we fail to reject $H_0$ (arriving at the same conclusion)."
   ]
  },
  {
   "cell_type": "markdown",
   "metadata": {},
   "source": [
    "### One Sample | Large Sample Size"
   ]
  },
  {
   "cell_type": "markdown",
   "metadata": {},
   "source": [
    "A sample of 36 observations is randomly selected from population. The sample mean is 49 and the sample standard deviation is 5."
   ]
  },
  {
   "cell_type": "code",
   "execution_count": 41,
   "metadata": {},
   "outputs": [],
   "source": [
    "n = 36\n",
    "xbar = 49\n",
    "s = 5"
   ]
  },
  {
   "cell_type": "markdown",
   "metadata": {},
   "source": [
    "#### Q: Use hypothesis testing to infer whether the population mean is equal to 50, with a 5% significance level."
   ]
  },
  {
   "cell_type": "code",
   "execution_count": 42,
   "metadata": {},
   "outputs": [],
   "source": [
    "mu_0 = 50\n",
    "alpha = 0.05                            # Significance level"
   ]
  },
  {
   "cell_type": "markdown",
   "metadata": {},
   "source": [
    "We formulate the null and alternative hypotheses:\n",
    "$$\n",
    "  \\begin{align*}\n",
    "    H_0\\, &:\\, \\mu = 50 \\\\\n",
    "    H_a\\, &:\\, \\mu \\neq 50\n",
    "  \\end{align*}\n",
    "$$"
   ]
  },
  {
   "cell_type": "markdown",
   "metadata": {},
   "source": [
    "Perform the test. `scipy.stats` does not have a built-in z-test like `ttest_1samp()`. Nevertheless, we can proceed by manual calcultion.\n",
    "\n",
    "First, we calculate the $z$-statistic:\n",
    "$$\n",
    "  z = \\frac{\\overline{x}-\\mu_0}{\\frac{s}{\\sqrt{n}}}\n",
    "$$"
   ]
  },
  {
   "cell_type": "code",
   "execution_count": 43,
   "metadata": {},
   "outputs": [
    {
     "data": {
      "text/plain": [
       "np.float64(-1.2)"
      ]
     },
     "execution_count": 43,
     "metadata": {},
     "output_type": "execute_result"
    }
   ],
   "source": [
    "z = (xbar-mu_0) / (s/np.sqrt(n))\n",
    "z"
   ]
  },
  {
   "cell_type": "markdown",
   "metadata": {},
   "source": [
    "Next, we find the critical $z$-value accoring to the significance level."
   ]
  },
  {
   "cell_type": "code",
   "execution_count": 44,
   "metadata": {},
   "outputs": [
    {
     "data": {
      "text/plain": [
       "np.float64(-1.9599639845400545)"
      ]
     },
     "execution_count": 44,
     "metadata": {},
     "output_type": "execute_result"
    }
   ],
   "source": [
    "z_c = stats.norm.ppf(alpha/2)           # Two-tailed\n",
    "z_c"
   ]
  },
  {
   "cell_type": "code",
   "execution_count": 45,
   "metadata": {},
   "outputs": [
    {
     "data": {
      "text/plain": [
       "np.False_"
      ]
     },
     "execution_count": 45,
     "metadata": {},
     "output_type": "execute_result"
    }
   ],
   "source": [
    "np.abs(z) > np.abs(z_c)"
   ]
  },
  {
   "cell_type": "markdown",
   "metadata": {},
   "source": [
    "Since $\\left|z\\right| \\ngtr \\left|z_c\\right|$, we are **not** in the (two-tailed) rejection region. So, we fail to reject $H_0$.\n",
    "\n",
    "At the 5% significance level, there is insufficient evidence that the population mean is statistically significantly different from 50."
   ]
  },
  {
   "cell_type": "markdown",
   "metadata": {},
   "source": [
    "## Analysis of Variance (ANOVA)"
   ]
  },
  {
   "cell_type": "markdown",
   "metadata": {},
   "source": [
    "### One-way ANOVA"
   ]
  },
  {
   "cell_type": "markdown",
   "metadata": {},
   "source": [
    "The dataset `Historical24hrPSI.csv` contains hourly measurements of the Pollutant Standards Index (PSI) in various regions of Singapore from the beginning of 2014 till the end of 2022.\n",
    "\n",
    "Ref.: https://beta.data.gov.sg/datasets/d_8a7850dc3993dc45f1620b9972c58d4d/view"
   ]
  },
  {
   "cell_type": "code",
   "execution_count": 46,
   "metadata": {},
   "outputs": [
    {
     "data": {
      "text/html": [
       "<div>\n",
       "<style scoped>\n",
       "    .dataframe tbody tr th:only-of-type {\n",
       "        vertical-align: middle;\n",
       "    }\n",
       "\n",
       "    .dataframe tbody tr th {\n",
       "        vertical-align: top;\n",
       "    }\n",
       "\n",
       "    .dataframe thead th {\n",
       "        text-align: right;\n",
       "    }\n",
       "</style>\n",
       "<table border=\"1\" class=\"dataframe\">\n",
       "  <thead>\n",
       "    <tr style=\"text-align: right;\">\n",
       "      <th></th>\n",
       "      <th>24-hr_psi</th>\n",
       "      <th>north</th>\n",
       "      <th>south</th>\n",
       "      <th>east</th>\n",
       "      <th>west</th>\n",
       "      <th>central</th>\n",
       "    </tr>\n",
       "  </thead>\n",
       "  <tbody>\n",
       "    <tr>\n",
       "      <th>0</th>\n",
       "      <td>1/4/2014 1:00</td>\n",
       "      <td>55</td>\n",
       "      <td>54</td>\n",
       "      <td>54</td>\n",
       "      <td>58</td>\n",
       "      <td>54</td>\n",
       "    </tr>\n",
       "    <tr>\n",
       "      <th>1</th>\n",
       "      <td>1/4/2014 2:00</td>\n",
       "      <td>55</td>\n",
       "      <td>54</td>\n",
       "      <td>54</td>\n",
       "      <td>59</td>\n",
       "      <td>54</td>\n",
       "    </tr>\n",
       "    <tr>\n",
       "      <th>2</th>\n",
       "      <td>1/4/2014 3:00</td>\n",
       "      <td>55</td>\n",
       "      <td>55</td>\n",
       "      <td>54</td>\n",
       "      <td>60</td>\n",
       "      <td>55</td>\n",
       "    </tr>\n",
       "    <tr>\n",
       "      <th>3</th>\n",
       "      <td>1/4/2014 4:00</td>\n",
       "      <td>56</td>\n",
       "      <td>55</td>\n",
       "      <td>55</td>\n",
       "      <td>62</td>\n",
       "      <td>55</td>\n",
       "    </tr>\n",
       "    <tr>\n",
       "      <th>4</th>\n",
       "      <td>1/4/2014 5:00</td>\n",
       "      <td>57</td>\n",
       "      <td>55</td>\n",
       "      <td>56</td>\n",
       "      <td>63</td>\n",
       "      <td>56</td>\n",
       "    </tr>\n",
       "    <tr>\n",
       "      <th>...</th>\n",
       "      <td>...</td>\n",
       "      <td>...</td>\n",
       "      <td>...</td>\n",
       "      <td>...</td>\n",
       "      <td>...</td>\n",
       "      <td>...</td>\n",
       "    </tr>\n",
       "    <tr>\n",
       "      <th>76723</th>\n",
       "      <td>31/12/2022 20:00</td>\n",
       "      <td>30</td>\n",
       "      <td>46</td>\n",
       "      <td>56</td>\n",
       "      <td>34</td>\n",
       "      <td>47</td>\n",
       "    </tr>\n",
       "    <tr>\n",
       "      <th>76724</th>\n",
       "      <td>31/12/2022 21:00</td>\n",
       "      <td>30</td>\n",
       "      <td>45</td>\n",
       "      <td>56</td>\n",
       "      <td>33</td>\n",
       "      <td>46</td>\n",
       "    </tr>\n",
       "    <tr>\n",
       "      <th>76725</th>\n",
       "      <td>31/12/2022 22:00</td>\n",
       "      <td>30</td>\n",
       "      <td>46</td>\n",
       "      <td>56</td>\n",
       "      <td>33</td>\n",
       "      <td>45</td>\n",
       "    </tr>\n",
       "    <tr>\n",
       "      <th>76726</th>\n",
       "      <td>31/12/2022 23:00</td>\n",
       "      <td>30</td>\n",
       "      <td>45</td>\n",
       "      <td>56</td>\n",
       "      <td>33</td>\n",
       "      <td>45</td>\n",
       "    </tr>\n",
       "    <tr>\n",
       "      <th>76727</th>\n",
       "      <td>1/1/2023 0:00</td>\n",
       "      <td>31</td>\n",
       "      <td>45</td>\n",
       "      <td>56</td>\n",
       "      <td>33</td>\n",
       "      <td>45</td>\n",
       "    </tr>\n",
       "  </tbody>\n",
       "</table>\n",
       "<p>76728 rows × 6 columns</p>\n",
       "</div>"
      ],
      "text/plain": [
       "              24-hr_psi  north  south  east  west  central\n",
       "0         1/4/2014 1:00     55     54    54    58       54\n",
       "1         1/4/2014 2:00     55     54    54    59       54\n",
       "2         1/4/2014 3:00     55     55    54    60       55\n",
       "3         1/4/2014 4:00     56     55    55    62       55\n",
       "4         1/4/2014 5:00     57     55    56    63       56\n",
       "...                 ...    ...    ...   ...   ...      ...\n",
       "76723  31/12/2022 20:00     30     46    56    34       47\n",
       "76724  31/12/2022 21:00     30     45    56    33       46\n",
       "76725  31/12/2022 22:00     30     46    56    33       45\n",
       "76726  31/12/2022 23:00     30     45    56    33       45\n",
       "76727     1/1/2023 0:00     31     45    56    33       45\n",
       "\n",
       "[76728 rows x 6 columns]"
      ]
     },
     "execution_count": 46,
     "metadata": {},
     "output_type": "execute_result"
    }
   ],
   "source": [
    "# Read in dataset\n",
    "data_psi = pd.read_csv(\"Historical24hrPSI.csv\")\n",
    "data_psi"
   ]
  },
  {
   "cell_type": "code",
   "execution_count": 47,
   "metadata": {},
   "outputs": [
    {
     "name": "stdout",
     "output_type": "stream",
     "text": [
      "<class 'pandas.core.frame.DataFrame'>\n",
      "RangeIndex: 76728 entries, 0 to 76727\n",
      "Data columns (total 6 columns):\n",
      " #   Column     Non-Null Count  Dtype \n",
      "---  ------     --------------  ----- \n",
      " 0   24-hr_psi  76728 non-null  object\n",
      " 1   north      76728 non-null  int64 \n",
      " 2   south      76728 non-null  int64 \n",
      " 3   east       76728 non-null  int64 \n",
      " 4   west       76728 non-null  int64 \n",
      " 5   central    76728 non-null  int64 \n",
      "dtypes: int64(5), object(1)\n",
      "memory usage: 3.5+ MB\n"
     ]
    }
   ],
   "source": [
    "data_psi.info()"
   ]
  },
  {
   "cell_type": "markdown",
   "metadata": {},
   "source": [
    "#### Q: Perform a one-way ANOVA to determine if the average daily PSI readings for the various Singapore regions on 31 December 2022 (New Year's Eve) were statistically significantly different, at a significance level of 0.05."
   ]
  },
  {
   "cell_type": "code",
   "execution_count": 48,
   "metadata": {},
   "outputs": [],
   "source": [
    "alpha = 0.05                            # Significance level"
   ]
  },
  {
   "cell_type": "markdown",
   "metadata": {},
   "source": [
    "We formulate the null and alternative hypotheses:\n",
    "$$\n",
    "  \\begin{align*}\n",
    "    H_0\\, &:\\, \\mu_{\\textsf{north}} = \\mu_{\\textsf{south}} = \\mu_{\\textsf{east}} = \\mu_{\\textsf{west}} = \\mu_{\\textsf{central}} \\\\\n",
    "    H_a\\, &:\\, \\textsf{at least one of the $\\mu_j$ is different}\n",
    "  \\end{align*}\n",
    "$$\n",
    "where $\\mu_j$ is the daily average PSI reading for region $j\\in\\left\\{\\textsf{north},\\, \\textsf{south},\\, \\textsf{east},\\, \\textsf{west},\\, \\textsf{central}\\right\\}$."
   ]
  },
  {
   "cell_type": "markdown",
   "metadata": {},
   "source": [
    "We need to first clean the data and filter it.\n",
    "\n",
    "For explicit datetime formatting, refer to https://docs.python.org/3/library/datetime.html#strftime-and-strptime-behavior for format codes."
   ]
  },
  {
   "cell_type": "code",
   "execution_count": 49,
   "metadata": {},
   "outputs": [
    {
     "data": {
      "text/html": [
       "<div>\n",
       "<style scoped>\n",
       "    .dataframe tbody tr th:only-of-type {\n",
       "        vertical-align: middle;\n",
       "    }\n",
       "\n",
       "    .dataframe tbody tr th {\n",
       "        vertical-align: top;\n",
       "    }\n",
       "\n",
       "    .dataframe thead th {\n",
       "        text-align: right;\n",
       "    }\n",
       "</style>\n",
       "<table border=\"1\" class=\"dataframe\">\n",
       "  <thead>\n",
       "    <tr style=\"text-align: right;\">\n",
       "      <th></th>\n",
       "      <th>north</th>\n",
       "      <th>south</th>\n",
       "      <th>east</th>\n",
       "      <th>west</th>\n",
       "      <th>central</th>\n",
       "    </tr>\n",
       "  </thead>\n",
       "  <tbody>\n",
       "    <tr>\n",
       "      <th>76680</th>\n",
       "      <td>30</td>\n",
       "      <td>46</td>\n",
       "      <td>55</td>\n",
       "      <td>37</td>\n",
       "      <td>46</td>\n",
       "    </tr>\n",
       "    <tr>\n",
       "      <th>76681</th>\n",
       "      <td>30</td>\n",
       "      <td>45</td>\n",
       "      <td>55</td>\n",
       "      <td>36</td>\n",
       "      <td>48</td>\n",
       "    </tr>\n",
       "    <tr>\n",
       "      <th>76682</th>\n",
       "      <td>30</td>\n",
       "      <td>48</td>\n",
       "      <td>55</td>\n",
       "      <td>35</td>\n",
       "      <td>50</td>\n",
       "    </tr>\n",
       "    <tr>\n",
       "      <th>76683</th>\n",
       "      <td>30</td>\n",
       "      <td>47</td>\n",
       "      <td>55</td>\n",
       "      <td>37</td>\n",
       "      <td>50</td>\n",
       "    </tr>\n",
       "    <tr>\n",
       "      <th>76684</th>\n",
       "      <td>29</td>\n",
       "      <td>48</td>\n",
       "      <td>56</td>\n",
       "      <td>38</td>\n",
       "      <td>50</td>\n",
       "    </tr>\n",
       "    <tr>\n",
       "      <th>76685</th>\n",
       "      <td>29</td>\n",
       "      <td>50</td>\n",
       "      <td>56</td>\n",
       "      <td>38</td>\n",
       "      <td>49</td>\n",
       "    </tr>\n",
       "    <tr>\n",
       "      <th>76686</th>\n",
       "      <td>29</td>\n",
       "      <td>50</td>\n",
       "      <td>56</td>\n",
       "      <td>38</td>\n",
       "      <td>49</td>\n",
       "    </tr>\n",
       "    <tr>\n",
       "      <th>76687</th>\n",
       "      <td>30</td>\n",
       "      <td>51</td>\n",
       "      <td>56</td>\n",
       "      <td>37</td>\n",
       "      <td>48</td>\n",
       "    </tr>\n",
       "    <tr>\n",
       "      <th>76688</th>\n",
       "      <td>30</td>\n",
       "      <td>51</td>\n",
       "      <td>56</td>\n",
       "      <td>37</td>\n",
       "      <td>49</td>\n",
       "    </tr>\n",
       "    <tr>\n",
       "      <th>76689</th>\n",
       "      <td>30</td>\n",
       "      <td>52</td>\n",
       "      <td>56</td>\n",
       "      <td>36</td>\n",
       "      <td>49</td>\n",
       "    </tr>\n",
       "    <tr>\n",
       "      <th>76690</th>\n",
       "      <td>30</td>\n",
       "      <td>52</td>\n",
       "      <td>55</td>\n",
       "      <td>35</td>\n",
       "      <td>49</td>\n",
       "    </tr>\n",
       "    <tr>\n",
       "      <th>76691</th>\n",
       "      <td>30</td>\n",
       "      <td>52</td>\n",
       "      <td>55</td>\n",
       "      <td>35</td>\n",
       "      <td>48</td>\n",
       "    </tr>\n",
       "    <tr>\n",
       "      <th>76692</th>\n",
       "      <td>30</td>\n",
       "      <td>52</td>\n",
       "      <td>55</td>\n",
       "      <td>35</td>\n",
       "      <td>47</td>\n",
       "    </tr>\n",
       "    <tr>\n",
       "      <th>76693</th>\n",
       "      <td>30</td>\n",
       "      <td>52</td>\n",
       "      <td>55</td>\n",
       "      <td>34</td>\n",
       "      <td>47</td>\n",
       "    </tr>\n",
       "    <tr>\n",
       "      <th>76694</th>\n",
       "      <td>30</td>\n",
       "      <td>52</td>\n",
       "      <td>55</td>\n",
       "      <td>35</td>\n",
       "      <td>48</td>\n",
       "    </tr>\n",
       "    <tr>\n",
       "      <th>76695</th>\n",
       "      <td>31</td>\n",
       "      <td>52</td>\n",
       "      <td>56</td>\n",
       "      <td>34</td>\n",
       "      <td>48</td>\n",
       "    </tr>\n",
       "    <tr>\n",
       "      <th>76696</th>\n",
       "      <td>30</td>\n",
       "      <td>52</td>\n",
       "      <td>55</td>\n",
       "      <td>35</td>\n",
       "      <td>48</td>\n",
       "    </tr>\n",
       "    <tr>\n",
       "      <th>76697</th>\n",
       "      <td>31</td>\n",
       "      <td>52</td>\n",
       "      <td>55</td>\n",
       "      <td>35</td>\n",
       "      <td>49</td>\n",
       "    </tr>\n",
       "    <tr>\n",
       "      <th>76698</th>\n",
       "      <td>30</td>\n",
       "      <td>53</td>\n",
       "      <td>55</td>\n",
       "      <td>35</td>\n",
       "      <td>50</td>\n",
       "    </tr>\n",
       "    <tr>\n",
       "      <th>76699</th>\n",
       "      <td>31</td>\n",
       "      <td>53</td>\n",
       "      <td>55</td>\n",
       "      <td>35</td>\n",
       "      <td>51</td>\n",
       "    </tr>\n",
       "    <tr>\n",
       "      <th>76700</th>\n",
       "      <td>31</td>\n",
       "      <td>53</td>\n",
       "      <td>55</td>\n",
       "      <td>35</td>\n",
       "      <td>51</td>\n",
       "    </tr>\n",
       "    <tr>\n",
       "      <th>76701</th>\n",
       "      <td>31</td>\n",
       "      <td>53</td>\n",
       "      <td>55</td>\n",
       "      <td>35</td>\n",
       "      <td>51</td>\n",
       "    </tr>\n",
       "    <tr>\n",
       "      <th>76702</th>\n",
       "      <td>31</td>\n",
       "      <td>53</td>\n",
       "      <td>55</td>\n",
       "      <td>35</td>\n",
       "      <td>51</td>\n",
       "    </tr>\n",
       "    <tr>\n",
       "      <th>76703</th>\n",
       "      <td>30</td>\n",
       "      <td>53</td>\n",
       "      <td>55</td>\n",
       "      <td>35</td>\n",
       "      <td>52</td>\n",
       "    </tr>\n",
       "  </tbody>\n",
       "</table>\n",
       "</div>"
      ],
      "text/plain": [
       "       north  south  east  west  central\n",
       "76680     30     46    55    37       46\n",
       "76681     30     45    55    36       48\n",
       "76682     30     48    55    35       50\n",
       "76683     30     47    55    37       50\n",
       "76684     29     48    56    38       50\n",
       "76685     29     50    56    38       49\n",
       "76686     29     50    56    38       49\n",
       "76687     30     51    56    37       48\n",
       "76688     30     51    56    37       49\n",
       "76689     30     52    56    36       49\n",
       "76690     30     52    55    35       49\n",
       "76691     30     52    55    35       48\n",
       "76692     30     52    55    35       47\n",
       "76693     30     52    55    34       47\n",
       "76694     30     52    55    35       48\n",
       "76695     31     52    56    34       48\n",
       "76696     30     52    55    35       48\n",
       "76697     31     52    55    35       49\n",
       "76698     30     53    55    35       50\n",
       "76699     31     53    55    35       51\n",
       "76700     31     53    55    35       51\n",
       "76701     31     53    55    35       51\n",
       "76702     31     53    55    35       51\n",
       "76703     30     53    55    35       52"
      ]
     },
     "execution_count": 49,
     "metadata": {},
     "output_type": "execute_result"
    }
   ],
   "source": [
    "data_psi['24-hr_psi'] = pd.to_datetime(data_psi['24-hr_psi'], dayfirst=True, format='mixed')            # Convert '24-hr_psi' column to datetime format\n",
    "data_psi = data_psi[(data_psi['24-hr_psi']>\"2022-12-30\") & (data_psi['24-hr_psi']<=\"2022-12-31\")]       # Filter by including only 2022-12-31\n",
    "data_psi = data_psi.drop(columns=['24-hr_psi'])                                                         # Remove datetime column\n",
    "data_psi"
   ]
  },
  {
   "cell_type": "markdown",
   "metadata": {},
   "source": [
    "We can use the `f_oneway()` function in `scipy.stats` to compute the ANOVA:"
   ]
  },
  {
   "cell_type": "code",
   "execution_count": 50,
   "metadata": {},
   "outputs": [
    {
     "data": {
      "text/plain": [
       "F_onewayResult(statistic=np.float64(1385.3347511312293), pvalue=np.float64(3.004192581621958e-96))"
      ]
     },
     "execution_count": 50,
     "metadata": {},
     "output_type": "execute_result"
    }
   ],
   "source": [
    "anova = stats.f_oneway(data_psi['north'], data_psi['south'], data_psi['east'], data_psi['west'], data_psi['central'])\n",
    "anova"
   ]
  },
  {
   "cell_type": "code",
   "execution_count": 51,
   "metadata": {},
   "outputs": [
    {
     "data": {
      "text/plain": [
       "np.True_"
      ]
     },
     "execution_count": 51,
     "metadata": {},
     "output_type": "execute_result"
    }
   ],
   "source": [
    "anova.pvalue < alpha"
   ]
  },
  {
   "cell_type": "markdown",
   "metadata": {},
   "source": [
    "Since $p\\approx3.0042\\times10^{-96} < \\alpha=0.05$, we reject $H_0$ in favour of $H_a$.\n",
    "\n",
    "At the 5% significance level, the average daily PSI reading on 31 December 2022 of at least one region in Singapore was statistically significantly different."
   ]
  },
  {
   "cell_type": "markdown",
   "metadata": {},
   "source": [
    "We can alternatively use the `anova_lm()` function from the `statsmodels` package. `anova_lm()` operates on a fitted linear model. So, we use the `ols()` function from `statsmodels` to create a linear regression model of our data.\n",
    "\n",
    "Before we do that though, we need to reformat our data where the PSI readings are all in a single column and a second column indicates the region. This is because `ols()` expects the data in this format. We use the `melt()` method from `pandas` to do this.\n",
    "\n",
    "Ref.: https://tidypython.com/how-to-do-one-way-anova-in-python/"
   ]
  },
  {
   "cell_type": "code",
   "execution_count": 52,
   "metadata": {},
   "outputs": [
    {
     "data": {
      "text/html": [
       "<div>\n",
       "<style scoped>\n",
       "    .dataframe tbody tr th:only-of-type {\n",
       "        vertical-align: middle;\n",
       "    }\n",
       "\n",
       "    .dataframe tbody tr th {\n",
       "        vertical-align: top;\n",
       "    }\n",
       "\n",
       "    .dataframe thead th {\n",
       "        text-align: right;\n",
       "    }\n",
       "</style>\n",
       "<table border=\"1\" class=\"dataframe\">\n",
       "  <thead>\n",
       "    <tr style=\"text-align: right;\">\n",
       "      <th></th>\n",
       "      <th>Region</th>\n",
       "      <th>PSI</th>\n",
       "    </tr>\n",
       "  </thead>\n",
       "  <tbody>\n",
       "    <tr>\n",
       "      <th>0</th>\n",
       "      <td>north</td>\n",
       "      <td>30</td>\n",
       "    </tr>\n",
       "    <tr>\n",
       "      <th>1</th>\n",
       "      <td>north</td>\n",
       "      <td>30</td>\n",
       "    </tr>\n",
       "    <tr>\n",
       "      <th>2</th>\n",
       "      <td>north</td>\n",
       "      <td>30</td>\n",
       "    </tr>\n",
       "    <tr>\n",
       "      <th>3</th>\n",
       "      <td>north</td>\n",
       "      <td>30</td>\n",
       "    </tr>\n",
       "    <tr>\n",
       "      <th>4</th>\n",
       "      <td>north</td>\n",
       "      <td>29</td>\n",
       "    </tr>\n",
       "    <tr>\n",
       "      <th>...</th>\n",
       "      <td>...</td>\n",
       "      <td>...</td>\n",
       "    </tr>\n",
       "    <tr>\n",
       "      <th>115</th>\n",
       "      <td>central</td>\n",
       "      <td>51</td>\n",
       "    </tr>\n",
       "    <tr>\n",
       "      <th>116</th>\n",
       "      <td>central</td>\n",
       "      <td>51</td>\n",
       "    </tr>\n",
       "    <tr>\n",
       "      <th>117</th>\n",
       "      <td>central</td>\n",
       "      <td>51</td>\n",
       "    </tr>\n",
       "    <tr>\n",
       "      <th>118</th>\n",
       "      <td>central</td>\n",
       "      <td>51</td>\n",
       "    </tr>\n",
       "    <tr>\n",
       "      <th>119</th>\n",
       "      <td>central</td>\n",
       "      <td>52</td>\n",
       "    </tr>\n",
       "  </tbody>\n",
       "</table>\n",
       "<p>120 rows × 2 columns</p>\n",
       "</div>"
      ],
      "text/plain": [
       "      Region  PSI\n",
       "0      north   30\n",
       "1      north   30\n",
       "2      north   30\n",
       "3      north   30\n",
       "4      north   29\n",
       "..       ...  ...\n",
       "115  central   51\n",
       "116  central   51\n",
       "117  central   51\n",
       "118  central   51\n",
       "119  central   52\n",
       "\n",
       "[120 rows x 2 columns]"
      ]
     },
     "execution_count": 52,
     "metadata": {},
     "output_type": "execute_result"
    }
   ],
   "source": [
    "data_psi_melt = data_psi.melt(var_name=\"Region\", value_name=\"PSI\")      # Melt region columns into one\n",
    "data_psi_melt"
   ]
  },
  {
   "cell_type": "markdown",
   "metadata": {},
   "source": [
    "To create our linear model, we invoke `ols()` and *regress* the `PSI` variable *onto* the `Region` variable, which is treated as a categorical variable by the function `C()`.\n",
    "\n",
    "Then, we compute the ANOVA by supplying our model to the `anova_lm()` function. The benefit of this procedure is that in addition to the $F$ and $p$-value, we can also obtain the full ANOVA table."
   ]
  },
  {
   "cell_type": "code",
   "execution_count": 53,
   "metadata": {},
   "outputs": [
    {
     "name": "stdout",
     "output_type": "stream",
     "text": [
      "                 sum_sq     df            F        PR(>F)\n",
      "C(Region)  11092.716667    4.0  1385.334751  3.004193e-96\n",
      "Residual     230.208333  115.0          NaN           NaN\n"
     ]
    }
   ],
   "source": [
    "import statsmodels.api as sm\n",
    "from statsmodels.formula.api import ols\n",
    "\n",
    "model = ols('PSI ~ C(Region)', data=data_psi_melt).fit()                # Fit an ordinary least squares model\n",
    "aov_table = sm.stats.anova_lm(model, typ=2)                             # Compute ANOVA table\n",
    "print(aov_table)"
   ]
  },
  {
   "cell_type": "code",
   "execution_count": 54,
   "metadata": {},
   "outputs": [
    {
     "data": {
      "text/plain": [
       "np.True_"
      ]
     },
     "execution_count": 54,
     "metadata": {},
     "output_type": "execute_result"
    }
   ],
   "source": [
    "aov_table['PR(>F)'].iloc[0] < alpha"
   ]
  },
  {
   "cell_type": "markdown",
   "metadata": {},
   "source": [
    "We get the same result and arrive at the same conclusion (rejecting $H_0$ in favour of $H_a$) as before."
   ]
  },
  {
   "cell_type": "markdown",
   "metadata": {},
   "source": [
    "## Summary"
   ]
  },
  {
   "cell_type": "markdown",
   "metadata": {},
   "source": [
    "In this lesson, we covered how to use various packages in Python to do a number of inferential statistical analysis tasks in areas including\n",
    "- Sampling and sampling distributions\n",
    "- Confidence intervals\n",
    "- Hypothesis testing\n",
    "- ANOVA"
   ]
  }
 ],
 "metadata": {
  "kernelspec": {
   "display_name": "Python 3",
   "language": "python",
   "name": "python3"
  },
  "language_info": {
   "codemirror_mode": {
    "name": "ipython",
    "version": 3
   },
   "file_extension": ".py",
   "mimetype": "text/x-python",
   "name": "python",
   "nbconvert_exporter": "python",
   "pygments_lexer": "ipython3",
   "version": "3.13.2"
  },
  "orig_nbformat": 4
 },
 "nbformat": 4,
 "nbformat_minor": 2
}
