{
 "cells": [
  {
   "cell_type": "markdown",
   "metadata": {},
   "source": [
    "# ICT1508C Applied Statistics\n",
    "\n",
    "*Python Packages for Statistical Analysis*\n",
    "\n",
    ">Filename:     &emsp;&emsp;`ICT1508C_Topic06-2_Py-Packages_Lesson_v2025-1.1.ipynb`<br>\n",
    ">Version:      &emsp;&emsp;&ensp; `2025-1.1`<br>\n",
    ">Description:  &ensp;&ensp;Jupyter notebook for ICT1508C lesson on Python Packages for Statistical Analysis.<br>\n",
    ">Module:       &emsp;&emsp;&ensp;ICT1508C<br>\n",
    ">Type:         &emsp;&emsp;&emsp;&ensp; Lesson<br>\n",
    ">Prepared by:  &ensp;Nicholas H L Wong<br>\n",
    ">Organisation: &nbsp;Singapore Institute of Technology<br>\n",
    ">Division:     &emsp;&emsp;&ensp;Infocomm Technology<br>\n",
    ">Attribution:  &emsp;Copyright &copy; 2025 Nicholas H L Wong – All Rights Reserved<br>"
   ]
  },
  {
   "cell_type": "markdown",
   "metadata": {},
   "source": [
    "## Preliminaries"
   ]
  },
  {
   "cell_type": "markdown",
   "metadata": {},
   "source": [
    "While Python can be used on its own, relying on standard built-in features, its real power is unlocked by using additional *packages*. External packages are created by people from all over the world to add functionality to basic Python. In this competency unit, we will use several important packages that are very helpful for statistical analysis.\n",
    "\n",
    "*Note that the packages used in this unit are by no means the absolute \"best\" packages for the various analyses. The packages that we use were chosen for their balance of functionality and simplicity. Of course, there may be other, more powerful packages available. New packages are also frequently created and released. So, it is a good practice to continually survey the ocean of available packages when one is doing any kind of programmatic or analytical work.*"
   ]
  },
  {
   "cell_type": "markdown",
   "metadata": {},
   "source": [
    "## Installing Packages"
   ]
  },
  {
   "cell_type": "markdown",
   "metadata": {},
   "source": [
    "A fresh installation of Python will only come with a small set of standard packages. New packages need to be installed, and there are various ways to do it.\n",
    "\n",
    "One of the simplest ways is to use the **pip** package-management system, which should come included in most standard installations of Python.\n",
    "\n",
    "The usual way to install a new package is to use the following command in a **terminal** or **command prompt** (replace `<package name>` with the actual package name):<br>\n",
    "`python -m pip install <package name>`\n",
    "\n",
    "On some systems, one can simply use the shorthand:<br>\n",
    "`pip install <package name>`\n",
    "\n",
    "It is possible to install multiple packages at once:<br>\n",
    "`python -m pip install <package1 name> <package2 name> ...`\n",
    "\n",
    "If one is concerned about clutter, using the `--no-cache-dir` command option will ensure that no temporary files are dumped into the pip cache:<br>\n",
    "`python -m pip install --no-cache-dir <package name>`\n",
    "\n",
    "*Pro tip: Sometimes, it is advisable to make use of virtual environments. While we do not cover that here, you are encouraged to explore this useful way of working. See this reference: https://realpython.com/python-virtual-environments-a-primer/.*"
   ]
  },
  {
   "cell_type": "markdown",
   "metadata": {},
   "source": [
    "## Managing Packages"
   ]
  },
  {
   "cell_type": "markdown",
   "metadata": {},
   "source": [
    "We can see which packages are installed by using the command:<br>\n",
    "`pip list`\n",
    "\n",
    "We can uninstall packages using the command:<br>\n",
    "`python -m pip uninstall <package name>`  or  `python -m pip uninstall --no-cache-dir <package name>`"
   ]
  },
  {
   "cell_type": "markdown",
   "metadata": {},
   "source": [
    "## Importing Packages"
   ]
  },
  {
   "cell_type": "markdown",
   "metadata": {},
   "source": [
    "In each Python session or script, when we want to use the functions in a package, we need to *import* the package or a subset of it."
   ]
  },
  {
   "cell_type": "code",
   "execution_count": 1,
   "metadata": {},
   "outputs": [],
   "source": [
    "# import <package name> as <nickname>\n",
    "\n",
    "# from <package name> import <function name>"
   ]
  },
  {
   "cell_type": "markdown",
   "metadata": {},
   "source": [
    "## Useful Packages for Statistical Analysis"
   ]
  },
  {
   "cell_type": "markdown",
   "metadata": {},
   "source": [
    "### NumPy"
   ]
  },
  {
   "cell_type": "markdown",
   "metadata": {},
   "source": [
    "NumPy is a highly popular package that includes lots of functionality to handle and manipulate arrays (e.g., vectors, matrices, and tensors)."
   ]
  },
  {
   "cell_type": "code",
   "execution_count": 2,
   "metadata": {},
   "outputs": [],
   "source": [
    "import numpy as np"
   ]
  },
  {
   "cell_type": "code",
   "execution_count": 3,
   "metadata": {},
   "outputs": [
    {
     "data": {
      "text/plain": [
       "array([ 1,  3,  5,  7,  9, 11])"
      ]
     },
     "execution_count": 3,
     "metadata": {},
     "output_type": "execute_result"
    }
   ],
   "source": [
    "x = np.array([1, 3, 5, 7, 9, 11])\n",
    "x"
   ]
  },
  {
   "cell_type": "code",
   "execution_count": 4,
   "metadata": {},
   "outputs": [
    {
     "data": {
      "text/plain": [
       "array([ 3,  7, 11, 15, 19, 23])"
      ]
     },
     "execution_count": 4,
     "metadata": {},
     "output_type": "execute_result"
    }
   ],
   "source": [
    "y = np.array([2, 4, 6, 8, 10, 12])\n",
    "x + y"
   ]
  },
  {
   "cell_type": "code",
   "execution_count": 5,
   "metadata": {},
   "outputs": [
    {
     "data": {
      "text/plain": [
       "6.0"
      ]
     },
     "execution_count": 5,
     "metadata": {},
     "output_type": "execute_result"
    }
   ],
   "source": [
    "x.mean()"
   ]
  },
  {
   "cell_type": "code",
   "execution_count": 6,
   "metadata": {},
   "outputs": [
    {
     "data": {
      "text/plain": [
       "array([[1, 2],\n",
       "       [3, 4]])"
      ]
     },
     "execution_count": 6,
     "metadata": {},
     "output_type": "execute_result"
    }
   ],
   "source": [
    "z = np.array([[1, 2],\n",
    "              [3, 4]])\n",
    "z"
   ]
  },
  {
   "cell_type": "markdown",
   "metadata": {},
   "source": [
    "### SciPy"
   ]
  },
  {
   "cell_type": "markdown",
   "metadata": {},
   "source": [
    "SciPy is a package used for scientific and technical computing. It actually builds upon a lot of NumPy's features. In this unit, we will rely heavily on the `stats` module in SciPy, among other modules."
   ]
  },
  {
   "cell_type": "code",
   "execution_count": 7,
   "metadata": {},
   "outputs": [],
   "source": [
    "from scipy import stats"
   ]
  },
  {
   "cell_type": "code",
   "execution_count": 8,
   "metadata": {},
   "outputs": [
    {
     "data": {
      "text/plain": [
       "<scipy.stats._distn_infrastructure.rv_continuous_frozen at 0x2e2d4ed9970>"
      ]
     },
     "execution_count": 8,
     "metadata": {},
     "output_type": "execute_result"
    }
   ],
   "source": [
    "# Create a continuous uniform distribution\n",
    "norm_dist = stats.norm(loc=0, scale=1)\n",
    "norm_dist"
   ]
  },
  {
   "cell_type": "markdown",
   "metadata": {},
   "source": [
    "### pandas"
   ]
  },
  {
   "cell_type": "markdown",
   "metadata": {},
   "source": [
    "Pandas (stylised as pandas) is a package that is helpful for handling data in the form of dataframes. It has built-in functions that can import, manipulate, and export real-world datasets."
   ]
  },
  {
   "cell_type": "code",
   "execution_count": 9,
   "metadata": {},
   "outputs": [],
   "source": [
    "import pandas as pd"
   ]
  },
  {
   "cell_type": "code",
   "execution_count": 10,
   "metadata": {},
   "outputs": [
    {
     "name": "stdout",
     "output_type": "stream",
     "text": [
      "<class 'pandas.core.frame.DataFrame'>\n",
      "RangeIndex: 120 entries, 0 to 119\n",
      "Data columns (total 5 columns):\n",
      " #   Column     Non-Null Count  Dtype \n",
      "---  ------     --------------  ----- \n",
      " 0   patient    120 non-null    int64 \n",
      " 1   sex        120 non-null    object\n",
      " 2   agegrp     120 non-null    object\n",
      " 3   bp_before  120 non-null    int64 \n",
      " 4   bp_after   120 non-null    int64 \n",
      "dtypes: int64(3), object(2)\n",
      "memory usage: 4.8+ KB\n"
     ]
    }
   ],
   "source": [
    "# Ref.: https://www.pythonfordatascience.org/descriptive-statistics-python/\n",
    "\n",
    "# Read in dataset\n",
    "df = pd.read_csv(\"https://raw.githubusercontent.com/researchpy/Data-sets/master/blood_pressure.csv\")\n",
    "\n",
    "# Display information about the dataset\n",
    "df.info()"
   ]
  },
  {
   "cell_type": "markdown",
   "metadata": {},
   "source": [
    "### scikit-learn"
   ]
  },
  {
   "cell_type": "markdown",
   "metadata": {},
   "source": [
    "scikit-learn (also known as sklearn) is a machine learning library. It has many machine learning models, including some useful for statistical analysis, such as linear regression."
   ]
  },
  {
   "cell_type": "code",
   "execution_count": 11,
   "metadata": {},
   "outputs": [],
   "source": [
    "from sklearn.linear_model import LinearRegression\n",
    "\n",
    "# See https://scikit-learn.org/stable/modules/generated/sklearn.linear_model.LinearRegression.html for an example"
   ]
  },
  {
   "cell_type": "markdown",
   "metadata": {},
   "source": [
    "### Matplotlib"
   ]
  },
  {
   "cell_type": "markdown",
   "metadata": {},
   "source": [
    "Matplotlib is a plotting library. It can be used for displaying plots, graphs, charts, and other ways to visualise data. We will usually use the `pyplot` module, but Matplotlib also has other handy modules."
   ]
  },
  {
   "cell_type": "code",
   "execution_count": 12,
   "metadata": {},
   "outputs": [],
   "source": [
    "import matplotlib.pyplot as plt"
   ]
  },
  {
   "cell_type": "code",
   "execution_count": 13,
   "metadata": {},
   "outputs": [],
   "source": [
    "x_arr = np.linspace(-5, 5, 100)     # Array of random variable values"
   ]
  },
  {
   "cell_type": "code",
   "execution_count": 14,
   "metadata": {},
   "outputs": [
    {
     "data": {
      "image/png": "[encoded data removed]",
      "text/plain": [
       "<Figure size 500x300 with 1 Axes>"
      ]
     },
     "metadata": {},
     "output_type": "display_data"
    }
   ],
   "source": [
    "# Create a figure and grab the axis handle\n",
    "fig, ax = plt.subplots(1, 1, figsize=(5, 3))\n",
    "\n",
    "# Plot the probability distribution\n",
    "ax.plot(x_arr, norm_dist.pdf(x_arr))\n",
    "ax.set_xlabel('Random variable, $X$')\n",
    "ax.set_ylabel('Probability')\n",
    "ax.set_title('Standard normal distribution')\n",
    "ax.grid()\n",
    "plt.show()"
   ]
  },
  {
   "cell_type": "markdown",
   "metadata": {},
   "source": [
    "## Summary"
   ]
  },
  {
   "cell_type": "markdown",
   "metadata": {},
   "source": [
    "Here, we covered the following Python packages\n",
    "- NumPy\n",
    "- SciPy\n",
    "- pandas\n",
    "- scikit-learn\n",
    "- Matplotlib"
   ]
  },
  {
   "cell_type": "markdown",
   "metadata": {},
   "source": [
    "## Resources"
   ]
  },
  {
   "cell_type": "markdown",
   "metadata": {},
   "source": [
    "Installing Python packages: https://packaging.python.org/en/latest/tutorials/installing-packages/\n",
    "\n",
    "Documentation for\n",
    "- NumPy: https://numpy.org/doc/\n",
    "- SciPy: https://docs.scipy.org/doc//scipy/index.html\n",
    "- pandas: https://pandas.pydata.org/docs/\n",
    "- scikit-learn: https://scikit-learn.org/stable/index.html\n",
    "- Matplotlib: https://matplotlib.org/stable/index.html"
   ]
  }
 ],
 "metadata": {
  "kernelspec": {
   "display_name": "Python 3",
   "language": "python",
   "name": "python3"
  },
  "language_info": {
   "codemirror_mode": {
    "name": "ipython",
    "version": 3
   },
   "file_extension": ".py",
   "mimetype": "text/x-python",
   "name": "python",
   "nbconvert_exporter": "python",
   "pygments_lexer": "ipython3",
   "version": "3.12.1"
  },
  "orig_nbformat": 4
 },
 "nbformat": 4,
 "nbformat_minor": 2
}
