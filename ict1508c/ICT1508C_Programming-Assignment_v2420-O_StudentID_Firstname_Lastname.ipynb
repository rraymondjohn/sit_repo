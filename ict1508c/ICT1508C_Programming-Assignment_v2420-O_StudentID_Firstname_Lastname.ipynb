{
 "cells": [
  {
   "cell_type": "markdown",
   "metadata": {},
   "source": [
    "# ICT1508C Applied Statistics\n",
    "\n",
    "*Programming Assignment*\n",
    "\n",
    ">Student ID:   &emsp;&ensp;Your ID<br>\n",
    ">Student name: Your name<br>\n",
    ">Filename:     &emsp;&emsp;`ICT1508C_Programming-Assignment_v2420-O.ipynb`<br>\n",
    ">Variant:      &emsp;&emsp;&ensp;&ensp;Original<br>\n",
    ">Version:      &emsp;&emsp;&ensp; `2420-O-1.0`<br>\n",
    ">Description:  &ensp;&ensp;Jupyter notebook for ICT1508C Programming Assignment.<br>\n",
    ">Module:       &emsp;&emsp;&ensp;ICT1508C<br>\n",
    ">Type:         &emsp;&emsp;&emsp;&ensp; Assignment<br>\n",
    ">Prepared by:  &ensp;Nicholas H L Wong<br>\n",
    ">Organisation: &nbsp;Singapore Institute of Technology<br>\n",
    ">Division:     &emsp;&emsp;&ensp;Infocomm Technology<br>\n",
    ">Attribution:  &emsp;Copyright &copy; 2025 Nicholas H L Wong – All Rights Reserved<br>"
   ]
  },
  {
   "cell_type": "markdown",
   "metadata": {},
   "source": [
    "## Instructions"
   ]
  },
  {
   "cell_type": "markdown",
   "metadata": {},
   "source": [
    "This is the Programming Assignment for ICT1508C Applied Statistics, 2025. Follow the instructions carefully.\n",
    "- Go through this Jupyter notebook sequentially, answering each **[Task]** or **[Q]** (question) along the way.\n",
    "- For each programming **[Task]**, write your code in the cell commented with `# TODO: Write your code here. #`, immediately below the task. You may add additional code cells if needed immediately below this code cell.\n",
    "- For each open-ended question **[Q]**, type your answer in the markdown cell immediately below the question. Enclose your answer within the markdown `<span style=\"color:green\"> ... </span>` to colour the font green (replace the text \"<span style=\"color:green\">Your answer</span>\" with your actual answer). Use separate markdown blocks for different lines.\n",
    "- **Do not** delete any existing markdown or code cells.\n",
    "- While there may be other functions from other packages that may solve the various tasks, for this assignment, you are to restrict your implementations to only those packages that we have covered in the lessons. The necessary packages will have been imported for you below, and you will not need to import additional packages.\n",
    "- If you referenced anything (e.g., from the web, etc.), cite the source(s) as comments in your code at the appropriate positions."
   ]
  },
  {
   "cell_type": "markdown",
   "metadata": {},
   "source": [
    "## Setup"
   ]
  },
  {
   "cell_type": "code",
   "execution_count": 1,
   "metadata": {},
   "outputs": [],
   "source": [
    "# Import some packages\n",
    "import numpy as np\n",
    "from scipy import stats\n",
    "from sklearn.linear_model import LinearRegression\n",
    "import statsmodels.api as sm\n",
    "from statsmodels.formula.api import ols\n",
    "import pandas as pd\n",
    "import matplotlib.pyplot as plt"
   ]
  },
  {
   "cell_type": "markdown",
   "metadata": {},
   "source": [
    "## Part 1: Data preparation"
   ]
  },
  {
   "cell_type": "markdown",
   "metadata": {},
   "source": [
    "The dataset `2014_and_2015_CSM_dataset.csv` contains data on Hollywood movies released in 2014 and 2015 with conventional and social media (CSM) features.\n",
    "\n",
    "Ref.: https://doi.org/10.24432/C5SP5T"
   ]
  },
  {
   "cell_type": "markdown",
   "metadata": {},
   "source": [
    "Run the following cell to read in the data into a pandas dataframe called `data_raw` and display it. *Note that this assumes that the data file is in the same directory as this Jupyter notebook.*"
   ]
  },
  {
   "cell_type": "code",
   "execution_count": 2,
   "metadata": {},
   "outputs": [
    {
     "data": {
      "text/html": [
       "<div>\n",
       "<style scoped>\n",
       "    .dataframe tbody tr th:only-of-type {\n",
       "        vertical-align: middle;\n",
       "    }\n",
       "\n",
       "    .dataframe tbody tr th {\n",
       "        vertical-align: top;\n",
       "    }\n",
       "\n",
       "    .dataframe thead th {\n",
       "        text-align: right;\n",
       "    }\n",
       "</style>\n",
       "<table border=\"1\" class=\"dataframe\">\n",
       "  <thead>\n",
       "    <tr style=\"text-align: right;\">\n",
       "      <th></th>\n",
       "      <th>Movie</th>\n",
       "      <th>Year</th>\n",
       "      <th>Ratings</th>\n",
       "      <th>Genre</th>\n",
       "      <th>Gross</th>\n",
       "      <th>Budget</th>\n",
       "      <th>Screens</th>\n",
       "      <th>Sequel</th>\n",
       "      <th>Sentiment</th>\n",
       "      <th>Views</th>\n",
       "      <th>Likes</th>\n",
       "      <th>Dislikes</th>\n",
       "      <th>Comments</th>\n",
       "      <th>Aggregate Followers</th>\n",
       "    </tr>\n",
       "  </thead>\n",
       "  <tbody>\n",
       "    <tr>\n",
       "      <th>0</th>\n",
       "      <td>13 Sins</td>\n",
       "      <td>2014</td>\n",
       "      <td>6.3</td>\n",
       "      <td>Comedy</td>\n",
       "      <td>9130</td>\n",
       "      <td>4000000.0</td>\n",
       "      <td>45.0</td>\n",
       "      <td>1</td>\n",
       "      <td>0</td>\n",
       "      <td>3280543</td>\n",
       "      <td>4632</td>\n",
       "      <td>425</td>\n",
       "      <td>636</td>\n",
       "      <td>1120000.0</td>\n",
       "    </tr>\n",
       "    <tr>\n",
       "      <th>1</th>\n",
       "      <td>22 Jump Street</td>\n",
       "      <td>2014</td>\n",
       "      <td>7.1</td>\n",
       "      <td>Action</td>\n",
       "      <td>192000000</td>\n",
       "      <td>50000000.0</td>\n",
       "      <td>3306.0</td>\n",
       "      <td>2</td>\n",
       "      <td>2</td>\n",
       "      <td>583289</td>\n",
       "      <td>3465</td>\n",
       "      <td>61</td>\n",
       "      <td>186</td>\n",
       "      <td>12350000.0</td>\n",
       "    </tr>\n",
       "    <tr>\n",
       "      <th>2</th>\n",
       "      <td>3 Days to Kill</td>\n",
       "      <td>2014</td>\n",
       "      <td>6.2</td>\n",
       "      <td>Action</td>\n",
       "      <td>30700000</td>\n",
       "      <td>28000000.0</td>\n",
       "      <td>2872.0</td>\n",
       "      <td>1</td>\n",
       "      <td>0</td>\n",
       "      <td>304861</td>\n",
       "      <td>328</td>\n",
       "      <td>34</td>\n",
       "      <td>47</td>\n",
       "      <td>483000.0</td>\n",
       "    </tr>\n",
       "    <tr>\n",
       "      <th>3</th>\n",
       "      <td>300: Rise of an Empire</td>\n",
       "      <td>2014</td>\n",
       "      <td>6.3</td>\n",
       "      <td>Action</td>\n",
       "      <td>106000000</td>\n",
       "      <td>110000000.0</td>\n",
       "      <td>3470.0</td>\n",
       "      <td>2</td>\n",
       "      <td>0</td>\n",
       "      <td>452917</td>\n",
       "      <td>2429</td>\n",
       "      <td>132</td>\n",
       "      <td>590</td>\n",
       "      <td>568000.0</td>\n",
       "    </tr>\n",
       "    <tr>\n",
       "      <th>4</th>\n",
       "      <td>A Haunted House 2</td>\n",
       "      <td>2014</td>\n",
       "      <td>4.7</td>\n",
       "      <td>Comedy</td>\n",
       "      <td>17300000</td>\n",
       "      <td>3500000.0</td>\n",
       "      <td>2310.0</td>\n",
       "      <td>2</td>\n",
       "      <td>0</td>\n",
       "      <td>3145573</td>\n",
       "      <td>12163</td>\n",
       "      <td>610</td>\n",
       "      <td>1082</td>\n",
       "      <td>1923800.0</td>\n",
       "    </tr>\n",
       "    <tr>\n",
       "      <th>...</th>\n",
       "      <td>...</td>\n",
       "      <td>...</td>\n",
       "      <td>...</td>\n",
       "      <td>...</td>\n",
       "      <td>...</td>\n",
       "      <td>...</td>\n",
       "      <td>...</td>\n",
       "      <td>...</td>\n",
       "      <td>...</td>\n",
       "      <td>...</td>\n",
       "      <td>...</td>\n",
       "      <td>...</td>\n",
       "      <td>...</td>\n",
       "      <td>...</td>\n",
       "    </tr>\n",
       "    <tr>\n",
       "      <th>226</th>\n",
       "      <td>Child 44</td>\n",
       "      <td>2015</td>\n",
       "      <td>6.4</td>\n",
       "      <td>Thriller</td>\n",
       "      <td>1210000</td>\n",
       "      <td>50000000.0</td>\n",
       "      <td>66.0</td>\n",
       "      <td>1</td>\n",
       "      <td>4</td>\n",
       "      <td>3701061</td>\n",
       "      <td>9325</td>\n",
       "      <td>641</td>\n",
       "      <td>1859</td>\n",
       "      <td>NaN</td>\n",
       "    </tr>\n",
       "    <tr>\n",
       "      <th>227</th>\n",
       "      <td>Aloha</td>\n",
       "      <td>2015</td>\n",
       "      <td>5.5</td>\n",
       "      <td>Horror</td>\n",
       "      <td>21000000</td>\n",
       "      <td>37000000.0</td>\n",
       "      <td>2815.0</td>\n",
       "      <td>1</td>\n",
       "      <td>13</td>\n",
       "      <td>7119456</td>\n",
       "      <td>18803</td>\n",
       "      <td>1128</td>\n",
       "      <td>2290</td>\n",
       "      <td>NaN</td>\n",
       "    </tr>\n",
       "    <tr>\n",
       "      <th>228</th>\n",
       "      <td>Unfinished Business</td>\n",
       "      <td>2015</td>\n",
       "      <td>5.4</td>\n",
       "      <td>Comedy</td>\n",
       "      <td>10200000</td>\n",
       "      <td>35000000.0</td>\n",
       "      <td>2777.0</td>\n",
       "      <td>1</td>\n",
       "      <td>7</td>\n",
       "      <td>3450614</td>\n",
       "      <td>6823</td>\n",
       "      <td>325</td>\n",
       "      <td>409</td>\n",
       "      <td>NaN</td>\n",
       "    </tr>\n",
       "    <tr>\n",
       "      <th>229</th>\n",
       "      <td>War Room</td>\n",
       "      <td>2015</td>\n",
       "      <td>5.4</td>\n",
       "      <td>Action</td>\n",
       "      <td>12300000</td>\n",
       "      <td>3000000.0</td>\n",
       "      <td>NaN</td>\n",
       "      <td>1</td>\n",
       "      <td>10</td>\n",
       "      <td>66872</td>\n",
       "      <td>400</td>\n",
       "      <td>67</td>\n",
       "      <td>201</td>\n",
       "      <td>NaN</td>\n",
       "    </tr>\n",
       "    <tr>\n",
       "      <th>230</th>\n",
       "      <td>The Gallows</td>\n",
       "      <td>2015</td>\n",
       "      <td>4.4</td>\n",
       "      <td>Horror</td>\n",
       "      <td>22600000</td>\n",
       "      <td>100000.0</td>\n",
       "      <td>2720.0</td>\n",
       "      <td>1</td>\n",
       "      <td>-5</td>\n",
       "      <td>659772</td>\n",
       "      <td>2841</td>\n",
       "      <td>431</td>\n",
       "      <td>606</td>\n",
       "      <td>NaN</td>\n",
       "    </tr>\n",
       "  </tbody>\n",
       "</table>\n",
       "<p>231 rows × 14 columns</p>\n",
       "</div>"
      ],
      "text/plain": [
       "                      Movie  Year  Ratings     Genre      Gross       Budget  \\\n",
       "0                   13 Sins  2014      6.3    Comedy       9130    4000000.0   \n",
       "1            22 Jump Street  2014      7.1    Action  192000000   50000000.0   \n",
       "2            3 Days to Kill  2014      6.2    Action   30700000   28000000.0   \n",
       "3    300: Rise of an Empire  2014      6.3    Action  106000000  110000000.0   \n",
       "4         A Haunted House 2  2014      4.7    Comedy   17300000    3500000.0   \n",
       "..                      ...   ...      ...       ...        ...          ...   \n",
       "226                Child 44  2015      6.4  Thriller    1210000   50000000.0   \n",
       "227                   Aloha  2015      5.5    Horror   21000000   37000000.0   \n",
       "228     Unfinished Business  2015      5.4    Comedy   10200000   35000000.0   \n",
       "229                War Room  2015      5.4    Action   12300000    3000000.0   \n",
       "230             The Gallows  2015      4.4    Horror   22600000     100000.0   \n",
       "\n",
       "     Screens  Sequel  Sentiment    Views  Likes  Dislikes  Comments  \\\n",
       "0       45.0       1          0  3280543   4632       425       636   \n",
       "1     3306.0       2          2   583289   3465        61       186   \n",
       "2     2872.0       1          0   304861    328        34        47   \n",
       "3     3470.0       2          0   452917   2429       132       590   \n",
       "4     2310.0       2          0  3145573  12163       610      1082   \n",
       "..       ...     ...        ...      ...    ...       ...       ...   \n",
       "226     66.0       1          4  3701061   9325       641      1859   \n",
       "227   2815.0       1         13  7119456  18803      1128      2290   \n",
       "228   2777.0       1          7  3450614   6823       325       409   \n",
       "229      NaN       1         10    66872    400        67       201   \n",
       "230   2720.0       1         -5   659772   2841       431       606   \n",
       "\n",
       "     Aggregate Followers  \n",
       "0              1120000.0  \n",
       "1             12350000.0  \n",
       "2               483000.0  \n",
       "3               568000.0  \n",
       "4              1923800.0  \n",
       "..                   ...  \n",
       "226                  NaN  \n",
       "227                  NaN  \n",
       "228                  NaN  \n",
       "229                  NaN  \n",
       "230                  NaN  \n",
       "\n",
       "[231 rows x 14 columns]"
      ]
     },
     "execution_count": 2,
     "metadata": {},
     "output_type": "execute_result"
    }
   ],
   "source": [
    "# Read the data into a dataframe\n",
    "data_raw = pd.read_csv(\"2014_and_2015_CSM_dataset.csv\", sep=',', header=0)\n",
    "data_raw"
   ]
  },
  {
   "cell_type": "markdown",
   "metadata": {},
   "source": [
    "We need to clean up the data to remove the `\"na\"` or blank values and also convert the numeric columns to float type. We will also divide the `Budget` column by 1,000,000 so that the amount is in terms of millions of US$. Note that the other columns are still in the original units (e.g., `Gross` is still in US$, not millions of US$).\n",
    "\n",
    "Run the following cell to do these."
   ]
  },
  {
   "cell_type": "code",
   "execution_count": 3,
   "metadata": {},
   "outputs": [
    {
     "data": {
      "text/html": [
       "<div>\n",
       "<style scoped>\n",
       "    .dataframe tbody tr th:only-of-type {\n",
       "        vertical-align: middle;\n",
       "    }\n",
       "\n",
       "    .dataframe tbody tr th {\n",
       "        vertical-align: top;\n",
       "    }\n",
       "\n",
       "    .dataframe thead th {\n",
       "        text-align: right;\n",
       "    }\n",
       "</style>\n",
       "<table border=\"1\" class=\"dataframe\">\n",
       "  <thead>\n",
       "    <tr style=\"text-align: right;\">\n",
       "      <th></th>\n",
       "      <th>Movie</th>\n",
       "      <th>Year</th>\n",
       "      <th>Ratings</th>\n",
       "      <th>Genre</th>\n",
       "      <th>Gross</th>\n",
       "      <th>Budget</th>\n",
       "      <th>Screens</th>\n",
       "      <th>Sequel</th>\n",
       "      <th>Views</th>\n",
       "      <th>Likes</th>\n",
       "      <th>Dislikes</th>\n",
       "    </tr>\n",
       "  </thead>\n",
       "  <tbody>\n",
       "    <tr>\n",
       "      <th>0</th>\n",
       "      <td>13 Sins</td>\n",
       "      <td>2014</td>\n",
       "      <td>6.3</td>\n",
       "      <td>Comedy</td>\n",
       "      <td>9130</td>\n",
       "      <td>4.0</td>\n",
       "      <td>45.0</td>\n",
       "      <td>1</td>\n",
       "      <td>3280543</td>\n",
       "      <td>4632</td>\n",
       "      <td>425</td>\n",
       "    </tr>\n",
       "    <tr>\n",
       "      <th>1</th>\n",
       "      <td>22 Jump Street</td>\n",
       "      <td>2014</td>\n",
       "      <td>7.1</td>\n",
       "      <td>Action</td>\n",
       "      <td>192000000</td>\n",
       "      <td>50.0</td>\n",
       "      <td>3306.0</td>\n",
       "      <td>2</td>\n",
       "      <td>583289</td>\n",
       "      <td>3465</td>\n",
       "      <td>61</td>\n",
       "    </tr>\n",
       "    <tr>\n",
       "      <th>2</th>\n",
       "      <td>3 Days to Kill</td>\n",
       "      <td>2014</td>\n",
       "      <td>6.2</td>\n",
       "      <td>Action</td>\n",
       "      <td>30700000</td>\n",
       "      <td>28.0</td>\n",
       "      <td>2872.0</td>\n",
       "      <td>1</td>\n",
       "      <td>304861</td>\n",
       "      <td>328</td>\n",
       "      <td>34</td>\n",
       "    </tr>\n",
       "    <tr>\n",
       "      <th>3</th>\n",
       "      <td>300: Rise of an Empire</td>\n",
       "      <td>2014</td>\n",
       "      <td>6.3</td>\n",
       "      <td>Action</td>\n",
       "      <td>106000000</td>\n",
       "      <td>110.0</td>\n",
       "      <td>3470.0</td>\n",
       "      <td>2</td>\n",
       "      <td>452917</td>\n",
       "      <td>2429</td>\n",
       "      <td>132</td>\n",
       "    </tr>\n",
       "    <tr>\n",
       "      <th>4</th>\n",
       "      <td>A Haunted House 2</td>\n",
       "      <td>2014</td>\n",
       "      <td>4.7</td>\n",
       "      <td>Comedy</td>\n",
       "      <td>17300000</td>\n",
       "      <td>3.5</td>\n",
       "      <td>2310.0</td>\n",
       "      <td>2</td>\n",
       "      <td>3145573</td>\n",
       "      <td>12163</td>\n",
       "      <td>610</td>\n",
       "    </tr>\n",
       "    <tr>\n",
       "      <th>...</th>\n",
       "      <td>...</td>\n",
       "      <td>...</td>\n",
       "      <td>...</td>\n",
       "      <td>...</td>\n",
       "      <td>...</td>\n",
       "      <td>...</td>\n",
       "      <td>...</td>\n",
       "      <td>...</td>\n",
       "      <td>...</td>\n",
       "      <td>...</td>\n",
       "      <td>...</td>\n",
       "    </tr>\n",
       "    <tr>\n",
       "      <th>225</th>\n",
       "      <td>The Second Best Exotic Marigold Hotel</td>\n",
       "      <td>2015</td>\n",
       "      <td>6.6</td>\n",
       "      <td>Action</td>\n",
       "      <td>33100000</td>\n",
       "      <td>10.0</td>\n",
       "      <td>1573.0</td>\n",
       "      <td>2</td>\n",
       "      <td>831044</td>\n",
       "      <td>2427</td>\n",
       "      <td>99</td>\n",
       "    </tr>\n",
       "    <tr>\n",
       "      <th>226</th>\n",
       "      <td>Child 44</td>\n",
       "      <td>2015</td>\n",
       "      <td>6.4</td>\n",
       "      <td>Thriller</td>\n",
       "      <td>1210000</td>\n",
       "      <td>50.0</td>\n",
       "      <td>66.0</td>\n",
       "      <td>1</td>\n",
       "      <td>3701061</td>\n",
       "      <td>9325</td>\n",
       "      <td>641</td>\n",
       "    </tr>\n",
       "    <tr>\n",
       "      <th>227</th>\n",
       "      <td>Aloha</td>\n",
       "      <td>2015</td>\n",
       "      <td>5.5</td>\n",
       "      <td>Horror</td>\n",
       "      <td>21000000</td>\n",
       "      <td>37.0</td>\n",
       "      <td>2815.0</td>\n",
       "      <td>1</td>\n",
       "      <td>7119456</td>\n",
       "      <td>18803</td>\n",
       "      <td>1128</td>\n",
       "    </tr>\n",
       "    <tr>\n",
       "      <th>228</th>\n",
       "      <td>Unfinished Business</td>\n",
       "      <td>2015</td>\n",
       "      <td>5.4</td>\n",
       "      <td>Comedy</td>\n",
       "      <td>10200000</td>\n",
       "      <td>35.0</td>\n",
       "      <td>2777.0</td>\n",
       "      <td>1</td>\n",
       "      <td>3450614</td>\n",
       "      <td>6823</td>\n",
       "      <td>325</td>\n",
       "    </tr>\n",
       "    <tr>\n",
       "      <th>230</th>\n",
       "      <td>The Gallows</td>\n",
       "      <td>2015</td>\n",
       "      <td>4.4</td>\n",
       "      <td>Horror</td>\n",
       "      <td>22600000</td>\n",
       "      <td>0.1</td>\n",
       "      <td>2720.0</td>\n",
       "      <td>1</td>\n",
       "      <td>659772</td>\n",
       "      <td>2841</td>\n",
       "      <td>431</td>\n",
       "    </tr>\n",
       "  </tbody>\n",
       "</table>\n",
       "<p>220 rows × 11 columns</p>\n",
       "</div>"
      ],
      "text/plain": [
       "                                     Movie  Year  Ratings     Genre  \\\n",
       "0                                  13 Sins  2014      6.3    Comedy   \n",
       "1                           22 Jump Street  2014      7.1    Action   \n",
       "2                           3 Days to Kill  2014      6.2    Action   \n",
       "3                   300: Rise of an Empire  2014      6.3    Action   \n",
       "4                        A Haunted House 2  2014      4.7    Comedy   \n",
       "..                                     ...   ...      ...       ...   \n",
       "225  The Second Best Exotic Marigold Hotel  2015      6.6    Action   \n",
       "226                               Child 44  2015      6.4  Thriller   \n",
       "227                                  Aloha  2015      5.5    Horror   \n",
       "228                    Unfinished Business  2015      5.4    Comedy   \n",
       "230                            The Gallows  2015      4.4    Horror   \n",
       "\n",
       "         Gross  Budget  Screens  Sequel    Views  Likes  Dislikes  \n",
       "0         9130     4.0     45.0       1  3280543   4632       425  \n",
       "1    192000000    50.0   3306.0       2   583289   3465        61  \n",
       "2     30700000    28.0   2872.0       1   304861    328        34  \n",
       "3    106000000   110.0   3470.0       2   452917   2429       132  \n",
       "4     17300000     3.5   2310.0       2  3145573  12163       610  \n",
       "..         ...     ...      ...     ...      ...    ...       ...  \n",
       "225   33100000    10.0   1573.0       2   831044   2427        99  \n",
       "226    1210000    50.0     66.0       1  3701061   9325       641  \n",
       "227   21000000    37.0   2815.0       1  7119456  18803      1128  \n",
       "228   10200000    35.0   2777.0       1  3450614   6823       325  \n",
       "230   22600000     0.1   2720.0       1   659772   2841       431  \n",
       "\n",
       "[220 rows x 11 columns]"
      ]
     },
     "execution_count": 3,
     "metadata": {},
     "output_type": "execute_result"
    }
   ],
   "source": [
    "# List of column names\n",
    "names = ['Movie', 'Year', 'Ratings', 'Genre', 'Gross', 'Budget', \n",
    "         'Screens', 'Sequel', 'Views', 'Likes', 'Dislikes']\n",
    "\n",
    "# Extract out the columns we want. Also, remove any row that has missing (NaN) values.\n",
    "data_clean = data_raw[names].dropna()\n",
    "\n",
    "# Scale the `Budget' column\n",
    "data_clean['Budget'] = data_clean['Budget'] / 1000000\n",
    "\n",
    "data_clean"
   ]
  },
  {
   "cell_type": "markdown",
   "metadata": {},
   "source": [
    "From here on, we can use `data_clean` as a starting point for the subsequent analyses."
   ]
  },
  {
   "cell_type": "markdown",
   "metadata": {},
   "source": [
    "## Part 2: Exploratory data analysis"
   ]
  },
  {
   "cell_type": "markdown",
   "metadata": {},
   "source": [
    "We wish to compare the distributions of the `Budget` for the various movie genres."
   ]
  },
  {
   "cell_type": "markdown",
   "metadata": {},
   "source": [
    "#### **[Task 1]**: Display an array of histograms of `Budget`, grouping by `Genre`. Use 15 bins and set both `sharex` and `sharey` to `True`. Make sure to include appropriate axis labels.\n",
    "\n",
    "You should end up with three histograms arranged in a 3-by-3 grid.\n",
    "\n",
    "**(7 marks)**"
   ]
  },
  {
   "cell_type": "code",
   "execution_count": 4,
   "metadata": {},
   "outputs": [
    {
     "data": {
      "image/png": "[encoded data removed]",
      "text/plain": [
       "<Figure size 900x900 with 9 Axes>"
      ]
     },
     "metadata": {},
     "output_type": "display_data"
    }
   ],
   "source": [
    "histarr = data_clean.hist(column='Budget', by='Genre', grid=True, sharex=True, sharey=True, bins=15, figsize=(9,9))\n",
    "\n",
    "for ax in histarr.flatten():\n",
    "    ax.set_xlabel(\"Budget\")\n",
    "    ax.set_ylabel(\"Million\")\n"
   ]
  },
  {
   "cell_type": "markdown",
   "metadata": {},
   "source": [
    "## Part 3: Relationship of gross earnings to other factors"
   ]
  },
  {
   "cell_type": "markdown",
   "metadata": {},
   "source": [
    "The gross earnings (in US$) of a movie can be used to gauge its box office success. We are interested to know how the gross is related to various factors, such as the movie genre and how many views the movie's social media page got."
   ]
  },
  {
   "cell_type": "markdown",
   "metadata": {},
   "source": [
    "We want to see how `Gross` depends on `Genre` and `Views`.\n",
    "\n",
    "Run the following cell to create the training dataset. Note that we are **not** going to extract out a testing dataset from the training dataset."
   ]
  },
  {
   "cell_type": "code",
   "execution_count": 5,
   "metadata": {},
   "outputs": [],
   "source": [
    "# Create training dataset\n",
    "X_train = data_clean[['Genre', 'Views']]\n",
    "y_train = data_clean['Gross']"
   ]
  },
  {
   "cell_type": "markdown",
   "metadata": {},
   "source": [
    "#### **[Task 2]**: Perform linear regression with `Gross` as the dependent variable, and `Genre` and `Views` as the independent variables. Save the fitted model into a variable called `lin_reg`.\n",
    "\n",
    "Hints:\n",
    "- We will want the regression summary later. Decide on an appropriate package to use that will give us this information.\n",
    "- Remember to convert the categorical variable `Genre` to dummy variables. Use `Action` as the base case.\n",
    "\n",
    "**(9 marks)**"
   ]
  },
  {
   "cell_type": "code",
   "execution_count": 6,
   "metadata": {},
   "outputs": [],
   "source": [
    "X_train_dummy = pd.get_dummies(X_train, columns=['Genre'], prefix=\"Genre\", drop_first=True, dtype=float)\n",
    "\n",
    "X_train_dummy = sm.add_constant(X_train_dummy)\n",
    "\n",
    "lin_reg = sm.OLS(y_train, X_train_dummy).fit()"
   ]
  },
  {
   "cell_type": "markdown",
   "metadata": {},
   "source": [
    "#### **[Task 3]**: Display the estimated regression coefficients, including the intercept.\n",
    "\n",
    "**(2 marks)**"
   ]
  },
  {
   "cell_type": "code",
   "execution_count": 7,
   "metadata": {},
   "outputs": [
    {
     "name": "stdout",
     "output_type": "stream",
     "text": [
      "Regression Coefficients and Intercept (const):\n",
      "const              1.059193e+08\n",
      "Views              3.128001e+00\n",
      "Genre_Adventure    9.423941e+06\n",
      "Genre_Animation    1.777127e+07\n",
      "Genre_Biography   -6.943791e+07\n",
      "Genre_Comedy      -7.127636e+07\n",
      "Genre_Crime       -8.853032e+07\n",
      "Genre_Drama       -8.545014e+07\n",
      "Genre_Horror      -9.207859e+07\n",
      "Genre_Thriller    -9.981336e+07\n",
      "dtype: float64\n"
     ]
    }
   ],
   "source": [
    "print(\"Regression Coefficients and Intercept (const):\")\n",
    "print(lin_reg.params)"
   ]
  },
  {
   "cell_type": "markdown",
   "metadata": {},
   "source": [
    "#### **[Task 4]**: Display the regression summary.\n",
    "\n",
    "**(2 marks)**"
   ]
  },
  {
   "cell_type": "code",
   "execution_count": 8,
   "metadata": {},
   "outputs": [
    {
     "name": "stdout",
     "output_type": "stream",
     "text": [
      "                            OLS Regression Results                            \n",
      "==============================================================================\n",
      "Dep. Variable:                  Gross   R-squared:                       0.243\n",
      "Model:                            OLS   Adj. R-squared:                  0.210\n",
      "Method:                 Least Squares   F-statistic:                     7.477\n",
      "Date:                Sun, 30 Mar 2025   Prob (F-statistic):           1.81e-09\n",
      "Time:                        22:03:43   Log-Likelihood:                -4310.3\n",
      "No. Observations:                 220   AIC:                             8641.\n",
      "Df Residuals:                     210   BIC:                             8675.\n",
      "Df Model:                           9                                         \n",
      "Covariance Type:            nonrobust                                         \n",
      "===================================================================================\n",
      "                      coef    std err          t      P>|t|      [0.025      0.975]\n",
      "-----------------------------------------------------------------------------------\n",
      "const            1.059e+08   1.13e+07      9.365      0.000    8.36e+07    1.28e+08\n",
      "Views               3.1280      1.199      2.610      0.010       0.765       5.491\n",
      "Genre_Adventure  9.424e+06   2.53e+07      0.373      0.709   -4.04e+07    5.92e+07\n",
      "Genre_Animation  1.777e+07   2.44e+07      0.729      0.467   -3.03e+07    6.59e+07\n",
      "Genre_Biography -6.944e+07   2.44e+07     -2.841      0.005   -1.18e+08   -2.13e+07\n",
      "Genre_Comedy    -7.128e+07   1.52e+07     -4.691      0.000   -1.01e+08   -4.13e+07\n",
      "Genre_Crime     -8.853e+07   2.53e+07     -3.494      0.001   -1.38e+08   -3.86e+07\n",
      "Genre_Drama     -8.545e+07   1.59e+07     -5.387      0.000   -1.17e+08   -5.42e+07\n",
      "Genre_Horror    -9.208e+07   2.73e+07     -3.378      0.001   -1.46e+08   -3.83e+07\n",
      "Genre_Thriller  -9.981e+07   3.72e+07     -2.684      0.008   -1.73e+08   -2.65e+07\n",
      "==============================================================================\n",
      "Omnibus:                      130.904   Durbin-Watson:                   1.364\n",
      "Prob(Omnibus):                  0.000   Jarque-Bera (JB):              955.898\n",
      "Skew:                           2.259   Prob(JB):                    2.69e-208\n",
      "Kurtosis:                      12.158   Cond. No.                     4.43e+07\n",
      "==============================================================================\n",
      "\n",
      "Notes:\n",
      "[1] Standard Errors assume that the covariance matrix of the errors is correctly specified.\n",
      "[2] The condition number is large, 4.43e+07. This might indicate that there are\n",
      "strong multicollinearity or other numerical problems.\n"
     ]
    }
   ],
   "source": [
    "print(lin_reg.summary())\n"
   ]
  },
  {
   "cell_type": "markdown",
   "metadata": {},
   "source": [
    "#### **[Q 1]**: Interpret the coefficient for `Genre_Crime`.\n",
    "\n",
    "**(3 marks)**"
   ]
  },
  {
   "cell_type": "markdown",
   "metadata": {},
   "source": [
    "<span style=\"color:green\">Compared to the `Action` genre, the `Gross` of the `Crime` genre will be about $88530000 less, with all else being fixed</span>"
   ]
  },
  {
   "cell_type": "markdown",
   "metadata": {},
   "source": [
    "#### **[Q 2]**: Interpret the coefficient for `Genre_Adventure`.\n",
    "\n",
    "**(3 marks)**"
   ]
  },
  {
   "cell_type": "markdown",
   "metadata": {},
   "source": [
    "<span style=\"color:green\">Compared to the `Action` genre, the `Gross` of the `Adventure` genre will be about $9424000 more, with all else being fixed</span>\n"
   ]
  },
  {
   "cell_type": "markdown",
   "metadata": {},
   "source": [
    "#### **[Q 3]**: Interpret the coefficient for `Views`.\n",
    "\n",
    "**(3 marks)**"
   ]
  },
  {
   "cell_type": "markdown",
   "metadata": {},
   "source": [
    "<span style=\"color:green\">For every additional `Views`, the `Gross` will increase by about $3.128, with all else being fixed</span>"
   ]
  },
  {
   "cell_type": "markdown",
   "metadata": {},
   "source": [
    "#### **[Q 4]**: Interpret the adjusted $r^2$-value.\n",
    "\n",
    "**(3 marks)**"
   ]
  },
  {
   "cell_type": "markdown",
   "metadata": {},
   "source": [
    "<span style=\"color:green\">21% of the variation in the dependent variable, `Gross`, is explained by the variation in the independent variables, `Genre` and `Views`</span>"
   ]
  },
  {
   "cell_type": "markdown",
   "metadata": {},
   "source": [
    "#### **[Task 5]**: Predict how much a `Biography` movie will gross, if it has 1,200,000 (1.2 million) `Views` on its social media page. Display the predicted gross amount.\n",
    "\n",
    "**(7 marks)**"
   ]
  },
  {
   "cell_type": "code",
   "execution_count": 9,
   "metadata": {},
   "outputs": [
    {
     "name": "stdout",
     "output_type": "stream",
     "text": [
      "Predicted Gross of Biography genre: $40235017.36\n"
     ]
    }
   ],
   "source": [
    "new_data = pd.DataFrame({\n",
    "    'Views': [1200000],\n",
    "    'Genre': ['Biography']\n",
    "})\n",
    "\n",
    "new_dummy_var = pd.get_dummies(new_data, columns=['Genre'], prefix='Genre', drop_first=False)\n",
    "\n",
    "for col in X_train_dummy.columns:\n",
    "    if col not in new_dummy_var.columns and col != 'const':\n",
    "        new_dummy_var[col] = 0\n",
    "\n",
    "new_dummy_var = sm.add_constant(new_dummy_var, has_constant='add')\n",
    "new_dummy_var = new_dummy_var[X_train_dummy.columns]\n",
    "predicted_gross = lin_reg.predict(new_dummy_var).item()\n",
    "\n",
    "print(f\"Predicted Gross of Biography genre: ${predicted_gross:.2f}\")\n",
    "\n",
    "# bio_data = data_clean[data_clean['Genre'] == 'Biography']\n",
    "# avg_views = bio_data['Views'].mean()\n",
    "# avg_gross = bio_data['Gross'].mean()\n",
    "# print(f\"Average Views for Biography: {avg_views:,.2f}\")\n",
    "# print(f\"Average Gross for Biography: ${avg_gross:,.2f}\")"
   ]
  },
  {
   "cell_type": "markdown",
   "metadata": {},
   "source": [
    "#### **[Q 5]**: Do you think this is a reasonable prediction? Why or why not?\n",
    "\n",
    "**(3 marks)**"
   ]
  },
  {
   "cell_type": "markdown",
   "metadata": {},
   "source": [
    "<span style=\"color:green\">Yes. If we compare it against the averages in the actual dataset, it is slightly below the average `Gross` which also aligns with it being slightly below `Views`</span>"
   ]
  },
  {
   "cell_type": "markdown",
   "metadata": {},
   "source": [
    "## Part 4: Analyses of gross earnings and social media page views"
   ]
  },
  {
   "cell_type": "markdown",
   "metadata": {},
   "source": [
    "### Part 4.1"
   ]
  },
  {
   "cell_type": "markdown",
   "metadata": {},
   "source": [
    "We want to know if there was a substantial difference in the `Gross` between the various genres, particularly, `Action`, `Comedy`, and `Drama`."
   ]
  },
  {
   "cell_type": "markdown",
   "metadata": {},
   "source": [
    "We create a separate dataset with the movies from only these genres. Run the code cell below."
   ]
  },
  {
   "cell_type": "code",
   "execution_count": 10,
   "metadata": {},
   "outputs": [],
   "source": [
    "data_clean2 = data_clean[data_clean['Genre'].isin(['Action', 'Comedy', 'Drama'])]"
   ]
  },
  {
   "cell_type": "markdown",
   "metadata": {},
   "source": [
    "#### **[Task 6]**: Display box-and-whisper plots of `Gross`, grouped by `Genre`. Use the dataset from `data_clean2`. Set the vertical axis label as \"`Gross`\". Give the vertical axis an appropriate label.\n",
    "\n",
    "You should end up with three individual box-and-whisper plots all next to one another within the same set of axes.\n",
    "\n",
    "**(4 marks)**"
   ]
  },
  {
   "cell_type": "code",
   "execution_count": 11,
   "metadata": {},
   "outputs": [
    {
     "data": {
      "text/plain": [
       "Text(0, 0.5, 'Gross')"
      ]
     },
     "execution_count": 11,
     "metadata": {},
     "output_type": "execute_result"
    },
    {
     "data": {
      "image/png": "[encoded data removed]",
      "text/plain": [
       "<Figure size 800x400 with 1 Axes>"
      ]
     },
     "metadata": {},
     "output_type": "display_data"
    }
   ],
   "source": [
    "data_clean2.boxplot(column='Gross', by=\"Genre\", grid=True, figsize=(8,4))\n",
    "plt.ylabel('Gross')"
   ]
  },
  {
   "cell_type": "markdown",
   "metadata": {},
   "source": [
    "### Part 4.2"
   ]
  },
  {
   "cell_type": "markdown",
   "metadata": {},
   "source": [
    "We will perform a one-way analysis of variance (ANOVA) on the average gross to see if there were differences across these genres.\n",
    "\n",
    "Run the following cell to filter the data for this step."
   ]
  },
  {
   "cell_type": "code",
   "execution_count": 12,
   "metadata": {},
   "outputs": [
    {
     "data": {
      "text/html": [
       "<div>\n",
       "<style scoped>\n",
       "    .dataframe tbody tr th:only-of-type {\n",
       "        vertical-align: middle;\n",
       "    }\n",
       "\n",
       "    .dataframe tbody tr th {\n",
       "        vertical-align: top;\n",
       "    }\n",
       "\n",
       "    .dataframe thead th {\n",
       "        text-align: right;\n",
       "    }\n",
       "</style>\n",
       "<table border=\"1\" class=\"dataframe\">\n",
       "  <thead>\n",
       "    <tr style=\"text-align: right;\">\n",
       "      <th></th>\n",
       "      <th>Genre</th>\n",
       "      <th>Gross</th>\n",
       "    </tr>\n",
       "  </thead>\n",
       "  <tbody>\n",
       "    <tr>\n",
       "      <th>0</th>\n",
       "      <td>Comedy</td>\n",
       "      <td>9130</td>\n",
       "    </tr>\n",
       "    <tr>\n",
       "      <th>1</th>\n",
       "      <td>Action</td>\n",
       "      <td>192000000</td>\n",
       "    </tr>\n",
       "    <tr>\n",
       "      <th>2</th>\n",
       "      <td>Action</td>\n",
       "      <td>30700000</td>\n",
       "    </tr>\n",
       "    <tr>\n",
       "      <th>3</th>\n",
       "      <td>Action</td>\n",
       "      <td>106000000</td>\n",
       "    </tr>\n",
       "    <tr>\n",
       "      <th>4</th>\n",
       "      <td>Comedy</td>\n",
       "      <td>17300000</td>\n",
       "    </tr>\n",
       "    <tr>\n",
       "      <th>...</th>\n",
       "      <td>...</td>\n",
       "      <td>...</td>\n",
       "    </tr>\n",
       "    <tr>\n",
       "      <th>222</th>\n",
       "      <td>Action</td>\n",
       "      <td>31600000</td>\n",
       "    </tr>\n",
       "    <tr>\n",
       "      <th>223</th>\n",
       "      <td>Comedy</td>\n",
       "      <td>444000</td>\n",
       "    </tr>\n",
       "    <tr>\n",
       "      <th>224</th>\n",
       "      <td>Comedy</td>\n",
       "      <td>26400000</td>\n",
       "    </tr>\n",
       "    <tr>\n",
       "      <th>225</th>\n",
       "      <td>Action</td>\n",
       "      <td>33100000</td>\n",
       "    </tr>\n",
       "    <tr>\n",
       "      <th>228</th>\n",
       "      <td>Comedy</td>\n",
       "      <td>10200000</td>\n",
       "    </tr>\n",
       "  </tbody>\n",
       "</table>\n",
       "<p>155 rows × 2 columns</p>\n",
       "</div>"
      ],
      "text/plain": [
       "      Genre      Gross\n",
       "0    Comedy       9130\n",
       "1    Action  192000000\n",
       "2    Action   30700000\n",
       "3    Action  106000000\n",
       "4    Comedy   17300000\n",
       "..      ...        ...\n",
       "222  Action   31600000\n",
       "223  Comedy     444000\n",
       "224  Comedy   26400000\n",
       "225  Action   33100000\n",
       "228  Comedy   10200000\n",
       "\n",
       "[155 rows x 2 columns]"
      ]
     },
     "execution_count": 12,
     "metadata": {},
     "output_type": "execute_result"
    }
   ],
   "source": [
    "data_aov = data_clean2[['Genre', 'Gross']]\n",
    "data_aov"
   ]
  },
  {
   "cell_type": "markdown",
   "metadata": {},
   "source": [
    "#### **[Q 6]** State the null and alternative hypotheses for this ANOVA test.\n",
    "\n",
    "**(3 marks)**"
   ]
  },
  {
   "cell_type": "markdown",
   "metadata": {},
   "source": [
    "<span style=\"color:green\">Null Hypothesis: There is no difference in average gross across the genres ( = 0)</span><br/>\n",
    "<span style=\"color:green\">Alternative Hypothesis: There is at least 1 genre that has a different average gross ( != 0)</span>\n",
    "\n",
    "$$\n",
    "  \\begin{align*}\n",
    "    H_0\\, &:\\, \\mu_d = 0 \\\\\n",
    "    H_a\\, &:\\, \\mu_d \\neq 0\n",
    "  \\end{align*}\n",
    "$$"
   ]
  },
  {
   "cell_type": "markdown",
   "metadata": {},
   "source": [
    "#### **[Task 7]**: Perform a one-way ANOVA to compare the average `Gross` across these three different `Genre`s, using the 1% significance level. Display the ANOVA table.\n",
    "\n",
    "**(7 marks)**"
   ]
  },
  {
   "cell_type": "code",
   "execution_count": 13,
   "metadata": {},
   "outputs": [
    {
     "name": "stdout",
     "output_type": "stream",
     "text": [
      "                sum_sq     df          F        PR(>F)\n",
      "C(Genre)  2.313326e+17    2.0  15.373967  8.304709e-07\n",
      "Residual  1.143574e+18  152.0        NaN           NaN\n"
     ]
    }
   ],
   "source": [
    "model = ols('Gross ~ C(Genre)', data=data_aov).fit()\n",
    "anova_table = sm.stats.anova_lm(model, typ=2)\n",
    "print(anova_table)"
   ]
  },
  {
   "cell_type": "markdown",
   "metadata": {},
   "source": [
    "#### **[Task 8]**: Programmatically compare the $p$-value with the stated significance level to see whether the former is less than the latter.\n",
    "\n",
    "**(3 marks)**"
   ]
  },
  {
   "cell_type": "code",
   "execution_count": 14,
   "metadata": {},
   "outputs": [
    {
     "name": "stdout",
     "output_type": "stream",
     "text": [
      "True\n"
     ]
    }
   ],
   "source": [
    "alpha = 0.01\n",
    "anova_table['PR(>F)'].iloc[0] < alpha\n",
    "print(anova_table['PR(>F)'].iloc[0] < alpha)"
   ]
  },
  {
   "cell_type": "markdown",
   "metadata": {},
   "source": [
    "#### **[Q 7]** Based on this result, state the conclusion.\n",
    "\n",
    "**(2 marks)**"
   ]
  },
  {
   "cell_type": "markdown",
   "metadata": {},
   "source": [
    "<span style=\"color:green\">We reject the Null Hypothesis in favour of the Alternative Hypothesis as at 1%$ significance level, there is sufficient evidence that at least 1 genre has a different average gross</span>"
   ]
  },
  {
   "cell_type": "markdown",
   "metadata": {},
   "source": [
    "### Part 4.3"
   ]
  },
  {
   "cell_type": "markdown",
   "metadata": {},
   "source": [
    "We are interested to know if the average gross of `Animation` movies in 2014 and 2015 was more than US$115,000,000 (US$115 million). To do this, we take random samples of 12 observations of animation movies.\n",
    "\n",
    "Run the following cell to create a separate dataframe of these samples. *Do not change the `random_state`.*"
   ]
  },
  {
   "cell_type": "code",
   "execution_count": 15,
   "metadata": {},
   "outputs": [],
   "source": [
    "n = 12\n",
    "data_ani = data_clean[data_clean['Genre']==\"Animation\"]['Gross'].sample(n, random_state=100)"
   ]
  },
  {
   "cell_type": "markdown",
   "metadata": {},
   "source": [
    "#### **[Q 8]**: To do a hypothesis test to see if the average gross of `Animation` movies was more than US$115,000,000, state the null and alternative hypotheses.\n",
    "\n",
    "**(3 marks)**"
   ]
  },
  {
   "cell_type": "markdown",
   "metadata": {},
   "source": [
    "<span style=\"color:green\">Null Hypothesis: The average gross of `Animation` <= 115000000</span><br/>\n",
    "<span style=\"color:green\">Alternative Hypothesis: The average gross of `Animation` > 115000000</span>\n",
    "\n",
    "$$\n",
    "  \\begin{align*}\n",
    "    H_0\\, &:\\, \\mu \\leq 115000000 \\\\\n",
    "    H_a\\, &:\\, \\mu > 115000000\n",
    "  \\end{align*}\n",
    "$$"
   ]
  },
  {
   "cell_type": "markdown",
   "metadata": {},
   "source": [
    "#### **[Task 9]**: Perform the appropriate hypothesis test to see if the average gross of `Animation` movies was more than US$115,000,000, at the 1% significance level. Display the test result.\n",
    "\n",
    "**(4 marks)**"
   ]
  },
  {
   "cell_type": "code",
   "execution_count": 16,
   "metadata": {},
   "outputs": [
    {
     "data": {
      "text/plain": [
       "TtestResult(statistic=np.float64(0.37850998888154475), pvalue=np.float64(0.35612759144462447), df=np.int64(11))"
      ]
     },
     "execution_count": 16,
     "metadata": {},
     "output_type": "execute_result"
    }
   ],
   "source": [
    "mu = 115000000\n",
    "test = stats.ttest_1samp(data_ani, popmean=mu, alternative='greater')\n",
    "test"
   ]
  },
  {
   "cell_type": "markdown",
   "metadata": {},
   "source": [
    "#### **[Task 10]**: Programmatically compare the $p$-value with the stated significance level to see whether the former is less than the latter.\n",
    "\n",
    "**(3 marks)**"
   ]
  },
  {
   "cell_type": "code",
   "execution_count": 17,
   "metadata": {},
   "outputs": [
    {
     "name": "stdout",
     "output_type": "stream",
     "text": [
      "False\n"
     ]
    }
   ],
   "source": [
    "alpha = 0.01\n",
    "test.pvalue < alpha\n",
    "print(test.pvalue < alpha)\n"
   ]
  },
  {
   "cell_type": "markdown",
   "metadata": {},
   "source": [
    "#### **[Q 9]** Based on this result, state the conclusion.\n",
    "\n",
    "**(2 marks)**"
   ]
  },
  {
   "cell_type": "markdown",
   "metadata": {},
   "source": [
    "<span style=\"color:green\">We fail to reject the Null Hypothesis. At 1% significance level, there is insufficient evidence that that the average gross of `Animation` movies was more than US$115,000,000</span>"
   ]
  },
  {
   "cell_type": "markdown",
   "metadata": {},
   "source": [
    "### Part 4.4"
   ]
  },
  {
   "cell_type": "markdown",
   "metadata": {},
   "source": [
    "We now want to model the distribution of the number of social media page views of `Comedy` movies.\n",
    "\n",
    "Run the following cell to get the relevant data for the sample. Use this dataframe for the subsequent tasks."
   ]
  },
  {
   "cell_type": "code",
   "execution_count": 18,
   "metadata": {},
   "outputs": [],
   "source": [
    "data_com = data_clean[data_clean['Genre']==\"Comedy\"]['Views']"
   ]
  },
  {
   "cell_type": "markdown",
   "metadata": {},
   "source": [
    "#### **[Task 11]**: Compute and display the sample mean number of social media page views of `Comedy` movies.\n",
    "\n",
    "**(2 marks)**"
   ]
  },
  {
   "cell_type": "code",
   "execution_count": 19,
   "metadata": {},
   "outputs": [
    {
     "name": "stdout",
     "output_type": "stream",
     "text": [
      "Sample Mean: 3936182.4\n"
     ]
    }
   ],
   "source": [
    "print(f\"Sample Mean: {data_com.mean()}\")"
   ]
  },
  {
   "cell_type": "markdown",
   "metadata": {},
   "source": [
    "#### **[Task 12]**: Compute and display the sample variance of the number of social media page views of `Comedy` movies.\n",
    "\n",
    "**(2 marks)**"
   ]
  },
  {
   "cell_type": "code",
   "execution_count": 20,
   "metadata": {},
   "outputs": [
    {
     "name": "stdout",
     "output_type": "stream",
     "text": [
      "Sample Variance: 11672193665534.486\n"
     ]
    }
   ],
   "source": [
    "print(f\"Sample Variance: {data_com.var(ddof=1)}\")"
   ]
  },
  {
   "cell_type": "markdown",
   "metadata": {},
   "source": [
    "#### **[Task 13]**: Compute and display the confidence interval of the mean number of social media page views of `Comedy` movies, at the 90% confidence level.\n",
    "\n",
    "**(5 marks)**"
   ]
  },
  {
   "cell_type": "code",
   "execution_count": 21,
   "metadata": {},
   "outputs": [
    {
     "name": "stdout",
     "output_type": "stream",
     "text": [
      "Confidence Interval: (np.float64(3126139.5715496074), np.float64(4746225.228450391))\n"
     ]
    }
   ],
   "source": [
    "n = len(data_com)\n",
    "cl = 0.90\n",
    "alpha = 1 - cl\n",
    "xbar = data_com.mean()\n",
    "s = data_com.std(ddof=1)\n",
    "\n",
    "t_dist = stats.t(df=n-1, loc=xbar, scale=s/np.sqrt(n))\n",
    "t_dist.interval(cl)\n",
    "print(f\"Confidence Interval: {t_dist.interval(cl)}\")"
   ]
  },
  {
   "cell_type": "markdown",
   "metadata": {},
   "source": [
    "#### **[Task 14]**: We will model this sample with a normal distribution. We are interested to compare the sample distribution with a normal distribution. For this task, do the following:\n",
    "- Display the histogram of the sample `data_com`. Set the argument `density=True` to plot the density instead of counts. Set the legend label as \"`Data`\".\n",
    "- On the same set of axes, display a normal distribution with the sample mean and variance. Set the legend label as \"`Model`\". The normal distribution plot should be superimposed on top of your histogram, and it should show up to 6 standard deviations away from either side of the mean.\n",
    "- Set the horizontal axis label as \"`Number of views`\".\n",
    "- Set the vertical axis label as \"`Probability`\".\n",
    "- Set the axis title to \"`Probability distribution of number of social media page views of comedy movies`\".\n",
    "- Show the legend.\n",
    "\n",
    "**(10 marks)**"
   ]
  },
  {
   "cell_type": "code",
   "execution_count": 22,
   "metadata": {},
   "outputs": [
    {
     "data": {
      "image/png": "[encoded data removed]",
      "text/plain": [
       "<Figure size 700x450 with 1 Axes>"
      ]
     },
     "metadata": {},
     "output_type": "display_data"
    }
   ],
   "source": [
    "fig, ax = plt.subplots(1, 1, figsize=(7, 4.5))\n",
    "ax.hist(data_com, bins=10, density=True, color='orange', label='Data')\n",
    "\n",
    "sampling_dist = stats.norm(loc=xbar, scale=s)\n",
    "x_arr = np.linspace(xbar-6*s, xbar+6*s, 1000)  \n",
    "\n",
    "ax.plot(x_arr, sampling_dist.pdf(x_arr), 'b-', lw=2, label=\"Model\")\n",
    "\n",
    "ax.set_xlabel('Number of views')\n",
    "ax.set_ylabel('Probability')\n",
    "ax.set_title('Probability distribution of number of social media page views of comedy movies')\n",
    "ax.grid()\n",
    "ax.legend()\n",
    "\n",
    "plt.show()"
   ]
  },
  {
   "cell_type": "markdown",
   "metadata": {},
   "source": [
    "#### **[Task 15]**: Assuming that our sample can be modelled with a normal distribution, compute the probability that for a random `Comedy` movie, the number of social media page views is between 5,000,000 (5 million) and 9,000,000 (9 million). Display this probability.\n",
    "\n",
    "**(5 marks)**"
   ]
  },
  {
   "cell_type": "code",
   "execution_count": 23,
   "metadata": {},
   "outputs": [
    {
     "name": "stdout",
     "output_type": "stream",
     "text": [
      "Probability: 0.30861000803588245\n"
     ]
    }
   ],
   "source": [
    "x1, x2 = 5000000, 9000000\n",
    "pr = np.diff(sampling_dist.cdf([x1, x2])).item()\n",
    "print(f\"Probability: {pr}\")"
   ]
  },
  {
   "cell_type": "markdown",
   "metadata": {},
   "source": [
    "#### **[Task 16]**: Compute and display what is the number of social media page views of `Comedy` movies, where only 20% of such movies have a number of views that is lower than this value.\n",
    "\n",
    "**(3 marks)**"
   ]
  },
  {
   "cell_type": "code",
   "execution_count": 24,
   "metadata": {},
   "outputs": [
    {
     "name": "stdout",
     "output_type": "stream",
     "text": [
      "Number of social media page views of Comedy movies: 1060817.7689769184\n"
     ]
    }
   ],
   "source": [
    "pr = 0.20\n",
    "views = sampling_dist.ppf(pr)\n",
    "print(f\"Number of social media page views of Comedy movies: {views}\")"
   ]
  },
  {
   "cell_type": "markdown",
   "metadata": {},
   "source": [
    "## End"
   ]
  },
  {
   "cell_type": "markdown",
   "metadata": {},
   "source": [
    "You can come to the end of the programming assignment. Please clear all outputs, restart the kernel, and run your entire notebook one more time from the start. Your notebook should contain all results. Submit your completed Jupyter notebook to the submission folder ahead of the deadline.\n",
    "\n",
    "We hope you have enjoyed this assignment and the competency unit."
   ]
  }
 ],
 "metadata": {
  "kernelspec": {
   "display_name": "Python 3",
   "language": "python",
   "name": "python3"
  },
  "language_info": {
   "codemirror_mode": {
    "name": "ipython",
    "version": 3
   },
   "file_extension": ".py",
   "mimetype": "text/x-python",
   "name": "python",
   "nbconvert_exporter": "python",
   "pygments_lexer": "ipython3",
   "version": "3.13.2"
  }
 },
 "nbformat": 4,
 "nbformat_minor": 4
}
