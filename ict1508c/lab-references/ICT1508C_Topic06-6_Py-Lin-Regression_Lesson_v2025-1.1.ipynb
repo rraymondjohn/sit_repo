{
 "cells": [
  {
   "cell_type": "markdown",
   "metadata": {},
   "source": [
    "# ICT1508C Applied Statistics\n",
    "\n",
    "*Linear Regression Using Python*\n",
    "\n",
    ">Filename:     &emsp;&emsp;`ICT1508C_Topic06-6_Py-Lin-Regression_Lesson_v2025-1.1.ipynb`<br>\n",
    ">Version:      &emsp;&emsp;&ensp; `2025-1.1`<br>\n",
    ">Description:  &ensp;&ensp;Jupyter notebook for ICT1508C lesson on Linear Regression Using Python.<br>\n",
    ">Module:       &emsp;&emsp;&ensp;ICT1508C<br>\n",
    ">Type:         &emsp;&emsp;&emsp;&ensp; Lesson<br>\n",
    ">Prepared by:  &ensp;Nicholas H L Wong<br>\n",
    ">Organisation: &nbsp;Singapore Institute of Technology<br>\n",
    ">Division:     &emsp;&emsp;&ensp;Infocomm Technology<br>\n",
    ">Attribution:  &emsp;Copyright &copy; 2025 Nicholas H L Wong – All Rights Reserved<br>"
   ]
  },
  {
   "cell_type": "markdown",
   "metadata": {},
   "source": [
    "## Setup"
   ]
  },
  {
   "cell_type": "code",
   "execution_count": 1,
   "metadata": {},
   "outputs": [],
   "source": [
    "# Import necessary packages\n",
    "import numpy as np\n",
    "import pandas as pd\n",
    "import matplotlib.pyplot as plt"
   ]
  },
  {
   "cell_type": "markdown",
   "metadata": {},
   "source": [
    "## Data"
   ]
  },
  {
   "cell_type": "markdown",
   "metadata": {},
   "source": [
    "The dataset `ResaleflatpricesbasedonregistrationdatefromJan2017onwards.csv` contains data on Singapore Housing Development Board (HDB) resale flat prices for various units sold from January 2017 to the present.\n",
    "\n",
    "Ref.: https://beta.data.gov.sg/collections/189/datasets/d_8b84c4ee58e3cfc0ece0d773c8ca6abc/view\n",
    "\n",
    "*Note that while the reference contains data up to the present, the downloaded dataset used in this notebook only contains data up to March 2024.*"
   ]
  },
  {
   "cell_type": "code",
   "execution_count": 2,
   "metadata": {},
   "outputs": [
    {
     "data": {
      "text/html": [
       "<div>\n",
       "<style scoped>\n",
       "    .dataframe tbody tr th:only-of-type {\n",
       "        vertical-align: middle;\n",
       "    }\n",
       "\n",
       "    .dataframe tbody tr th {\n",
       "        vertical-align: top;\n",
       "    }\n",
       "\n",
       "    .dataframe thead th {\n",
       "        text-align: right;\n",
       "    }\n",
       "</style>\n",
       "<table border=\"1\" class=\"dataframe\">\n",
       "  <thead>\n",
       "    <tr style=\"text-align: right;\">\n",
       "      <th></th>\n",
       "      <th>month</th>\n",
       "      <th>town</th>\n",
       "      <th>flat_type</th>\n",
       "      <th>block</th>\n",
       "      <th>street_name</th>\n",
       "      <th>storey_range</th>\n",
       "      <th>floor_area_sqm</th>\n",
       "      <th>flat_model</th>\n",
       "      <th>lease_commence_date</th>\n",
       "      <th>remaining_lease</th>\n",
       "      <th>resale_price</th>\n",
       "    </tr>\n",
       "  </thead>\n",
       "  <tbody>\n",
       "    <tr>\n",
       "      <th>0</th>\n",
       "      <td>2017-01</td>\n",
       "      <td>ANG MO KIO</td>\n",
       "      <td>2 ROOM</td>\n",
       "      <td>406</td>\n",
       "      <td>ANG MO KIO AVE 10</td>\n",
       "      <td>10 TO 12</td>\n",
       "      <td>44.0</td>\n",
       "      <td>Improved</td>\n",
       "      <td>1979</td>\n",
       "      <td>61 years 04 months</td>\n",
       "      <td>232000.0</td>\n",
       "    </tr>\n",
       "    <tr>\n",
       "      <th>1</th>\n",
       "      <td>2017-01</td>\n",
       "      <td>ANG MO KIO</td>\n",
       "      <td>3 ROOM</td>\n",
       "      <td>108</td>\n",
       "      <td>ANG MO KIO AVE 4</td>\n",
       "      <td>01 TO 03</td>\n",
       "      <td>67.0</td>\n",
       "      <td>New Generation</td>\n",
       "      <td>1978</td>\n",
       "      <td>60 years 07 months</td>\n",
       "      <td>250000.0</td>\n",
       "    </tr>\n",
       "    <tr>\n",
       "      <th>2</th>\n",
       "      <td>2017-01</td>\n",
       "      <td>ANG MO KIO</td>\n",
       "      <td>3 ROOM</td>\n",
       "      <td>602</td>\n",
       "      <td>ANG MO KIO AVE 5</td>\n",
       "      <td>01 TO 03</td>\n",
       "      <td>67.0</td>\n",
       "      <td>New Generation</td>\n",
       "      <td>1980</td>\n",
       "      <td>62 years 05 months</td>\n",
       "      <td>262000.0</td>\n",
       "    </tr>\n",
       "    <tr>\n",
       "      <th>3</th>\n",
       "      <td>2017-01</td>\n",
       "      <td>ANG MO KIO</td>\n",
       "      <td>3 ROOM</td>\n",
       "      <td>465</td>\n",
       "      <td>ANG MO KIO AVE 10</td>\n",
       "      <td>04 TO 06</td>\n",
       "      <td>68.0</td>\n",
       "      <td>New Generation</td>\n",
       "      <td>1980</td>\n",
       "      <td>62 years 01 month</td>\n",
       "      <td>265000.0</td>\n",
       "    </tr>\n",
       "    <tr>\n",
       "      <th>4</th>\n",
       "      <td>2017-01</td>\n",
       "      <td>ANG MO KIO</td>\n",
       "      <td>3 ROOM</td>\n",
       "      <td>601</td>\n",
       "      <td>ANG MO KIO AVE 5</td>\n",
       "      <td>01 TO 03</td>\n",
       "      <td>67.0</td>\n",
       "      <td>New Generation</td>\n",
       "      <td>1980</td>\n",
       "      <td>62 years 05 months</td>\n",
       "      <td>265000.0</td>\n",
       "    </tr>\n",
       "    <tr>\n",
       "      <th>...</th>\n",
       "      <td>...</td>\n",
       "      <td>...</td>\n",
       "      <td>...</td>\n",
       "      <td>...</td>\n",
       "      <td>...</td>\n",
       "      <td>...</td>\n",
       "      <td>...</td>\n",
       "      <td>...</td>\n",
       "      <td>...</td>\n",
       "      <td>...</td>\n",
       "      <td>...</td>\n",
       "    </tr>\n",
       "    <tr>\n",
       "      <th>175835</th>\n",
       "      <td>2024-03</td>\n",
       "      <td>YISHUN</td>\n",
       "      <td>EXECUTIVE</td>\n",
       "      <td>392</td>\n",
       "      <td>YISHUN AVE 6</td>\n",
       "      <td>07 TO 09</td>\n",
       "      <td>146.0</td>\n",
       "      <td>Maisonette</td>\n",
       "      <td>1988</td>\n",
       "      <td>63 years 04 months</td>\n",
       "      <td>830000.0</td>\n",
       "    </tr>\n",
       "    <tr>\n",
       "      <th>175836</th>\n",
       "      <td>2024-03</td>\n",
       "      <td>YISHUN</td>\n",
       "      <td>EXECUTIVE</td>\n",
       "      <td>406</td>\n",
       "      <td>YISHUN AVE 6</td>\n",
       "      <td>10 TO 12</td>\n",
       "      <td>142.0</td>\n",
       "      <td>Apartment</td>\n",
       "      <td>1988</td>\n",
       "      <td>63 years 06 months</td>\n",
       "      <td>815000.0</td>\n",
       "    </tr>\n",
       "    <tr>\n",
       "      <th>175837</th>\n",
       "      <td>2024-03</td>\n",
       "      <td>YISHUN</td>\n",
       "      <td>EXECUTIVE</td>\n",
       "      <td>326</td>\n",
       "      <td>YISHUN RING RD</td>\n",
       "      <td>10 TO 12</td>\n",
       "      <td>146.0</td>\n",
       "      <td>Maisonette</td>\n",
       "      <td>1988</td>\n",
       "      <td>63 years 05 months</td>\n",
       "      <td>820000.0</td>\n",
       "    </tr>\n",
       "    <tr>\n",
       "      <th>175838</th>\n",
       "      <td>2024-03</td>\n",
       "      <td>YISHUN</td>\n",
       "      <td>EXECUTIVE</td>\n",
       "      <td>360</td>\n",
       "      <td>YISHUN RING RD</td>\n",
       "      <td>04 TO 06</td>\n",
       "      <td>146.0</td>\n",
       "      <td>Maisonette</td>\n",
       "      <td>1988</td>\n",
       "      <td>63 years 05 months</td>\n",
       "      <td>860000.0</td>\n",
       "    </tr>\n",
       "    <tr>\n",
       "      <th>175839</th>\n",
       "      <td>2024-03</td>\n",
       "      <td>YISHUN</td>\n",
       "      <td>EXECUTIVE</td>\n",
       "      <td>606</td>\n",
       "      <td>YISHUN ST 61</td>\n",
       "      <td>07 TO 09</td>\n",
       "      <td>142.0</td>\n",
       "      <td>Apartment</td>\n",
       "      <td>1987</td>\n",
       "      <td>62 years 10 months</td>\n",
       "      <td>780000.0</td>\n",
       "    </tr>\n",
       "  </tbody>\n",
       "</table>\n",
       "<p>175840 rows × 11 columns</p>\n",
       "</div>"
      ],
      "text/plain": [
       "          month        town  flat_type block        street_name storey_range  \\\n",
       "0       2017-01  ANG MO KIO     2 ROOM   406  ANG MO KIO AVE 10     10 TO 12   \n",
       "1       2017-01  ANG MO KIO     3 ROOM   108   ANG MO KIO AVE 4     01 TO 03   \n",
       "2       2017-01  ANG MO KIO     3 ROOM   602   ANG MO KIO AVE 5     01 TO 03   \n",
       "3       2017-01  ANG MO KIO     3 ROOM   465  ANG MO KIO AVE 10     04 TO 06   \n",
       "4       2017-01  ANG MO KIO     3 ROOM   601   ANG MO KIO AVE 5     01 TO 03   \n",
       "...         ...         ...        ...   ...                ...          ...   \n",
       "175835  2024-03      YISHUN  EXECUTIVE   392       YISHUN AVE 6     07 TO 09   \n",
       "175836  2024-03      YISHUN  EXECUTIVE   406       YISHUN AVE 6     10 TO 12   \n",
       "175837  2024-03      YISHUN  EXECUTIVE   326     YISHUN RING RD     10 TO 12   \n",
       "175838  2024-03      YISHUN  EXECUTIVE   360     YISHUN RING RD     04 TO 06   \n",
       "175839  2024-03      YISHUN  EXECUTIVE   606       YISHUN ST 61     07 TO 09   \n",
       "\n",
       "        floor_area_sqm      flat_model  lease_commence_date  \\\n",
       "0                 44.0        Improved                 1979   \n",
       "1                 67.0  New Generation                 1978   \n",
       "2                 67.0  New Generation                 1980   \n",
       "3                 68.0  New Generation                 1980   \n",
       "4                 67.0  New Generation                 1980   \n",
       "...                ...             ...                  ...   \n",
       "175835           146.0      Maisonette                 1988   \n",
       "175836           142.0       Apartment                 1988   \n",
       "175837           146.0      Maisonette                 1988   \n",
       "175838           146.0      Maisonette                 1988   \n",
       "175839           142.0       Apartment                 1987   \n",
       "\n",
       "           remaining_lease  resale_price  \n",
       "0       61 years 04 months      232000.0  \n",
       "1       60 years 07 months      250000.0  \n",
       "2       62 years 05 months      262000.0  \n",
       "3        62 years 01 month      265000.0  \n",
       "4       62 years 05 months      265000.0  \n",
       "...                    ...           ...  \n",
       "175835  63 years 04 months      830000.0  \n",
       "175836  63 years 06 months      815000.0  \n",
       "175837  63 years 05 months      820000.0  \n",
       "175838  63 years 05 months      860000.0  \n",
       "175839  62 years 10 months      780000.0  \n",
       "\n",
       "[175840 rows x 11 columns]"
      ]
     },
     "execution_count": 2,
     "metadata": {},
     "output_type": "execute_result"
    }
   ],
   "source": [
    "data_rs = pd.read_csv(\"ResaleflatpricesbasedonregistrationdatefromJan2017onwards.csv\")\n",
    "data_rs"
   ]
  },
  {
   "cell_type": "markdown",
   "metadata": {},
   "source": [
    "Imagine that we are interested to buy a flat in Ang Mo Kio that is either a 4-room, a 5-room, or an executive unit. We wish to study how the resale price is affected by various features.\n",
    "\n",
    "Let us filter the dataset to only include the observations of interest."
   ]
  },
  {
   "cell_type": "code",
   "execution_count": 3,
   "metadata": {},
   "outputs": [
    {
     "data": {
      "text/html": [
       "<div>\n",
       "<style scoped>\n",
       "    .dataframe tbody tr th:only-of-type {\n",
       "        vertical-align: middle;\n",
       "    }\n",
       "\n",
       "    .dataframe tbody tr th {\n",
       "        vertical-align: top;\n",
       "    }\n",
       "\n",
       "    .dataframe thead th {\n",
       "        text-align: right;\n",
       "    }\n",
       "</style>\n",
       "<table border=\"1\" class=\"dataframe\">\n",
       "  <thead>\n",
       "    <tr style=\"text-align: right;\">\n",
       "      <th></th>\n",
       "      <th>month</th>\n",
       "      <th>town</th>\n",
       "      <th>flat_type</th>\n",
       "      <th>block</th>\n",
       "      <th>street_name</th>\n",
       "      <th>storey_range</th>\n",
       "      <th>floor_area_sqm</th>\n",
       "      <th>flat_model</th>\n",
       "      <th>lease_commence_date</th>\n",
       "      <th>remaining_lease</th>\n",
       "      <th>resale_price</th>\n",
       "    </tr>\n",
       "  </thead>\n",
       "  <tbody>\n",
       "    <tr>\n",
       "      <th>33</th>\n",
       "      <td>2017-01</td>\n",
       "      <td>ANG MO KIO</td>\n",
       "      <td>4 ROOM</td>\n",
       "      <td>472</td>\n",
       "      <td>ANG MO KIO AVE 10</td>\n",
       "      <td>10 TO 12</td>\n",
       "      <td>92.0</td>\n",
       "      <td>New Generation</td>\n",
       "      <td>1979</td>\n",
       "      <td>61 years 06 months</td>\n",
       "      <td>400000.0</td>\n",
       "    </tr>\n",
       "    <tr>\n",
       "      <th>34</th>\n",
       "      <td>2017-01</td>\n",
       "      <td>ANG MO KIO</td>\n",
       "      <td>4 ROOM</td>\n",
       "      <td>475</td>\n",
       "      <td>ANG MO KIO AVE 10</td>\n",
       "      <td>07 TO 09</td>\n",
       "      <td>91.0</td>\n",
       "      <td>New Generation</td>\n",
       "      <td>1979</td>\n",
       "      <td>61 years 06 months</td>\n",
       "      <td>400000.0</td>\n",
       "    </tr>\n",
       "    <tr>\n",
       "      <th>35</th>\n",
       "      <td>2017-01</td>\n",
       "      <td>ANG MO KIO</td>\n",
       "      <td>4 ROOM</td>\n",
       "      <td>629</td>\n",
       "      <td>ANG MO KIO AVE 4</td>\n",
       "      <td>01 TO 03</td>\n",
       "      <td>94.0</td>\n",
       "      <td>New Generation</td>\n",
       "      <td>1981</td>\n",
       "      <td>63 years 09 months</td>\n",
       "      <td>403000.0</td>\n",
       "    </tr>\n",
       "    <tr>\n",
       "      <th>36</th>\n",
       "      <td>2017-01</td>\n",
       "      <td>ANG MO KIO</td>\n",
       "      <td>4 ROOM</td>\n",
       "      <td>546</td>\n",
       "      <td>ANG MO KIO AVE 10</td>\n",
       "      <td>01 TO 03</td>\n",
       "      <td>92.0</td>\n",
       "      <td>New Generation</td>\n",
       "      <td>1981</td>\n",
       "      <td>63 years</td>\n",
       "      <td>410000.0</td>\n",
       "    </tr>\n",
       "    <tr>\n",
       "      <th>37</th>\n",
       "      <td>2017-01</td>\n",
       "      <td>ANG MO KIO</td>\n",
       "      <td>4 ROOM</td>\n",
       "      <td>131</td>\n",
       "      <td>ANG MO KIO AVE 3</td>\n",
       "      <td>01 TO 03</td>\n",
       "      <td>98.0</td>\n",
       "      <td>New Generation</td>\n",
       "      <td>1979</td>\n",
       "      <td>61 years 01 month</td>\n",
       "      <td>425888.0</td>\n",
       "    </tr>\n",
       "    <tr>\n",
       "      <th>...</th>\n",
       "      <td>...</td>\n",
       "      <td>...</td>\n",
       "      <td>...</td>\n",
       "      <td>...</td>\n",
       "      <td>...</td>\n",
       "      <td>...</td>\n",
       "      <td>...</td>\n",
       "      <td>...</td>\n",
       "      <td>...</td>\n",
       "      <td>...</td>\n",
       "      <td>...</td>\n",
       "    </tr>\n",
       "    <tr>\n",
       "      <th>173974</th>\n",
       "      <td>2024-03</td>\n",
       "      <td>ANG MO KIO</td>\n",
       "      <td>5 ROOM</td>\n",
       "      <td>259</td>\n",
       "      <td>ANG MO KIO AVE 2</td>\n",
       "      <td>22 TO 24</td>\n",
       "      <td>135.0</td>\n",
       "      <td>Model A</td>\n",
       "      <td>1982</td>\n",
       "      <td>57 years 02 months</td>\n",
       "      <td>970000.0</td>\n",
       "    </tr>\n",
       "    <tr>\n",
       "      <th>173975</th>\n",
       "      <td>2024-03</td>\n",
       "      <td>ANG MO KIO</td>\n",
       "      <td>5 ROOM</td>\n",
       "      <td>648</td>\n",
       "      <td>ANG MO KIO AVE 5</td>\n",
       "      <td>07 TO 09</td>\n",
       "      <td>121.0</td>\n",
       "      <td>Improved</td>\n",
       "      <td>1980</td>\n",
       "      <td>55 years 09 months</td>\n",
       "      <td>720000.0</td>\n",
       "    </tr>\n",
       "    <tr>\n",
       "      <th>173976</th>\n",
       "      <td>2024-03</td>\n",
       "      <td>ANG MO KIO</td>\n",
       "      <td>5 ROOM</td>\n",
       "      <td>648</td>\n",
       "      <td>ANG MO KIO AVE 5</td>\n",
       "      <td>01 TO 03</td>\n",
       "      <td>121.0</td>\n",
       "      <td>Improved</td>\n",
       "      <td>1980</td>\n",
       "      <td>55 years 09 months</td>\n",
       "      <td>653888.0</td>\n",
       "    </tr>\n",
       "    <tr>\n",
       "      <th>173977</th>\n",
       "      <td>2024-03</td>\n",
       "      <td>ANG MO KIO</td>\n",
       "      <td>5 ROOM</td>\n",
       "      <td>501</td>\n",
       "      <td>ANG MO KIO AVE 5</td>\n",
       "      <td>07 TO 09</td>\n",
       "      <td>121.0</td>\n",
       "      <td>Improved</td>\n",
       "      <td>1981</td>\n",
       "      <td>55 years 11 months</td>\n",
       "      <td>700000.0</td>\n",
       "    </tr>\n",
       "    <tr>\n",
       "      <th>173978</th>\n",
       "      <td>2024-03</td>\n",
       "      <td>ANG MO KIO</td>\n",
       "      <td>5 ROOM</td>\n",
       "      <td>455B</td>\n",
       "      <td>ANG MO KIO ST 44</td>\n",
       "      <td>13 TO 15</td>\n",
       "      <td>113.0</td>\n",
       "      <td>Improved</td>\n",
       "      <td>2018</td>\n",
       "      <td>93 years 01 month</td>\n",
       "      <td>1060000.0</td>\n",
       "    </tr>\n",
       "  </tbody>\n",
       "</table>\n",
       "<p>3284 rows × 11 columns</p>\n",
       "</div>"
      ],
      "text/plain": [
       "          month        town flat_type block        street_name storey_range  \\\n",
       "33      2017-01  ANG MO KIO    4 ROOM   472  ANG MO KIO AVE 10     10 TO 12   \n",
       "34      2017-01  ANG MO KIO    4 ROOM   475  ANG MO KIO AVE 10     07 TO 09   \n",
       "35      2017-01  ANG MO KIO    4 ROOM   629   ANG MO KIO AVE 4     01 TO 03   \n",
       "36      2017-01  ANG MO KIO    4 ROOM   546  ANG MO KIO AVE 10     01 TO 03   \n",
       "37      2017-01  ANG MO KIO    4 ROOM   131   ANG MO KIO AVE 3     01 TO 03   \n",
       "...         ...         ...       ...   ...                ...          ...   \n",
       "173974  2024-03  ANG MO KIO    5 ROOM   259   ANG MO KIO AVE 2     22 TO 24   \n",
       "173975  2024-03  ANG MO KIO    5 ROOM   648   ANG MO KIO AVE 5     07 TO 09   \n",
       "173976  2024-03  ANG MO KIO    5 ROOM   648   ANG MO KIO AVE 5     01 TO 03   \n",
       "173977  2024-03  ANG MO KIO    5 ROOM   501   ANG MO KIO AVE 5     07 TO 09   \n",
       "173978  2024-03  ANG MO KIO    5 ROOM  455B   ANG MO KIO ST 44     13 TO 15   \n",
       "\n",
       "        floor_area_sqm      flat_model  lease_commence_date  \\\n",
       "33                92.0  New Generation                 1979   \n",
       "34                91.0  New Generation                 1979   \n",
       "35                94.0  New Generation                 1981   \n",
       "36                92.0  New Generation                 1981   \n",
       "37                98.0  New Generation                 1979   \n",
       "...                ...             ...                  ...   \n",
       "173974           135.0         Model A                 1982   \n",
       "173975           121.0        Improved                 1980   \n",
       "173976           121.0        Improved                 1980   \n",
       "173977           121.0        Improved                 1981   \n",
       "173978           113.0        Improved                 2018   \n",
       "\n",
       "           remaining_lease  resale_price  \n",
       "33      61 years 06 months      400000.0  \n",
       "34      61 years 06 months      400000.0  \n",
       "35      63 years 09 months      403000.0  \n",
       "36                63 years      410000.0  \n",
       "37       61 years 01 month      425888.0  \n",
       "...                    ...           ...  \n",
       "173974  57 years 02 months      970000.0  \n",
       "173975  55 years 09 months      720000.0  \n",
       "173976  55 years 09 months      653888.0  \n",
       "173977  55 years 11 months      700000.0  \n",
       "173978   93 years 01 month     1060000.0  \n",
       "\n",
       "[3284 rows x 11 columns]"
      ]
     },
     "execution_count": 3,
     "metadata": {},
     "output_type": "execute_result"
    }
   ],
   "source": [
    "data_rs = data_rs[(data_rs['town']==\"ANG MO KIO\") & \n",
    "                  (data_rs['flat_type'].isin([\"4 ROOM\", \"5 ROOM\", \"EXECUTIVE\"]))]\n",
    "data_rs"
   ]
  },
  {
   "cell_type": "markdown",
   "metadata": {},
   "source": [
    "## Simple Linear Regression"
   ]
  },
  {
   "cell_type": "markdown",
   "metadata": {},
   "source": [
    "Suppose we want to know how the resale price is related by the floor area. We create variables containing the relevant data columns.\n",
    "\n",
    "Because we will want to do prediction later, we select one observation (row) to use as a *test* observation. We use the remaining rows as a *training* dataset."
   ]
  },
  {
   "cell_type": "code",
   "execution_count": 4,
   "metadata": {},
   "outputs": [],
   "source": [
    "idx_test = 36                           # Index of test observation\n",
    "\n",
    "# Create training dataset, excluding test observation\n",
    "X_train = data_rs['floor_area_sqm'].drop([idx_test], axis=0)\n",
    "y_train = data_rs['resale_price'].drop([idx_test], axis=0)"
   ]
  },
  {
   "cell_type": "code",
   "execution_count": 5,
   "metadata": {},
   "outputs": [
    {
     "data": {
      "text/plain": [
       "(92.0, 410000.0)"
      ]
     },
     "execution_count": 5,
     "metadata": {},
     "output_type": "execute_result"
    }
   ],
   "source": [
    "# Create testing dataset (in this case, one observation)\n",
    "X_test = data_rs['floor_area_sqm'].loc[idx_test]\n",
    "y_test = data_rs['resale_price'].loc[idx_test]\n",
    "(X_test, y_test)"
   ]
  },
  {
   "cell_type": "markdown",
   "metadata": {},
   "source": [
    "We can plot the data to visualise it."
   ]
  },
  {
   "cell_type": "code",
   "execution_count": 6,
   "metadata": {},
   "outputs": [
    {
     "data": {
      "image/png": "[encoded data removed]",
      "text/plain": [
       "<Figure size 600x400 with 1 Axes>"
      ]
     },
     "metadata": {},
     "output_type": "display_data"
    }
   ],
   "source": [
    "# Create a figure and grab the axis handle\n",
    "fig, ax = plt.subplots(1, 1, figsize=(6, 4))\n",
    "\n",
    "# Plot the data\n",
    "ax.scatter(X_train, y_train, s=10)\n",
    "ax.set_xlabel(X_train.name)\n",
    "ax.set_ylabel(y_train.name)\n",
    "ax.grid()\n",
    "plt.show()"
   ]
  },
  {
   "cell_type": "markdown",
   "metadata": {},
   "source": [
    "#### Q: Perform linear regression with `resale_price` as the dependent variable and `floor_area_sqm` as the independent variable."
   ]
  },
  {
   "cell_type": "markdown",
   "metadata": {},
   "source": [
    "##### Using `scipy.stats.linregress()`"
   ]
  },
  {
   "cell_type": "code",
   "execution_count": 7,
   "metadata": {},
   "outputs": [],
   "source": [
    "from scipy import stats"
   ]
  },
  {
   "cell_type": "markdown",
   "metadata": {},
   "source": [
    "Perform the regression:"
   ]
  },
  {
   "cell_type": "code",
   "execution_count": 8,
   "metadata": {},
   "outputs": [
    {
     "data": {
      "text/plain": [
       "LinregressResult(slope=5620.517365980074, intercept=19549.79244074016, rvalue=0.48758591884524444, pvalue=1.1106796496798256e-195, stderr=175.70073612518956, intercept_stderr=18423.89927812987)"
      ]
     },
     "execution_count": 8,
     "metadata": {},
     "output_type": "execute_result"
    }
   ],
   "source": [
    "lin_reg_1_sp = stats.linregress(X_train, y_train)\n",
    "lin_reg_1_sp"
   ]
  },
  {
   "cell_type": "markdown",
   "metadata": {},
   "source": [
    "Print out the regression coefficients and $r^2$-value:"
   ]
  },
  {
   "cell_type": "code",
   "execution_count": 9,
   "metadata": {},
   "outputs": [
    {
     "name": "stdout",
     "output_type": "stream",
     "text": [
      "Intercept:\t 19549.79244074016\n",
      "Coefficient:\t 5620.517365980074\n",
      "r^2:\t\t 0.2377400282561613\n"
     ]
    }
   ],
   "source": [
    "print(\"Intercept:\\t\", lin_reg_1_sp.intercept)\n",
    "print(\"Coefficient:\\t\", lin_reg_1_sp.slope)\n",
    "print(\"r^2:\\t\\t\", lin_reg_1_sp.rvalue**2)"
   ]
  },
  {
   "cell_type": "markdown",
   "metadata": {},
   "source": [
    "##### Using `sklearn.linear_model.LinearRegression()`"
   ]
  },
  {
   "cell_type": "markdown",
   "metadata": {},
   "source": [
    "We need to extract the values as numerical arrays. We also need to reshape the independent variable into a column vector."
   ]
  },
  {
   "cell_type": "code",
   "execution_count": 10,
   "metadata": {},
   "outputs": [],
   "source": [
    "from sklearn.linear_model import LinearRegression"
   ]
  },
  {
   "cell_type": "code",
   "execution_count": 11,
   "metadata": {},
   "outputs": [
    {
     "data": {
      "text/plain": [
       "array([[ 92.],\n",
       "       [ 91.],\n",
       "       [ 94.],\n",
       "       ...,\n",
       "       [121.],\n",
       "       [121.],\n",
       "       [113.]])"
      ]
     },
     "execution_count": 11,
     "metadata": {},
     "output_type": "execute_result"
    }
   ],
   "source": [
    "X_augm = X_train.values.reshape((-1, 1))\n",
    "X_augm"
   ]
  },
  {
   "cell_type": "code",
   "execution_count": 12,
   "metadata": {},
   "outputs": [],
   "source": [
    "y_augm = y_train.values"
   ]
  },
  {
   "cell_type": "markdown",
   "metadata": {},
   "source": [
    "Perform the regression:"
   ]
  },
  {
   "cell_type": "code",
   "execution_count": 13,
   "metadata": {},
   "outputs": [],
   "source": [
    "lin_reg_1_sk = LinearRegression().fit(X_augm, y_augm)"
   ]
  },
  {
   "cell_type": "markdown",
   "metadata": {},
   "source": [
    "Print out the regression coefficients and $r^2$-value:"
   ]
  },
  {
   "cell_type": "code",
   "execution_count": 14,
   "metadata": {},
   "outputs": [
    {
     "name": "stdout",
     "output_type": "stream",
     "text": [
      "Intercept:\t 19549.792440741905\n",
      "Coefficient:\t 5620.517365980058\n",
      "r^2:\t\t 0.2377400282561617\n"
     ]
    }
   ],
   "source": [
    "print(\"Intercept:\\t\", lin_reg_1_sk.intercept_)\n",
    "print(\"Coefficient:\\t\", lin_reg_1_sk.coef_.item())\n",
    "print(\"r^2:\\t\\t\", lin_reg_1_sk.score(X_augm, y_augm))"
   ]
  },
  {
   "cell_type": "markdown",
   "metadata": {},
   "source": [
    "##### Using `statsmodels.regression.linear_model.OLS()`"
   ]
  },
  {
   "cell_type": "code",
   "execution_count": 15,
   "metadata": {},
   "outputs": [],
   "source": [
    "import statsmodels.api as sm"
   ]
  },
  {
   "cell_type": "markdown",
   "metadata": {},
   "source": [
    "To include the intercept, we need to explicitly include a column of ones."
   ]
  },
  {
   "cell_type": "code",
   "execution_count": 16,
   "metadata": {},
   "outputs": [
    {
     "data": {
      "text/html": [
       "<div>\n",
       "<style scoped>\n",
       "    .dataframe tbody tr th:only-of-type {\n",
       "        vertical-align: middle;\n",
       "    }\n",
       "\n",
       "    .dataframe tbody tr th {\n",
       "        vertical-align: top;\n",
       "    }\n",
       "\n",
       "    .dataframe thead th {\n",
       "        text-align: right;\n",
       "    }\n",
       "</style>\n",
       "<table border=\"1\" class=\"dataframe\">\n",
       "  <thead>\n",
       "    <tr style=\"text-align: right;\">\n",
       "      <th></th>\n",
       "      <th>const</th>\n",
       "      <th>floor_area_sqm</th>\n",
       "    </tr>\n",
       "  </thead>\n",
       "  <tbody>\n",
       "    <tr>\n",
       "      <th>33</th>\n",
       "      <td>1.0</td>\n",
       "      <td>92.0</td>\n",
       "    </tr>\n",
       "    <tr>\n",
       "      <th>34</th>\n",
       "      <td>1.0</td>\n",
       "      <td>91.0</td>\n",
       "    </tr>\n",
       "    <tr>\n",
       "      <th>35</th>\n",
       "      <td>1.0</td>\n",
       "      <td>94.0</td>\n",
       "    </tr>\n",
       "    <tr>\n",
       "      <th>37</th>\n",
       "      <td>1.0</td>\n",
       "      <td>98.0</td>\n",
       "    </tr>\n",
       "    <tr>\n",
       "      <th>38</th>\n",
       "      <td>1.0</td>\n",
       "      <td>97.0</td>\n",
       "    </tr>\n",
       "    <tr>\n",
       "      <th>...</th>\n",
       "      <td>...</td>\n",
       "      <td>...</td>\n",
       "    </tr>\n",
       "    <tr>\n",
       "      <th>173974</th>\n",
       "      <td>1.0</td>\n",
       "      <td>135.0</td>\n",
       "    </tr>\n",
       "    <tr>\n",
       "      <th>173975</th>\n",
       "      <td>1.0</td>\n",
       "      <td>121.0</td>\n",
       "    </tr>\n",
       "    <tr>\n",
       "      <th>173976</th>\n",
       "      <td>1.0</td>\n",
       "      <td>121.0</td>\n",
       "    </tr>\n",
       "    <tr>\n",
       "      <th>173977</th>\n",
       "      <td>1.0</td>\n",
       "      <td>121.0</td>\n",
       "    </tr>\n",
       "    <tr>\n",
       "      <th>173978</th>\n",
       "      <td>1.0</td>\n",
       "      <td>113.0</td>\n",
       "    </tr>\n",
       "  </tbody>\n",
       "</table>\n",
       "<p>3283 rows × 2 columns</p>\n",
       "</div>"
      ],
      "text/plain": [
       "        const  floor_area_sqm\n",
       "33        1.0            92.0\n",
       "34        1.0            91.0\n",
       "35        1.0            94.0\n",
       "37        1.0            98.0\n",
       "38        1.0            97.0\n",
       "...       ...             ...\n",
       "173974    1.0           135.0\n",
       "173975    1.0           121.0\n",
       "173976    1.0           121.0\n",
       "173977    1.0           121.0\n",
       "173978    1.0           113.0\n",
       "\n",
       "[3283 rows x 2 columns]"
      ]
     },
     "execution_count": 16,
     "metadata": {},
     "output_type": "execute_result"
    }
   ],
   "source": [
    "X_augm = sm.add_constant(X_train)       # Add a column of ones\n",
    "X_augm"
   ]
  },
  {
   "cell_type": "markdown",
   "metadata": {},
   "source": [
    "Perform the regression:"
   ]
  },
  {
   "cell_type": "code",
   "execution_count": 17,
   "metadata": {},
   "outputs": [],
   "source": [
    "lin_reg_1_sm = sm.OLS(y_train, X_augm).fit()"
   ]
  },
  {
   "cell_type": "markdown",
   "metadata": {},
   "source": [
    "Print out the regression coefficients and $r^2$-value:"
   ]
  },
  {
   "cell_type": "code",
   "execution_count": 18,
   "metadata": {},
   "outputs": [
    {
     "name": "stdout",
     "output_type": "stream",
     "text": [
      "Intercept and coefficient:\n",
      " const             19549.792441\n",
      "floor_area_sqm     5620.517366\n",
      "dtype: float64\n",
      "\n",
      "r^2:\t\t 0.23774002825616158\n"
     ]
    }
   ],
   "source": [
    "print(\"Intercept and coefficient:\\n\", lin_reg_1_sm.params)\n",
    "print(\"\\nr^2:\\t\\t\", lin_reg_1_sm.rsquared)"
   ]
  },
  {
   "cell_type": "markdown",
   "metadata": {},
   "source": [
    "Display the regression results summary:"
   ]
  },
  {
   "cell_type": "code",
   "execution_count": 19,
   "metadata": {},
   "outputs": [
    {
     "name": "stdout",
     "output_type": "stream",
     "text": [
      "                            OLS Regression Results                            \n",
      "==============================================================================\n",
      "Dep. Variable:           resale_price   R-squared:                       0.238\n",
      "Model:                            OLS   Adj. R-squared:                  0.238\n",
      "Method:                 Least Squares   F-statistic:                     1023.\n",
      "Date:                Thu, 13 Mar 2025   Prob (F-statistic):          1.11e-195\n",
      "Time:                        00:58:02   Log-Likelihood:                -44045.\n",
      "No. Observations:                3283   AIC:                         8.809e+04\n",
      "Df Residuals:                    3281   BIC:                         8.811e+04\n",
      "Df Model:                           1                                         \n",
      "Covariance Type:            nonrobust                                         \n",
      "==================================================================================\n",
      "                     coef    std err          t      P>|t|      [0.025      0.975]\n",
      "----------------------------------------------------------------------------------\n",
      "const           1.955e+04   1.84e+04      1.061      0.289   -1.66e+04    5.57e+04\n",
      "floor_area_sqm  5620.5174    175.701     31.989      0.000    5276.023    5965.012\n",
      "==============================================================================\n",
      "Omnibus:                      356.542   Durbin-Watson:                   0.546\n",
      "Prob(Omnibus):                  0.000   Jarque-Bera (JB):              484.689\n",
      "Skew:                           0.941   Prob(JB):                    5.64e-106\n",
      "Kurtosis:                       3.049   Cond. No.                         682.\n",
      "==============================================================================\n",
      "\n",
      "Notes:\n",
      "[1] Standard Errors assume that the covariance matrix of the errors is correctly specified.\n"
     ]
    }
   ],
   "source": [
    "print(lin_reg_1_sm.summary())"
   ]
  },
  {
   "cell_type": "markdown",
   "metadata": {},
   "source": [
    "#### Q: Interpret the coefficient for `floor_area_sqm`."
   ]
  },
  {
   "cell_type": "markdown",
   "metadata": {},
   "source": [
    "For each 1 sqm increase in the floor area, the resale price will increase by about $5,620.52."
   ]
  },
  {
   "cell_type": "markdown",
   "metadata": {},
   "source": [
    "#### Q: Interpret the $r^2$-value."
   ]
  },
  {
   "cell_type": "markdown",
   "metadata": {},
   "source": [
    "About 23.8% of the variability in the resale price is explained by the floor area."
   ]
  },
  {
   "cell_type": "markdown",
   "metadata": {},
   "source": [
    "#### Q: Plot the data with the fitted regression line. Include a legend."
   ]
  },
  {
   "cell_type": "code",
   "execution_count": 20,
   "metadata": {},
   "outputs": [
    {
     "data": {
      "image/png": "[encoded data removed]",
      "text/plain": [
       "<Figure size 600x400 with 1 Axes>"
      ]
     },
     "metadata": {},
     "output_type": "display_data"
    }
   ],
   "source": [
    "# Create a figure and grab the axis handle\n",
    "fig, ax = plt.subplots(1, 1, figsize=(6, 4))\n",
    "\n",
    "# Plot the data\n",
    "ax.scatter(X_train, y_train, s=10, label=\"Data\")\n",
    "\n",
    "# Plot the regression line\n",
    "ax.plot(X_train, lin_reg_1_sm.params.iloc[0] + lin_reg_1_sm.params.iloc[1]*X_train, 'r', label='Fitted line')\n",
    "\n",
    "# Add axis labels, legend, and grid\n",
    "ax.set_xlabel(X_train.name)\n",
    "ax.set_ylabel(y_train.name)\n",
    "ax.legend()\n",
    "ax.grid()\n",
    "plt.show()"
   ]
  },
  {
   "cell_type": "markdown",
   "metadata": {},
   "source": [
    "*Pro tip: To plot the regression line obtained from the other linear regression methods mentioned above, we just need to extract the intercept and coefficient accordingly.*"
   ]
  },
  {
   "cell_type": "markdown",
   "metadata": {},
   "source": [
    "#### Q: Predict what the resale price will be for a unit with a floor area of 92.0 sqm (i.e., the floor area of the test observation)."
   ]
  },
  {
   "cell_type": "markdown",
   "metadata": {},
   "source": [
    "##### Using `scipy.stats.linregress()`"
   ]
  },
  {
   "cell_type": "markdown",
   "metadata": {},
   "source": [
    "We extract the regression coefficients and apply the regression equation:\n",
    "$$\n",
    "  \\textsf{resale\\_price} = \\beta_0 + \\beta_1\\times92.0\n",
    "$$"
   ]
  },
  {
   "cell_type": "code",
   "execution_count": 21,
   "metadata": {},
   "outputs": [
    {
     "data": {
      "text/plain": [
       "536637.3901109069"
      ]
     },
     "execution_count": 21,
     "metadata": {},
     "output_type": "execute_result"
    }
   ],
   "source": [
    "lin_reg_1_sp.intercept + lin_reg_1_sp.slope * X_test"
   ]
  },
  {
   "cell_type": "markdown",
   "metadata": {},
   "source": [
    "We predict that a resale unit in Ang Mo Kio, of 92.0 sqm, will cost about $536,637.39."
   ]
  },
  {
   "cell_type": "markdown",
   "metadata": {},
   "source": [
    "We can compare this with the true price for this floor area.\n",
    "\n",
    "*Pro tip: We used a known observation as our prediction test case for pedagogical reasons. Of course in real life, the true value of the dependent variable for a new prediction will be unknown.*"
   ]
  },
  {
   "cell_type": "code",
   "execution_count": 22,
   "metadata": {},
   "outputs": [
    {
     "data": {
      "text/plain": [
       "410000.0"
      ]
     },
     "execution_count": 22,
     "metadata": {},
     "output_type": "execute_result"
    }
   ],
   "source": [
    "y_test"
   ]
  },
  {
   "cell_type": "markdown",
   "metadata": {},
   "source": [
    "##### Using `sklearn.linear_model.LinearRegression()`"
   ]
  },
  {
   "cell_type": "code",
   "execution_count": 23,
   "metadata": {},
   "outputs": [
    {
     "data": {
      "text/plain": [
       "536637.3901109071"
      ]
     },
     "execution_count": 23,
     "metadata": {},
     "output_type": "execute_result"
    }
   ],
   "source": [
    "lin_reg_1_sk.predict(X_test.reshape(-1, 1)).item()"
   ]
  },
  {
   "cell_type": "markdown",
   "metadata": {},
   "source": [
    "##### Using `statsmodels.regression.linear_model.OLS()`"
   ]
  },
  {
   "cell_type": "code",
   "execution_count": 24,
   "metadata": {},
   "outputs": [
    {
     "data": {
      "text/plain": [
       "536637.3901109077"
      ]
     },
     "execution_count": 24,
     "metadata": {},
     "output_type": "execute_result"
    }
   ],
   "source": [
    "lin_reg_1_sm.predict(sm.add_constant(X_test.reshape(-1, 1), has_constant='add')).item()"
   ]
  },
  {
   "cell_type": "markdown",
   "metadata": {},
   "source": [
    "## Multiple Linear Regression"
   ]
  },
  {
   "cell_type": "markdown",
   "metadata": {},
   "source": [
    "#### Q: Perform linear regression with `resale_price` as the dependent variable and `flat_type`, `floor_area_sqm`, and `lease_commence_date` as the independent variables."
   ]
  },
  {
   "cell_type": "markdown",
   "metadata": {},
   "source": [
    "We create the training and testing datasets. Again, the testing dataset (one observation) is excluded from the training dataset."
   ]
  },
  {
   "cell_type": "code",
   "execution_count": 25,
   "metadata": {},
   "outputs": [],
   "source": [
    "# Create training dataset, excluding test observation\n",
    "X_train = data_rs[['flat_type', 'floor_area_sqm', 'lease_commence_date']].drop([idx_test], axis=0)\n",
    "y_train = data_rs['resale_price'].drop([idx_test], axis=0)"
   ]
  },
  {
   "cell_type": "code",
   "execution_count": 26,
   "metadata": {},
   "outputs": [
    {
     "name": "stdout",
     "output_type": "stream",
     "text": [
      "flat_type              4 ROOM\n",
      "floor_area_sqm           92.0\n",
      "lease_commence_date      1981\n",
      "Name: 36, dtype: object \n",
      "\n",
      "410000.0\n"
     ]
    }
   ],
   "source": [
    "# Create testing dataset (in this case, one observation)\n",
    "X_test = data_rs[['flat_type', 'floor_area_sqm', 'lease_commence_date']].loc[idx_test]\n",
    "y_test = data_rs['resale_price'].loc[idx_test]\n",
    "print(X_test, \"\\n\")\n",
    "print(y_test)"
   ]
  },
  {
   "cell_type": "markdown",
   "metadata": {},
   "source": [
    "##### Using `sklearn.linear_model.LinearRegression()`"
   ]
  },
  {
   "cell_type": "markdown",
   "metadata": {},
   "source": [
    "We need to encode the categorical variable using dummy variables. We use `drop_first=True` to remove the first dummy variable, in this case, `flat_type_4 ROOM`. This means that the regression coefficients of any related dummy variables should be interpreted with reference to a 4-room unit."
   ]
  },
  {
   "cell_type": "code",
   "execution_count": 27,
   "metadata": {},
   "outputs": [
    {
     "data": {
      "text/html": [
       "<div>\n",
       "<style scoped>\n",
       "    .dataframe tbody tr th:only-of-type {\n",
       "        vertical-align: middle;\n",
       "    }\n",
       "\n",
       "    .dataframe tbody tr th {\n",
       "        vertical-align: top;\n",
       "    }\n",
       "\n",
       "    .dataframe thead th {\n",
       "        text-align: right;\n",
       "    }\n",
       "</style>\n",
       "<table border=\"1\" class=\"dataframe\">\n",
       "  <thead>\n",
       "    <tr style=\"text-align: right;\">\n",
       "      <th></th>\n",
       "      <th>floor_area_sqm</th>\n",
       "      <th>lease_commence_date</th>\n",
       "      <th>flat_type_5 ROOM</th>\n",
       "      <th>flat_type_EXECUTIVE</th>\n",
       "    </tr>\n",
       "  </thead>\n",
       "  <tbody>\n",
       "    <tr>\n",
       "      <th>33</th>\n",
       "      <td>92.0</td>\n",
       "      <td>1979</td>\n",
       "      <td>False</td>\n",
       "      <td>False</td>\n",
       "    </tr>\n",
       "    <tr>\n",
       "      <th>34</th>\n",
       "      <td>91.0</td>\n",
       "      <td>1979</td>\n",
       "      <td>False</td>\n",
       "      <td>False</td>\n",
       "    </tr>\n",
       "    <tr>\n",
       "      <th>35</th>\n",
       "      <td>94.0</td>\n",
       "      <td>1981</td>\n",
       "      <td>False</td>\n",
       "      <td>False</td>\n",
       "    </tr>\n",
       "    <tr>\n",
       "      <th>37</th>\n",
       "      <td>98.0</td>\n",
       "      <td>1979</td>\n",
       "      <td>False</td>\n",
       "      <td>False</td>\n",
       "    </tr>\n",
       "    <tr>\n",
       "      <th>38</th>\n",
       "      <td>97.0</td>\n",
       "      <td>1977</td>\n",
       "      <td>False</td>\n",
       "      <td>False</td>\n",
       "    </tr>\n",
       "    <tr>\n",
       "      <th>...</th>\n",
       "      <td>...</td>\n",
       "      <td>...</td>\n",
       "      <td>...</td>\n",
       "      <td>...</td>\n",
       "    </tr>\n",
       "    <tr>\n",
       "      <th>173974</th>\n",
       "      <td>135.0</td>\n",
       "      <td>1982</td>\n",
       "      <td>True</td>\n",
       "      <td>False</td>\n",
       "    </tr>\n",
       "    <tr>\n",
       "      <th>173975</th>\n",
       "      <td>121.0</td>\n",
       "      <td>1980</td>\n",
       "      <td>True</td>\n",
       "      <td>False</td>\n",
       "    </tr>\n",
       "    <tr>\n",
       "      <th>173976</th>\n",
       "      <td>121.0</td>\n",
       "      <td>1980</td>\n",
       "      <td>True</td>\n",
       "      <td>False</td>\n",
       "    </tr>\n",
       "    <tr>\n",
       "      <th>173977</th>\n",
       "      <td>121.0</td>\n",
       "      <td>1981</td>\n",
       "      <td>True</td>\n",
       "      <td>False</td>\n",
       "    </tr>\n",
       "    <tr>\n",
       "      <th>173978</th>\n",
       "      <td>113.0</td>\n",
       "      <td>2018</td>\n",
       "      <td>True</td>\n",
       "      <td>False</td>\n",
       "    </tr>\n",
       "  </tbody>\n",
       "</table>\n",
       "<p>3283 rows × 4 columns</p>\n",
       "</div>"
      ],
      "text/plain": [
       "        floor_area_sqm  lease_commence_date  flat_type_5 ROOM  \\\n",
       "33                92.0                 1979             False   \n",
       "34                91.0                 1979             False   \n",
       "35                94.0                 1981             False   \n",
       "37                98.0                 1979             False   \n",
       "38                97.0                 1977             False   \n",
       "...                ...                  ...               ...   \n",
       "173974           135.0                 1982              True   \n",
       "173975           121.0                 1980              True   \n",
       "173976           121.0                 1980              True   \n",
       "173977           121.0                 1981              True   \n",
       "173978           113.0                 2018              True   \n",
       "\n",
       "        flat_type_EXECUTIVE  \n",
       "33                    False  \n",
       "34                    False  \n",
       "35                    False  \n",
       "37                    False  \n",
       "38                    False  \n",
       "...                     ...  \n",
       "173974                False  \n",
       "173975                False  \n",
       "173976                False  \n",
       "173977                False  \n",
       "173978                False  \n",
       "\n",
       "[3283 rows x 4 columns]"
      ]
     },
     "execution_count": 27,
     "metadata": {},
     "output_type": "execute_result"
    }
   ],
   "source": [
    "X_augm = pd.get_dummies(X_train, columns=['flat_type'], drop_first=True)              # Convert categorical variable(s) to dummy variables\n",
    "X_augm"
   ]
  },
  {
   "cell_type": "markdown",
   "metadata": {},
   "source": [
    "Perform the regression:"
   ]
  },
  {
   "cell_type": "code",
   "execution_count": 28,
   "metadata": {},
   "outputs": [],
   "source": [
    "lin_reg_m_sk = LinearRegression().fit(X_augm, y_train)"
   ]
  },
  {
   "cell_type": "markdown",
   "metadata": {},
   "source": [
    "Print out the regression coefficients and $r^2$-value:"
   ]
  },
  {
   "cell_type": "code",
   "execution_count": 29,
   "metadata": {},
   "outputs": [
    {
     "name": "stdout",
     "output_type": "stream",
     "text": [
      "Intercept:\t -18752350.174067255\n",
      "Coefficients: [  3651.97545032   9523.05676243  60081.01183025 129124.83457061]\n",
      "r^2:\t\t 0.8156319031287281\n"
     ]
    }
   ],
   "source": [
    "print(\"Intercept:\\t\", lin_reg_m_sk.intercept_)\n",
    "print(\"Coefficients:\", lin_reg_m_sk.coef_)\n",
    "print(\"r^2:\\t\\t\", lin_reg_m_sk.score(X_augm, y_train))"
   ]
  },
  {
   "cell_type": "markdown",
   "metadata": {},
   "source": [
    "##### Using `statsmodels.regression.linear_model.OLS()`"
   ]
  },
  {
   "cell_type": "markdown",
   "metadata": {},
   "source": [
    "We need to encode the categorical variable using dummy variables. We also need to explicitly include a column of ones, in order to include the intercept."
   ]
  },
  {
   "cell_type": "code",
   "execution_count": 30,
   "metadata": {},
   "outputs": [
    {
     "data": {
      "text/html": [
       "<div>\n",
       "<style scoped>\n",
       "    .dataframe tbody tr th:only-of-type {\n",
       "        vertical-align: middle;\n",
       "    }\n",
       "\n",
       "    .dataframe tbody tr th {\n",
       "        vertical-align: top;\n",
       "    }\n",
       "\n",
       "    .dataframe thead th {\n",
       "        text-align: right;\n",
       "    }\n",
       "</style>\n",
       "<table border=\"1\" class=\"dataframe\">\n",
       "  <thead>\n",
       "    <tr style=\"text-align: right;\">\n",
       "      <th></th>\n",
       "      <th>const</th>\n",
       "      <th>floor_area_sqm</th>\n",
       "      <th>lease_commence_date</th>\n",
       "      <th>flat_type_5 ROOM</th>\n",
       "      <th>flat_type_EXECUTIVE</th>\n",
       "    </tr>\n",
       "  </thead>\n",
       "  <tbody>\n",
       "    <tr>\n",
       "      <th>33</th>\n",
       "      <td>1.0</td>\n",
       "      <td>92.0</td>\n",
       "      <td>1979</td>\n",
       "      <td>0</td>\n",
       "      <td>0</td>\n",
       "    </tr>\n",
       "    <tr>\n",
       "      <th>34</th>\n",
       "      <td>1.0</td>\n",
       "      <td>91.0</td>\n",
       "      <td>1979</td>\n",
       "      <td>0</td>\n",
       "      <td>0</td>\n",
       "    </tr>\n",
       "    <tr>\n",
       "      <th>35</th>\n",
       "      <td>1.0</td>\n",
       "      <td>94.0</td>\n",
       "      <td>1981</td>\n",
       "      <td>0</td>\n",
       "      <td>0</td>\n",
       "    </tr>\n",
       "    <tr>\n",
       "      <th>37</th>\n",
       "      <td>1.0</td>\n",
       "      <td>98.0</td>\n",
       "      <td>1979</td>\n",
       "      <td>0</td>\n",
       "      <td>0</td>\n",
       "    </tr>\n",
       "    <tr>\n",
       "      <th>38</th>\n",
       "      <td>1.0</td>\n",
       "      <td>97.0</td>\n",
       "      <td>1977</td>\n",
       "      <td>0</td>\n",
       "      <td>0</td>\n",
       "    </tr>\n",
       "    <tr>\n",
       "      <th>...</th>\n",
       "      <td>...</td>\n",
       "      <td>...</td>\n",
       "      <td>...</td>\n",
       "      <td>...</td>\n",
       "      <td>...</td>\n",
       "    </tr>\n",
       "    <tr>\n",
       "      <th>173974</th>\n",
       "      <td>1.0</td>\n",
       "      <td>135.0</td>\n",
       "      <td>1982</td>\n",
       "      <td>1</td>\n",
       "      <td>0</td>\n",
       "    </tr>\n",
       "    <tr>\n",
       "      <th>173975</th>\n",
       "      <td>1.0</td>\n",
       "      <td>121.0</td>\n",
       "      <td>1980</td>\n",
       "      <td>1</td>\n",
       "      <td>0</td>\n",
       "    </tr>\n",
       "    <tr>\n",
       "      <th>173976</th>\n",
       "      <td>1.0</td>\n",
       "      <td>121.0</td>\n",
       "      <td>1980</td>\n",
       "      <td>1</td>\n",
       "      <td>0</td>\n",
       "    </tr>\n",
       "    <tr>\n",
       "      <th>173977</th>\n",
       "      <td>1.0</td>\n",
       "      <td>121.0</td>\n",
       "      <td>1981</td>\n",
       "      <td>1</td>\n",
       "      <td>0</td>\n",
       "    </tr>\n",
       "    <tr>\n",
       "      <th>173978</th>\n",
       "      <td>1.0</td>\n",
       "      <td>113.0</td>\n",
       "      <td>2018</td>\n",
       "      <td>1</td>\n",
       "      <td>0</td>\n",
       "    </tr>\n",
       "  </tbody>\n",
       "</table>\n",
       "<p>3283 rows × 5 columns</p>\n",
       "</div>"
      ],
      "text/plain": [
       "        const  floor_area_sqm  lease_commence_date  flat_type_5 ROOM  \\\n",
       "33        1.0            92.0                 1979                 0   \n",
       "34        1.0            91.0                 1979                 0   \n",
       "35        1.0            94.0                 1981                 0   \n",
       "37        1.0            98.0                 1979                 0   \n",
       "38        1.0            97.0                 1977                 0   \n",
       "...       ...             ...                  ...               ...   \n",
       "173974    1.0           135.0                 1982                 1   \n",
       "173975    1.0           121.0                 1980                 1   \n",
       "173976    1.0           121.0                 1980                 1   \n",
       "173977    1.0           121.0                 1981                 1   \n",
       "173978    1.0           113.0                 2018                 1   \n",
       "\n",
       "        flat_type_EXECUTIVE  \n",
       "33                        0  \n",
       "34                        0  \n",
       "35                        0  \n",
       "37                        0  \n",
       "38                        0  \n",
       "...                     ...  \n",
       "173974                    0  \n",
       "173975                    0  \n",
       "173976                    0  \n",
       "173977                    0  \n",
       "173978                    0  \n",
       "\n",
       "[3283 rows x 5 columns]"
      ]
     },
     "execution_count": 30,
     "metadata": {},
     "output_type": "execute_result"
    }
   ],
   "source": [
    "X_augm = pd.get_dummies(X_train, columns=['flat_type'], drop_first=True, dtype=int)     # Convert categorical variable(s) to dummy variables\n",
    "X_augm = sm.add_constant(X_augm)                                                        # Add a column of ones\n",
    "X_augm"
   ]
  },
  {
   "cell_type": "markdown",
   "metadata": {},
   "source": [
    "Perform the regression:"
   ]
  },
  {
   "cell_type": "code",
   "execution_count": 31,
   "metadata": {},
   "outputs": [],
   "source": [
    "lin_reg_m_sm = sm.OLS(y_train, X_augm).fit()"
   ]
  },
  {
   "cell_type": "markdown",
   "metadata": {},
   "source": [
    "Print out the regression coefficients and $r^2$-value:"
   ]
  },
  {
   "cell_type": "code",
   "execution_count": 32,
   "metadata": {},
   "outputs": [
    {
     "name": "stdout",
     "output_type": "stream",
     "text": [
      "Intercept and coefficients:\n",
      " const                 -1.875235e+07\n",
      "floor_area_sqm         3.651975e+03\n",
      "lease_commence_date    9.523057e+03\n",
      "flat_type_5 ROOM       6.008101e+04\n",
      "flat_type_EXECUTIVE    1.291248e+05\n",
      "dtype: float64\n",
      "\n",
      "r^2:\t\t 0.8156319031287288\n"
     ]
    }
   ],
   "source": [
    "print(\"Intercept and coefficients:\\n\", lin_reg_m_sm.params)\n",
    "print(\"\\nr^2:\\t\\t\", lin_reg_m_sm.rsquared)"
   ]
  },
  {
   "cell_type": "markdown",
   "metadata": {},
   "source": [
    "Display the regression results summary:"
   ]
  },
  {
   "cell_type": "code",
   "execution_count": 33,
   "metadata": {},
   "outputs": [
    {
     "name": "stdout",
     "output_type": "stream",
     "text": [
      "                            OLS Regression Results                            \n",
      "==============================================================================\n",
      "Dep. Variable:           resale_price   R-squared:                       0.816\n",
      "Model:                            OLS   Adj. R-squared:                  0.815\n",
      "Method:                 Least Squares   F-statistic:                     3625.\n",
      "Date:                Thu, 13 Mar 2025   Prob (F-statistic):               0.00\n",
      "Time:                        00:58:02   Log-Likelihood:                -41715.\n",
      "No. Observations:                3283   AIC:                         8.344e+04\n",
      "Df Residuals:                    3278   BIC:                         8.347e+04\n",
      "Df Model:                           4                                         \n",
      "Covariance Type:            nonrobust                                         \n",
      "=======================================================================================\n",
      "                          coef    std err          t      P>|t|      [0.025      0.975]\n",
      "---------------------------------------------------------------------------------------\n",
      "const               -1.875e+07    2.1e+05    -89.338      0.000   -1.92e+07   -1.83e+07\n",
      "floor_area_sqm       3651.9755    270.483     13.502      0.000    3121.643    4182.307\n",
      "lease_commence_date  9523.0568    101.372     93.941      0.000    9324.297    9721.817\n",
      "flat_type_5 ROOM     6.008e+04   7694.726      7.808      0.000     4.5e+04    7.52e+04\n",
      "flat_type_EXECUTIVE  1.291e+05   1.87e+04      6.890      0.000    9.24e+04    1.66e+05\n",
      "==============================================================================\n",
      "Omnibus:                       47.948   Durbin-Watson:                   1.015\n",
      "Prob(Omnibus):                  0.000   Jarque-Bera (JB):               65.355\n",
      "Skew:                           0.185   Prob(JB):                     6.43e-15\n",
      "Kurtosis:                       3.583   Cond. No.                     3.00e+05\n",
      "==============================================================================\n",
      "\n",
      "Notes:\n",
      "[1] Standard Errors assume that the covariance matrix of the errors is correctly specified.\n",
      "[2] The condition number is large,  3e+05. This might indicate that there are\n",
      "strong multicollinearity or other numerical problems.\n"
     ]
    }
   ],
   "source": [
    "print(lin_reg_m_sm.summary())"
   ]
  },
  {
   "cell_type": "markdown",
   "metadata": {},
   "source": [
    "#### Q: Interpret the coefficient for `floor_area_sqm`."
   ]
  },
  {
   "cell_type": "markdown",
   "metadata": {},
   "source": [
    "For each 1 sqm increase in the floor area, the resale price will increase by about $3,651.98, *with all else fixed*."
   ]
  },
  {
   "cell_type": "markdown",
   "metadata": {},
   "source": [
    "#### Q: Interpret the coefficient for `lease_commence_date`."
   ]
  },
  {
   "cell_type": "markdown",
   "metadata": {},
   "source": [
    "For each year later that the lease commences, the resale price will increase by about $9,523.06, *with all else fixed*."
   ]
  },
  {
   "cell_type": "markdown",
   "metadata": {},
   "source": [
    "#### Q: Interpret the coefficient for `flat_type_5 ROOM`."
   ]
  },
  {
   "cell_type": "markdown",
   "metadata": {},
   "source": [
    "Compared to a 4-room unit, the resale price of a 5-room unit will be about $60,081 more, *with all else fixed*."
   ]
  },
  {
   "cell_type": "markdown",
   "metadata": {},
   "source": [
    "#### Q: Interpret the coefficient for `flat_type_EXECUTIVE`."
   ]
  },
  {
   "cell_type": "markdown",
   "metadata": {},
   "source": [
    "Compared to a 4-room unit, the resale price of an executive unit will be about $129,125 more, *with all else fixed*."
   ]
  },
  {
   "cell_type": "markdown",
   "metadata": {},
   "source": [
    "*Remember, positive and negative regression coefficients indicate positive and negative relationships, respectively, between the dependent and independent variables.*"
   ]
  },
  {
   "cell_type": "markdown",
   "metadata": {},
   "source": [
    "#### Q: Interpret the adjusted $r^2$-value."
   ]
  },
  {
   "cell_type": "markdown",
   "metadata": {},
   "source": [
    "About 81.5% of the variability in the resale price is explained by the independent variables studied."
   ]
  },
  {
   "cell_type": "markdown",
   "metadata": {},
   "source": [
    "#### Q: Predict what the resale price will be for a 4-room unit, with a floor area of 92.0 sqm, whose lease commenced in 1981 (i.e., the values of the test observation)."
   ]
  },
  {
   "cell_type": "markdown",
   "metadata": {},
   "source": [
    "Just for reference, this was our test observation and its true resale price:"
   ]
  },
  {
   "cell_type": "code",
   "execution_count": 34,
   "metadata": {},
   "outputs": [
    {
     "name": "stdout",
     "output_type": "stream",
     "text": [
      "flat_type              4 ROOM\n",
      "floor_area_sqm           92.0\n",
      "lease_commence_date      1981\n",
      "Name: 36, dtype: object \n",
      "\n",
      "410000.0\n"
     ]
    }
   ],
   "source": [
    "print(X_test, \"\\n\")\n",
    "print(y_test)"
   ]
  },
  {
   "cell_type": "markdown",
   "metadata": {},
   "source": [
    "However, let us consider that the variable values asked in the question are for a previously unseen observation. So, we need to create a new dataframe to supply to the `predict()` methods.\n",
    "\n",
    "We also need to remember that our categorical variable needs to be converted into the exact same dummy variables used in the training dataset."
   ]
  },
  {
   "cell_type": "code",
   "execution_count": 35,
   "metadata": {},
   "outputs": [
    {
     "data": {
      "text/html": [
       "<div>\n",
       "<style scoped>\n",
       "    .dataframe tbody tr th:only-of-type {\n",
       "        vertical-align: middle;\n",
       "    }\n",
       "\n",
       "    .dataframe tbody tr th {\n",
       "        vertical-align: top;\n",
       "    }\n",
       "\n",
       "    .dataframe thead th {\n",
       "        text-align: right;\n",
       "    }\n",
       "</style>\n",
       "<table border=\"1\" class=\"dataframe\">\n",
       "  <thead>\n",
       "    <tr style=\"text-align: right;\">\n",
       "      <th></th>\n",
       "      <th>floor_area_sqm</th>\n",
       "      <th>lease_commence_date</th>\n",
       "      <th>flat_type_5 ROOM</th>\n",
       "      <th>flat_type_EXECUTIVE</th>\n",
       "    </tr>\n",
       "  </thead>\n",
       "  <tbody>\n",
       "    <tr>\n",
       "      <th>0</th>\n",
       "      <td>92.0</td>\n",
       "      <td>1981</td>\n",
       "      <td>False</td>\n",
       "      <td>False</td>\n",
       "    </tr>\n",
       "  </tbody>\n",
       "</table>\n",
       "</div>"
      ],
      "text/plain": [
       "   floor_area_sqm  lease_commence_date  flat_type_5 ROOM  flat_type_EXECUTIVE\n",
       "0            92.0                 1981             False                False"
      ]
     },
     "execution_count": 35,
     "metadata": {},
     "output_type": "execute_result"
    }
   ],
   "source": [
    "dict_pred = {'floor_area_sqm': 92.0,\n",
    "             'lease_commence_date': 1981,\n",
    "             'flat_type_5 ROOM': False,\n",
    "             'flat_type_EXECUTIVE': False}\n",
    "X_pred = pd.DataFrame(data=dict_pred, index=[0])\n",
    "X_pred"
   ]
  },
  {
   "cell_type": "markdown",
   "metadata": {},
   "source": [
    "##### Using `sklearn.linear_model.LinearRegression()`"
   ]
  },
  {
   "cell_type": "code",
   "execution_count": 36,
   "metadata": {},
   "outputs": [
    {
     "data": {
      "text/plain": [
       "448807.0137399994"
      ]
     },
     "execution_count": 36,
     "metadata": {},
     "output_type": "execute_result"
    }
   ],
   "source": [
    "# By predict() method\n",
    "lin_reg_m_sk.predict(X_pred).item()"
   ]
  },
  {
   "cell_type": "markdown",
   "metadata": {},
   "source": [
    "Written out, the regression equation for this prediction is:\n",
    "$$\n",
    "  \\textsf{resale\\_price} = \\beta_0 + \\beta_{\\texttt{floor\\_area\\_sqm}}\\times92.0 + \\beta_{\\texttt{flat\\_type\\_5 ROOM}}\\times0 + \\beta_{\\texttt{flat\\_type\\_EXECUTIVE}}\\times0\n",
    "$$"
   ]
  },
  {
   "cell_type": "code",
   "execution_count": 37,
   "metadata": {},
   "outputs": [
    {
     "data": {
      "text/plain": [
       "0    448807.01374\n",
       "dtype: float64"
      ]
     },
     "execution_count": 37,
     "metadata": {},
     "output_type": "execute_result"
    }
   ],
   "source": [
    "# By manual calculation\n",
    "lin_reg_m_sk.intercept_ + (lin_reg_m_sk.coef_ * X_pred).sum(axis=1)"
   ]
  },
  {
   "cell_type": "markdown",
   "metadata": {},
   "source": [
    "##### Using `statsmodels.regression.linear_model.OLS()`"
   ]
  },
  {
   "cell_type": "code",
   "execution_count": 38,
   "metadata": {},
   "outputs": [],
   "source": [
    "X_pred_augm = sm.add_constant(X_pred, has_constant='add')"
   ]
  },
  {
   "cell_type": "code",
   "execution_count": 39,
   "metadata": {},
   "outputs": [
    {
     "data": {
      "text/plain": [
       "448807.0137399733"
      ]
     },
     "execution_count": 39,
     "metadata": {},
     "output_type": "execute_result"
    }
   ],
   "source": [
    "# By predict method\n",
    "lin_reg_m_sm.predict(X_pred_augm).item()"
   ]
  },
  {
   "cell_type": "code",
   "execution_count": 40,
   "metadata": {},
   "outputs": [
    {
     "data": {
      "text/plain": [
       "0    448807.01374\n",
       "dtype: float64"
      ]
     },
     "execution_count": 40,
     "metadata": {},
     "output_type": "execute_result"
    }
   ],
   "source": [
    "# By manual calculation\n",
    "(lin_reg_m_sm.params * X_pred_augm).sum(axis=1)"
   ]
  },
  {
   "cell_type": "markdown",
   "metadata": {},
   "source": [
    "We predict that a resale 4-room unit in Ang Mo Kio, of 92.0 sqm, whose lease commenced in 1981, will cost about $448,807.01."
   ]
  },
  {
   "cell_type": "markdown",
   "metadata": {},
   "source": [
    "We can compare this with the true historical resale price for this particular unit."
   ]
  },
  {
   "cell_type": "code",
   "execution_count": 41,
   "metadata": {},
   "outputs": [
    {
     "data": {
      "text/plain": [
       "410000.0"
      ]
     },
     "execution_count": 41,
     "metadata": {},
     "output_type": "execute_result"
    }
   ],
   "source": [
    "y_test"
   ]
  },
  {
   "cell_type": "markdown",
   "metadata": {},
   "source": [
    "In this example, we observe that we got a more accurate prediction when more variables (features) were included.\n",
    "\n",
    "*Pro tip: Including more variables is not always universally better. Read about the [curse of dimensionality](https://en.wikipedia.org/wiki/Curse_of_dimensionality) for more details.*"
   ]
  },
  {
   "cell_type": "markdown",
   "metadata": {},
   "source": [
    "## Summary"
   ]
  },
  {
   "cell_type": "markdown",
   "metadata": {},
   "source": [
    "In this lesson, we covered how to use various packages in Python to do simple and multiple linear regression."
   ]
  },
  {
   "cell_type": "markdown",
   "metadata": {},
   "source": [
    "## Resources"
   ]
  },
  {
   "cell_type": "markdown",
   "metadata": {},
   "source": [
    "Documentation for\n",
    "- `scipy.stats.linregress()`: https://docs.scipy.org/doc/scipy/reference/generated/scipy.stats.linregress.html\n",
    "- `sklearn.linear_model.LinearRegression()`: https://scikit-learn.org/stable/modules/generated/sklearn.linear_model.LinearRegression.html\n",
    "- `statsmodels.regression.linear_model.OLS()`: https://www.statsmodels.org/dev/examples/notebooks/generated/ols.html"
   ]
  }
 ],
 "metadata": {
  "kernelspec": {
   "display_name": "Python 3",
   "language": "python",
   "name": "python3"
  },
  "language_info": {
   "codemirror_mode": {
    "name": "ipython",
    "version": 3
   },
   "file_extension": ".py",
   "mimetype": "text/x-python",
   "name": "python",
   "nbconvert_exporter": "python",
   "pygments_lexer": "ipython3",
   "version": "3.12.1"
  },
  "orig_nbformat": 4
 },
 "nbformat": 4,
 "nbformat_minor": 2
}
