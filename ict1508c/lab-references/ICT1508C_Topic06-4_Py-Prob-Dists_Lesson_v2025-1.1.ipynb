{
 "cells": [
  {
   "cell_type": "markdown",
   "metadata": {},
   "source": [
    "# ICT1508C Applied Statistics\n",
    "\n",
    "*Probability Distributions Using Python*\n",
    "\n",
    ">Filename:     &emsp;&emsp;`ICT1508C_Topic06-4_Py-Prob-Dists_Lesson_v2025-1.1.ipynb`<br>\n",
    ">Version:      &emsp;&emsp;&ensp; `2025-1.1`<br>\n",
    ">Description:  &ensp;&ensp;Jupyter notebook for ICT1508C lesson on Probability Distributions Using Python.<br>\n",
    ">Module:       &emsp;&emsp;&ensp;ICT1508C<br>\n",
    ">Type:         &emsp;&emsp;&emsp;&ensp; Lesson<br>\n",
    ">Prepared by:  &ensp;Nicholas H L Wong<br>\n",
    ">Organisation: &nbsp;Singapore Institute of Technology<br>\n",
    ">Division:     &emsp;&emsp;&ensp;Infocomm Technology<br>\n",
    ">Attribution:  &emsp;Copyright &copy; 2025 Nicholas H L Wong – All Rights Reserved<br>"
   ]
  },
  {
   "cell_type": "markdown",
   "metadata": {},
   "source": [
    "## Setup"
   ]
  },
  {
   "cell_type": "code",
   "execution_count": 1,
   "metadata": {},
   "outputs": [],
   "source": [
    "# Import necessary packages\n",
    "import numpy as np\n",
    "from scipy import stats\n",
    "from scipy.special import comb\n",
    "import matplotlib.pyplot as plt"
   ]
  },
  {
   "cell_type": "markdown",
   "metadata": {},
   "source": [
    "## Discrete Probability Distributions"
   ]
  },
  {
   "cell_type": "markdown",
   "metadata": {},
   "source": [
    "### Generic Discrete Distribution"
   ]
  },
  {
   "cell_type": "markdown",
   "metadata": {},
   "source": [
    "The following table summarises the number of late arrivals of students who attend a certain school on 5 mornings of a particular week.\n",
    "\n",
    "| Number of days arrived late | Number of pupils |\n",
    "| -: | -: |\n",
    "| 0 | 275 |\n",
    "| 1 | 111 |\n",
    "| 2 | 33 |\n",
    "| 3 | 12 |\n",
    "| 4 | 13 |\n",
    "| 5 | 16 |"
   ]
  },
  {
   "cell_type": "code",
   "execution_count": 2,
   "metadata": {},
   "outputs": [],
   "source": [
    "n_pupils = np.array([275, 111, 33, 12, 13, 16])     # Frequencies"
   ]
  },
  {
   "cell_type": "code",
   "execution_count": 3,
   "metadata": {},
   "outputs": [],
   "source": [
    "x_arr = np.arange(len(n_pupils))    # Range of values of the random variable"
   ]
  },
  {
   "cell_type": "markdown",
   "metadata": {},
   "source": [
    "#### Q: Plot the probability distribution of the data."
   ]
  },
  {
   "cell_type": "code",
   "execution_count": 4,
   "metadata": {},
   "outputs": [
    {
     "data": {
      "text/plain": [
       "array([0.59782609, 0.24130435, 0.07173913, 0.02608696, 0.02826087,\n",
       "       0.03478261])"
      ]
     },
     "execution_count": 4,
     "metadata": {},
     "output_type": "execute_result"
    }
   ],
   "source": [
    "pr = n_pupils/np.sum(n_pupils)      # Probabilities\n",
    "pr"
   ]
  },
  {
   "cell_type": "code",
   "execution_count": 5,
   "metadata": {},
   "outputs": [
    {
     "data": {
      "text/plain": [
       "1.0"
      ]
     },
     "execution_count": 5,
     "metadata": {},
     "output_type": "execute_result"
    }
   ],
   "source": [
    "np.sum(pr)"
   ]
  },
  {
   "cell_type": "code",
   "execution_count": 6,
   "metadata": {},
   "outputs": [],
   "source": [
    "# Create a custom discrete probability distribution\n",
    "my_dist = stats.rv_discrete(name='my_dist', values=(x_arr, pr))"
   ]
  },
  {
   "cell_type": "code",
   "execution_count": 7,
   "metadata": {},
   "outputs": [
    {
     "data": {
      "image/png": "[encoded data removed]",
      "text/plain": [
       "<Figure size 500x300 with 1 Axes>"
      ]
     },
     "metadata": {},
     "output_type": "display_data"
    }
   ],
   "source": [
    "# Create a figure and grab the axis handle\n",
    "fig, ax = plt.subplots(1, 1, figsize=(5, 3))\n",
    "\n",
    "# Plot the probability distribution\n",
    "ax.plot(x_arr, my_dist.pmf(x_arr), 'go', ms=8)\n",
    "ax.vlines(x_arr, 0, my_dist.pmf(x_arr), colors='g', lw=5, alpha=0.5)\n",
    "ax.set_xlabel('Number of late arrival days, $X$')\n",
    "ax.set_ylabel('Probability')\n",
    "ax.set_title('Probability distribution of late pupil arrivals in a week')\n",
    "ax.grid()\n",
    "plt.show()"
   ]
  },
  {
   "cell_type": "markdown",
   "metadata": {},
   "source": [
    "#### Q: What is the mean number of days that students in the sample arrive late?"
   ]
  },
  {
   "cell_type": "code",
   "execution_count": 8,
   "metadata": {},
   "outputs": [
    {
     "data": {
      "text/plain": [
       "0.75"
      ]
     },
     "execution_count": 8,
     "metadata": {},
     "output_type": "execute_result"
    }
   ],
   "source": [
    "xbar = my_dist.mean()\n",
    "xbar"
   ]
  },
  {
   "cell_type": "markdown",
   "metadata": {},
   "source": [
    "We can also manually calculate the mean using the formula\n",
    "$$\n",
    "    \\overline{x} = \\sum_i{x_i\\mathrm{Pr}{\\left(X=x_i\\right)}}\n",
    "$$\n",
    "and verify that it gives the same value as above."
   ]
  },
  {
   "cell_type": "code",
   "execution_count": 9,
   "metadata": {},
   "outputs": [
    {
     "data": {
      "text/plain": [
       "0.75"
      ]
     },
     "execution_count": 9,
     "metadata": {},
     "output_type": "execute_result"
    }
   ],
   "source": [
    "np.sum(x_arr*pr)"
   ]
  },
  {
   "cell_type": "markdown",
   "metadata": {},
   "source": [
    "#### Q: What is the standard deviation of the number of days that students in the sample arrive late?"
   ]
  },
  {
   "cell_type": "code",
   "execution_count": 10,
   "metadata": {},
   "outputs": [
    {
     "data": {
      "text/plain": [
       "1.2338081733785249"
      ]
     },
     "execution_count": 10,
     "metadata": {},
     "output_type": "execute_result"
    }
   ],
   "source": [
    "s = my_dist.std()\n",
    "s"
   ]
  },
  {
   "cell_type": "markdown",
   "metadata": {},
   "source": [
    "We can also manually calculate the standard deviation using the formula\n",
    "$$\n",
    "    s = \\sqrt{\\sum_i{\\left(x_i-\\overline{x}\\right)^2\\mathrm{Pr}{\\left(X=x_i\\right)}}}\n",
    "$$\n",
    "and verify that it gives the same value as above."
   ]
  },
  {
   "cell_type": "code",
   "execution_count": 11,
   "metadata": {},
   "outputs": [
    {
     "data": {
      "text/plain": [
       "1.2338081733785249"
      ]
     },
     "execution_count": 11,
     "metadata": {},
     "output_type": "execute_result"
    }
   ],
   "source": [
    "np.sqrt(np.sum((x_arr-xbar)**2 * pr))"
   ]
  },
  {
   "cell_type": "markdown",
   "metadata": {},
   "source": [
    "### Binomial Distribution"
   ]
  },
  {
   "cell_type": "markdown",
   "metadata": {},
   "source": [
    "Anthony walks to school every morning. The probability that he arrives late is 0.15 and independent of whether he arrives late on any other morning. For a given week, he decides to walk to school on five mornings."
   ]
  },
  {
   "cell_type": "code",
   "execution_count": 12,
   "metadata": {},
   "outputs": [],
   "source": [
    "n, p = 5, 0.15\n",
    "x_arr = np.arange(n+1)              # Range of values of the random variable"
   ]
  },
  {
   "cell_type": "markdown",
   "metadata": {},
   "source": [
    "#### Q: Plot the probability distribution of the number of late days."
   ]
  },
  {
   "cell_type": "code",
   "execution_count": 13,
   "metadata": {},
   "outputs": [],
   "source": [
    "# Create the binomial distribution\n",
    "binom_dist = stats.binom(n=n, p=p)"
   ]
  },
  {
   "cell_type": "code",
   "execution_count": 14,
   "metadata": {},
   "outputs": [
    {
     "data": {
      "image/png": "[encoded data removed]",
      "text/plain": [
       "<Figure size 500x300 with 1 Axes>"
      ]
     },
     "metadata": {},
     "output_type": "display_data"
    }
   ],
   "source": [
    "# Create a figure and grab the axis handle\n",
    "fig, ax = plt.subplots(1, 1, figsize=(5, 3))\n",
    "\n",
    "# Plot the probability distribution\n",
    "ax.plot(x_arr, binom_dist.pmf(x_arr), 'go', ms=8)\n",
    "ax.vlines(x_arr, 0, binom_dist.pmf(x_arr), colors='g', lw=5, alpha=0.5)\n",
    "ax.set_xlabel('Number of late arrival days, $X$')\n",
    "ax.set_ylabel('Probability')\n",
    "ax.set_title('Probability distribution of late days in a week')\n",
    "ax.grid()\n",
    "plt.show()"
   ]
  },
  {
   "cell_type": "markdown",
   "metadata": {},
   "source": [
    "#### Q: What is the probability that he arrives late on 2 or fewer mornings?"
   ]
  },
  {
   "cell_type": "code",
   "execution_count": 15,
   "metadata": {},
   "outputs": [
    {
     "data": {
      "text/plain": [
       "0.9733881249999997"
      ]
     },
     "execution_count": 15,
     "metadata": {},
     "output_type": "execute_result"
    }
   ],
   "source": [
    "k = 2\n",
    "pr_leq2 = np.sum(binom_dist.pmf(x_arr[0:k+1]))\n",
    "pr_leq2"
   ]
  },
  {
   "cell_type": "markdown",
   "metadata": {},
   "source": [
    "We can also manually calculate the probability using the formula\n",
    "$$\n",
    "    \\begin{align}\n",
    "        \\mathrm{Pr}{\\left(X\\leq x\\right)} \n",
    "        &= \\mathrm{Pr}{\\left(X=0\\right)} + \\mathrm{Pr}{\\left(X=1\\right)} + \\cdots + \\mathrm{Pr}{\\left(X=x\\right)} \\\\\n",
    "        &= \\sum_{k=0}^{x}{{n\\choose k}p^k\\left(1-p\\right)^{n-k}}\n",
    "    \\end{align}\n",
    "$$\n",
    "and verify that it gives the same value as above."
   ]
  },
  {
   "cell_type": "code",
   "execution_count": 16,
   "metadata": {},
   "outputs": [
    {
     "data": {
      "text/plain": [
       "0.9733881249999997"
      ]
     },
     "execution_count": 16,
     "metadata": {},
     "output_type": "execute_result"
    }
   ],
   "source": [
    "k_arr = np.arange(k+1)              # Array of specific values of the random variable\n",
    "np.sum(comb(n, k_arr)*(p**k_arr)*((1-p)**(n-k_arr)))"
   ]
  },
  {
   "cell_type": "markdown",
   "metadata": {},
   "source": [
    "#### Q: What is the probability that he arrives late on 3 or more mornings?"
   ]
  },
  {
   "cell_type": "code",
   "execution_count": 17,
   "metadata": {},
   "outputs": [
    {
     "data": {
      "text/plain": [
       "0.026611874999999972"
      ]
     },
     "execution_count": 17,
     "metadata": {},
     "output_type": "execute_result"
    }
   ],
   "source": [
    "k = 3\n",
    "pr_geq3 = np.sum(binom_dist.pmf(x_arr[3:]))\n",
    "pr_geq3"
   ]
  },
  {
   "cell_type": "code",
   "execution_count": 18,
   "metadata": {},
   "outputs": [
    {
     "data": {
      "text/plain": [
       "0.026611875000000285"
      ]
     },
     "execution_count": 18,
     "metadata": {},
     "output_type": "execute_result"
    }
   ],
   "source": [
    "1 - pr_leq2"
   ]
  },
  {
   "cell_type": "code",
   "execution_count": 19,
   "metadata": {},
   "outputs": [
    {
     "data": {
      "text/plain": [
       "0.026611874999999993"
      ]
     },
     "execution_count": 19,
     "metadata": {},
     "output_type": "execute_result"
    }
   ],
   "source": [
    "k_arr = np.arange(k, n+1)           # Array of specific values of the random variable\n",
    "np.sum(comb(n, k_arr)*(p**k_arr)*((1-p)**(n-k_arr)))"
   ]
  },
  {
   "cell_type": "markdown",
   "metadata": {},
   "source": [
    "#### Q: What is mean number of mornings he arrives late?"
   ]
  },
  {
   "cell_type": "code",
   "execution_count": 20,
   "metadata": {},
   "outputs": [
    {
     "data": {
      "text/plain": [
       "0.75"
      ]
     },
     "execution_count": 20,
     "metadata": {},
     "output_type": "execute_result"
    }
   ],
   "source": [
    "binom_dist.mean()"
   ]
  },
  {
   "cell_type": "markdown",
   "metadata": {},
   "source": [
    "We can also manually calculate the mean using the formula\n",
    "$$\n",
    "    \\mathbb{E}{\\left[X\\right]} = np\n",
    "$$\n",
    "and verify that it gives the same value as above."
   ]
  },
  {
   "cell_type": "code",
   "execution_count": 21,
   "metadata": {},
   "outputs": [
    {
     "data": {
      "text/plain": [
       "0.75"
      ]
     },
     "execution_count": 21,
     "metadata": {},
     "output_type": "execute_result"
    }
   ],
   "source": [
    "n*p"
   ]
  },
  {
   "cell_type": "markdown",
   "metadata": {},
   "source": [
    "#### Q: What is variance of the number of mornings he arrives late?"
   ]
  },
  {
   "cell_type": "code",
   "execution_count": 22,
   "metadata": {},
   "outputs": [
    {
     "data": {
      "text/plain": [
       "0.6375"
      ]
     },
     "execution_count": 22,
     "metadata": {},
     "output_type": "execute_result"
    }
   ],
   "source": [
    "binom_dist.var()"
   ]
  },
  {
   "cell_type": "markdown",
   "metadata": {},
   "source": [
    "We can also manually calculate the variance using the formula\n",
    "$$\n",
    "    \\mathrm{Var}{\\left(X\\right)} = np\\left(1-p\\right)\n",
    "$$\n",
    "and verify that it gives the same value as above."
   ]
  },
  {
   "cell_type": "code",
   "execution_count": 23,
   "metadata": {},
   "outputs": [
    {
     "data": {
      "text/plain": [
       "0.6375"
      ]
     },
     "execution_count": 23,
     "metadata": {},
     "output_type": "execute_result"
    }
   ],
   "source": [
    "n*p*(1-p)"
   ]
  },
  {
   "cell_type": "markdown",
   "metadata": {},
   "source": [
    "### Binomial Approximation"
   ]
  },
  {
   "cell_type": "markdown",
   "metadata": {},
   "source": [
    "Suppose that in Anthony's scenario, he collects observations from 40 days of walking to school."
   ]
  },
  {
   "cell_type": "code",
   "execution_count": 24,
   "metadata": {},
   "outputs": [],
   "source": [
    "n, p = 40, 0.15\n",
    "x_arr = np.arange(n+1)              # Range of values of the random variable"
   ]
  },
  {
   "cell_type": "markdown",
   "metadata": {},
   "source": [
    "#### Q: Plot the probability distribution of the number of late days and show that it can be approximated by a normal distribution."
   ]
  },
  {
   "cell_type": "code",
   "execution_count": 25,
   "metadata": {},
   "outputs": [],
   "source": [
    "# Create the binomial distribution\n",
    "binom_dist2 = stats.binom(n=n, p=p)"
   ]
  },
  {
   "cell_type": "code",
   "execution_count": 26,
   "metadata": {},
   "outputs": [
    {
     "data": {
      "image/png": "[encoded data removed]",
      "text/plain": [
       "<Figure size 500x300 with 1 Axes>"
      ]
     },
     "metadata": {},
     "output_type": "display_data"
    }
   ],
   "source": [
    "# Create a figure and grab the axis handle\n",
    "fig, ax = plt.subplots(1, 1, figsize=(5, 3))\n",
    "\n",
    "# Plot the binomial probability distribution\n",
    "ax.plot(x_arr, binom_dist2.pmf(x_arr), 'go', ms=8, label=\"Binomial distribution\")\n",
    "ax.vlines(x_arr, 0, binom_dist2.pmf(x_arr), colors='g', lw=5, alpha=0.5)\n",
    "\n",
    "# Plot the normal probability distribution.\n",
    "# Note that `scale` is standard deviation, not variance.\n",
    "ax.plot(x_arr, stats.norm.pdf(x_arr, loc=n*p, scale=np.sqrt(n*p*(1-p))), \n",
    "        'b-', lw=2, label=\"Normal distribution\")\n",
    "\n",
    "# Add plot annotations and display the plot\n",
    "ax.set_xlabel('Number of late arrival days, $X$')\n",
    "ax.set_ylabel('Probability')\n",
    "ax.set_title('Probability distribution of late days in a week')\n",
    "ax.legend(loc='best', frameon=False)\n",
    "ax.grid()\n",
    "plt.show()"
   ]
  },
  {
   "cell_type": "markdown",
   "metadata": {},
   "source": [
    "We see indeed that as $n$ gets large, the binomial distribution can be approximated by a normal distribution:\n",
    "$$\n",
    "    X \\sim \\mathcal{N}\\left(np,\\,np\\left(1-p\\right)\\right).\n",
    "$$"
   ]
  },
  {
   "cell_type": "markdown",
   "metadata": {},
   "source": [
    "## Continuous Probability Distributions"
   ]
  },
  {
   "cell_type": "markdown",
   "metadata": {},
   "source": [
    "### Continuous Uniform Distribution"
   ]
  },
  {
   "cell_type": "markdown",
   "metadata": {},
   "source": [
    "Suppose that a bus arrives at a bus stop at every 10-minute interval. Passengers arrive at the bus stop and wait for the bus. Assume that the waiting time is uniformly distributed."
   ]
  },
  {
   "cell_type": "code",
   "execution_count": 27,
   "metadata": {},
   "outputs": [],
   "source": [
    "a, b = 0.0, 10.0                    # Waiting time lower and upper bounds\n",
    "x_arr = np.linspace(a, b, 1000)     # Array of values of the random variable (for plotting)"
   ]
  },
  {
   "cell_type": "markdown",
   "metadata": {},
   "source": [
    "#### Q: Plot the probability distribution of the waiting time."
   ]
  },
  {
   "cell_type": "code",
   "execution_count": 28,
   "metadata": {},
   "outputs": [],
   "source": [
    "# Create the continuous uniform distribution\n",
    "unif_dist = stats.uniform(loc=a, scale=b)"
   ]
  },
  {
   "cell_type": "code",
   "execution_count": 29,
   "metadata": {},
   "outputs": [
    {
     "data": {
      "image/png": "[encoded data removed]",
      "text/plain": [
       "<Figure size 500x300 with 1 Axes>"
      ]
     },
     "metadata": {},
     "output_type": "display_data"
    }
   ],
   "source": [
    "# Create a figure and grab the axis handle\n",
    "fig, ax = plt.subplots(1, 1, figsize=(5, 3))\n",
    "\n",
    "# Plot the probability distribution\n",
    "ax.plot(x_arr, unif_dist.pdf(x_arr), 'b-', lw=2)\n",
    "ax.set_xlabel('Waiting time, $X$ (minutes)')\n",
    "ax.set_ylabel('Probability')\n",
    "ax.set_title('Probability distribution of bus waiting time')\n",
    "ax.set_ylim(0, 1.1)\n",
    "ax.grid()\n",
    "plt.show()"
   ]
  },
  {
   "cell_type": "markdown",
   "metadata": {},
   "source": [
    "#### Q: What is the probability that a passenger who arrives at the bus stop will have to wait between 5 and 7 minutes?"
   ]
  },
  {
   "cell_type": "code",
   "execution_count": 30,
   "metadata": {},
   "outputs": [
    {
     "data": {
      "text/plain": [
       "0.2"
      ]
     },
     "execution_count": 30,
     "metadata": {},
     "output_type": "execute_result"
    }
   ],
   "source": [
    "a1, b1 = 5, 7\n",
    "pr = (b1-a1) * unif_dist.pdf(a1)\n",
    "pr"
   ]
  },
  {
   "cell_type": "markdown",
   "metadata": {},
   "source": [
    "### Normal Distribution"
   ]
  },
  {
   "cell_type": "markdown",
   "metadata": {},
   "source": [
    "The time, in minutes, taken by Nicholas to install an optical network unit (ONU) may be assumed to be normally distributed, with a mean of 26 minutes and a standard deviation of 4 minutes."
   ]
  },
  {
   "cell_type": "code",
   "execution_count": 31,
   "metadata": {},
   "outputs": [],
   "source": [
    "mu, sigma = 26, 4\n",
    "x_arr = np.linspace(mu-6*sigma, mu+6*sigma, 1000)   # Array of values of the random variable (for plotting)"
   ]
  },
  {
   "cell_type": "markdown",
   "metadata": {},
   "source": [
    "#### Q: Plot the probability distribution of the installation time."
   ]
  },
  {
   "cell_type": "code",
   "execution_count": 32,
   "metadata": {},
   "outputs": [],
   "source": [
    "# Create the normal distribution\n",
    "norm_dist = stats.norm(loc=mu, scale=sigma)"
   ]
  },
  {
   "cell_type": "markdown",
   "metadata": {},
   "source": [
    "We can confirm that the created distribution indeed has the correct mean and standard deviation."
   ]
  },
  {
   "cell_type": "code",
   "execution_count": 33,
   "metadata": {},
   "outputs": [
    {
     "name": "stdout",
     "output_type": "stream",
     "text": [
      "26.0\n",
      "4.0\n"
     ]
    }
   ],
   "source": [
    "print(norm_dist.mean())\n",
    "print(norm_dist.std())"
   ]
  },
  {
   "cell_type": "code",
   "execution_count": 34,
   "metadata": {},
   "outputs": [
    {
     "data": {
      "image/png": "[encoded data removed]",
      "text/plain": [
       "<Figure size 500x300 with 1 Axes>"
      ]
     },
     "metadata": {},
     "output_type": "display_data"
    }
   ],
   "source": [
    "# Create a figure and grab the axis handle\n",
    "fig, ax = plt.subplots(1, 1, figsize=(5, 3))\n",
    "\n",
    "# Plot the probability distribution\n",
    "ax.plot(x_arr, norm_dist.pdf(x_arr), 'b-', lw=2)\n",
    "ax.set_xlabel('Installation time, $X$ (minutes)')\n",
    "ax.set_ylabel('Probability')\n",
    "ax.set_title('Probability distribution of installation time')\n",
    "ax.grid()\n",
    "plt.show()"
   ]
  },
  {
   "cell_type": "markdown",
   "metadata": {},
   "source": [
    "#### Q: What is the probability that for a random ONU installation, Nicholas takes less than 20 minutes?"
   ]
  },
  {
   "cell_type": "markdown",
   "metadata": {},
   "source": [
    "We want to find $\\mathrm{Pr}\\left(X<20\\right)$."
   ]
  },
  {
   "cell_type": "code",
   "execution_count": 35,
   "metadata": {},
   "outputs": [
    {
     "data": {
      "text/plain": [
       "0.06680720126885806"
      ]
     },
     "execution_count": 35,
     "metadata": {},
     "output_type": "execute_result"
    }
   ],
   "source": [
    "x = 20\n",
    "pr = norm_dist.cdf(x)\n",
    "pr"
   ]
  },
  {
   "cell_type": "markdown",
   "metadata": {},
   "source": [
    "We can also manually calculate this by standardising and using the $z$-statistic:\n",
    "$$\n",
    "    z = \\frac{x-\\mu}{\\sigma},\n",
    "$$\n",
    "and then find $\\mathrm{Pr}\\left(Z<z\\right)$."
   ]
  },
  {
   "cell_type": "code",
   "execution_count": 36,
   "metadata": {},
   "outputs": [
    {
     "data": {
      "text/plain": [
       "0.06680720126885806"
      ]
     },
     "execution_count": 36,
     "metadata": {},
     "output_type": "execute_result"
    }
   ],
   "source": [
    "z = (x-mu) / sigma\n",
    "stats.norm.cdf(z)                   # norm() with default values for `loc` and `scale` is the standard normal distribution"
   ]
  },
  {
   "cell_type": "markdown",
   "metadata": {},
   "source": [
    "#### Q: What is the probability that for a random ONU installation, Nicholas takes more than 30 minutes?"
   ]
  },
  {
   "cell_type": "markdown",
   "metadata": {},
   "source": [
    "We want to find $\\mathrm{Pr}\\left(X>30\\right)=1-\\mathrm{Pr}\\left(X<30\\right)$."
   ]
  },
  {
   "cell_type": "code",
   "execution_count": 37,
   "metadata": {},
   "outputs": [
    {
     "data": {
      "text/plain": [
       "0.15865525393145707"
      ]
     },
     "execution_count": 37,
     "metadata": {},
     "output_type": "execute_result"
    }
   ],
   "source": [
    "x = 30\n",
    "pr = 1 - norm_dist.cdf(x)\n",
    "pr"
   ]
  },
  {
   "cell_type": "markdown",
   "metadata": {},
   "source": [
    "Using the $z$-statistic,"
   ]
  },
  {
   "cell_type": "code",
   "execution_count": 38,
   "metadata": {},
   "outputs": [
    {
     "data": {
      "text/plain": [
       "0.15865525393145707"
      ]
     },
     "execution_count": 38,
     "metadata": {},
     "output_type": "execute_result"
    }
   ],
   "source": [
    "z = (x-mu) / sigma\n",
    "1 - stats.norm.cdf(z)"
   ]
  },
  {
   "cell_type": "markdown",
   "metadata": {},
   "source": [
    "#### Q: What is the probability that for a random ONU installation, Nicholas takes between 16 minutes and 36 minutes?"
   ]
  },
  {
   "cell_type": "markdown",
   "metadata": {},
   "source": [
    "We want to find $\\mathrm{Pr}\\left(16<X<36\\right)$."
   ]
  },
  {
   "cell_type": "code",
   "execution_count": 39,
   "metadata": {},
   "outputs": [
    {
     "data": {
      "text/plain": [
       "0.9875806693484477"
      ]
     },
     "execution_count": 39,
     "metadata": {},
     "output_type": "execute_result"
    }
   ],
   "source": [
    "x1, x2 = 16, 36\n",
    "pr = np.diff(norm_dist.cdf([x1, x2])).item()\n",
    "pr"
   ]
  },
  {
   "cell_type": "markdown",
   "metadata": {},
   "source": [
    "#### Q: What is the ONU installation time exceeded by 10% of installations (i.e., only 10% of the installation times exceed this value)?"
   ]
  },
  {
   "cell_type": "code",
   "execution_count": 40,
   "metadata": {},
   "outputs": [
    {
     "data": {
      "text/plain": [
       "31.1262062621784"
      ]
     },
     "execution_count": 40,
     "metadata": {},
     "output_type": "execute_result"
    }
   ],
   "source": [
    "pr = 0.1\n",
    "norm_dist.ppf(1-pr)"
   ]
  },
  {
   "cell_type": "markdown",
   "metadata": {},
   "source": [
    "## Summary"
   ]
  },
  {
   "cell_type": "markdown",
   "metadata": {},
   "source": [
    "In this lesson, we covered how to analyse, apply, and plot discrete probability distributions including\n",
    "- Generic distributions\n",
    "- Binomial distribution\n",
    "\n",
    "and continuous probability distributions including\n",
    "- Uniform distribution\n",
    "- Normal distribution"
   ]
  }
 ],
 "metadata": {
  "kernelspec": {
   "display_name": "Python 3",
   "language": "python",
   "name": "python3"
  },
  "language_info": {
   "codemirror_mode": {
    "name": "ipython",
    "version": 3
   },
   "file_extension": ".py",
   "mimetype": "text/x-python",
   "name": "python",
   "nbconvert_exporter": "python",
   "pygments_lexer": "ipython3",
   "version": "3.12.1"
  },
  "orig_nbformat": 4
 },
 "nbformat": 4,
 "nbformat_minor": 2
}
